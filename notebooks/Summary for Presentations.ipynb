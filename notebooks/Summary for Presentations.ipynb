{
 "cells": [
  {
   "cell_type": "code",
   "execution_count": 1,
   "metadata": {},
   "outputs": [
    {
     "name": "stderr",
     "output_type": "stream",
     "text": [
      "┌ Info: Recompiling stale cache file /Users/davidlittle/.julia/compiled/v1.0/RCall/8GFyb.ji for RCall [6f49c342-dc21-5d91-9882-a32aef131414]\n",
      "└ @ Base loading.jl:1190\n",
      "┌ Warning: Package RCall does not have AxisArrays in its dependencies:\n",
      "│ - If you have RCall checked out for development and have\n",
      "│   added AxisArrays as a dependency but haven't updated your primary\n",
      "│   environment's manifest file, try `Pkg.resolve()`.\n",
      "│ - Otherwise you may need to report an issue with RCall\n",
      "│ Loading AxisArrays into RCall from project dependency, future warnings for RCall are suppressed.\n",
      "└ @ nothing nothing:840\n",
      "┌ Info: Recompiling stale cache file /Users/davidlittle/.julia/compiled/v1.0/DataFramesMeta/2xRTO.ji for DataFramesMeta [1313f7d8-7da2-5740-9ea0-a2ca25f37964]\n",
      "└ @ Base loading.jl:1190\n",
      "┌ Info: Recompiling stale cache file /Users/davidlittle/.julia/compiled/v1.0/CSV/HHBkp.ji for CSV [336ed68f-0bac-5ca0-87d4-7b16caf5d00b]\n",
      "└ @ Base loading.jl:1190\n",
      "┌ Info: Recompiling stale cache file /Users/davidlittle/.julia/compiled/v1.0/AuditoryBistabilityLE/RqG8S.ji for AuditoryBistabilityLE [7e25a372-ade5-11e8-17af-a30e5a9e2c28]\n",
      "└ @ Base loading.jl:1190\n"
     ]
    },
    {
     "data": {
      "text/html": [
       "<script charset=\"utf-8\" type='text/javascript'>\n",
       "/*! wavesurfer.js 1.2.1 (Sat, 01 Oct 2016 09:49:34 GMT)\n",
       "* https://github.com/katspaugh/wavesurfer.js\n",
       "* @license CC-BY-3.0 */\n",
       "!function(a,b){\"function\"==typeof define&&define.amd?define(\"wavesurfer\",[],function(){return a.WaveSurfer=b()}):\"object\"==typeof exports?module.exports=b():a.WaveSurfer=b()}(this,function(){\"use strict\";var a={defaultParams:{height:128,waveColor:\"#999\",progressColor:\"#555\",cursorColor:\"#333\",cursorWidth:1,skipLength:2,minPxPerSec:20,pixelRatio:window.devicePixelRatio||screen.deviceXDPI/screen.logicalXDPI,fillParent:!0,scrollParent:!1,hideScrollbar:!1,normalize:!1,audioContext:null,container:null,dragSelection:!0,loopSelection:!0,audioRate:1,interact:!0,splitChannels:!1,mediaContainer:null,mediaControls:!1,renderer:\"Canvas\",backend:\"WebAudio\",mediaType:\"audio\",autoCenter:!0},init:function(b){if(this.params=a.util.extend({},this.defaultParams,b),this.container=\"string\"==typeof b.container?document.querySelector(this.params.container):this.params.container,!this.container)throw new Error(\"Container element not found\");if(null==this.params.mediaContainer?this.mediaContainer=this.container:\"string\"==typeof this.params.mediaContainer?this.mediaContainer=document.querySelector(this.params.mediaContainer):this.mediaContainer=this.params.mediaContainer,!this.mediaContainer)throw new Error(\"Media Container element not found\");this.savedVolume=0,this.isMuted=!1,this.tmpEvents=[],this.currentAjax=null,this.createDrawer(),this.createBackend(),this.isDestroyed=!1},createDrawer:function(){var b=this;this.drawer=Object.create(a.Drawer[this.params.renderer]),this.drawer.init(this.container,this.params),this.drawer.on(\"redraw\",function(){b.drawBuffer(),b.drawer.progress(b.backend.getPlayedPercents())}),this.drawer.on(\"click\",function(a,c){setTimeout(function(){b.seekTo(c)},0)}),this.drawer.on(\"scroll\",function(a){b.fireEvent(\"scroll\",a)})},createBackend:function(){var b=this;this.backend&&this.backend.destroy(),\"AudioElement\"==this.params.backend&&(this.params.backend=\"MediaElement\"),\"WebAudio\"!=this.params.backend||a.WebAudio.supportsWebAudio()||(this.params.backend=\"MediaElement\"),this.backend=Object.create(a[this.params.backend]),this.backend.init(this.params),this.backend.on(\"finish\",function(){b.fireEvent(\"finish\")}),this.backend.on(\"play\",function(){b.fireEvent(\"play\")}),this.backend.on(\"pause\",function(){b.fireEvent(\"pause\")}),this.backend.on(\"audioprocess\",function(a){b.drawer.progress(b.backend.getPlayedPercents()),b.fireEvent(\"audioprocess\",a)})},getDuration:function(){return this.backend.getDuration()},getCurrentTime:function(){return this.backend.getCurrentTime()},play:function(a,b){this.fireEvent(\"interaction\",this.play.bind(this,a,b)),this.backend.play(a,b)},pause:function(){this.backend.pause()},playPause:function(){this.backend.isPaused()?this.play():this.pause()},isPlaying:function(){return!this.backend.isPaused()},skipBackward:function(a){this.skip(-a||-this.params.skipLength)},skipForward:function(a){this.skip(a||this.params.skipLength)},skip:function(a){var b=this.getCurrentTime()||0,c=this.getDuration()||1;b=Math.max(0,Math.min(c,b+(a||0))),this.seekAndCenter(b/c)},seekAndCenter:function(a){this.seekTo(a),this.drawer.recenter(a)},seekTo:function(a){this.fireEvent(\"interaction\",this.seekTo.bind(this,a));var b=this.backend.isPaused(),c=this.params.scrollParent;b&&(this.params.scrollParent=!1),this.backend.seekTo(a*this.getDuration()),this.drawer.progress(this.backend.getPlayedPercents()),b||(this.backend.pause(),this.backend.play()),this.params.scrollParent=c,this.fireEvent(\"seek\",a)},stop:function(){this.pause(),this.seekTo(0),this.drawer.progress(0)},setVolume:function(a){this.backend.setVolume(a)},setPlaybackRate:function(a){this.backend.setPlaybackRate(a)},toggleMute:function(){this.isMuted?(this.backend.setVolume(this.savedVolume),this.isMuted=!1):(this.savedVolume=this.backend.getVolume(),this.backend.setVolume(0),this.isMuted=!0)},toggleScroll:function(){this.params.scrollParent=!this.params.scrollParent,this.drawBuffer()},toggleInteraction:function(){this.params.interact=!this.params.interact},drawBuffer:function(){var a=Math.round(this.getDuration()*this.params.minPxPerSec*this.params.pixelRatio),b=this.drawer.getWidth(),c=a;this.params.fillParent&&(!this.params.scrollParent||a<b)&&(c=b);var d=this.backend.getPeaks(c);this.drawer.drawPeaks(d,c),this.fireEvent(\"redraw\",d,c)},zoom:function(a){this.params.minPxPerSec=a,this.params.scrollParent=!0,this.drawBuffer(),this.drawer.progress(this.backend.getPlayedPercents()),this.drawer.recenter(this.getCurrentTime()/this.getDuration()),this.fireEvent(\"zoom\",a)},loadArrayBuffer:function(a){this.decodeArrayBuffer(a,function(a){this.isDestroyed||this.loadDecodedBuffer(a)}.bind(this))},loadDecodedBuffer:function(a){this.backend.load(a),this.drawBuffer(),this.fireEvent(\"ready\")},loadBlob:function(a){var b=this,c=new FileReader;c.addEventListener(\"progress\",function(a){b.onProgress(a)}),c.addEventListener(\"load\",function(a){b.loadArrayBuffer(a.target.result)}),c.addEventListener(\"error\",function(){b.fireEvent(\"error\",\"Error reading file\")}),c.readAsArrayBuffer(a),this.empty()},load:function(a,b){switch(this.empty(),this.params.backend){case\"WebAudio\":return this.loadBuffer(a,b);case\"MediaElement\":return this.loadMediaElement(a,b)}},loadBuffer:function(a,b){var c=function(b){return b&&this.tmpEvents.push(this.once(\"ready\",b)),this.getArrayBuffer(a,this.loadArrayBuffer.bind(this))}.bind(this);return b?(this.backend.setPeaks(b),this.drawBuffer(),this.tmpEvents.push(this.once(\"interaction\",c)),void 0):c()},loadMediaElement:function(a,b){var c=a;if(\"string\"==typeof a)this.backend.load(c,this.mediaContainer,b);else{var d=a;this.backend.loadElt(d,b),c=d.src}this.tmpEvents.push(this.backend.once(\"canplay\",function(){this.drawBuffer(),this.fireEvent(\"ready\")}.bind(this)),this.backend.once(\"error\",function(a){this.fireEvent(\"error\",a)}.bind(this))),b?this.backend.setPeaks(b):this.backend.supportsWebAudio()&&this.getArrayBuffer(c,function(a){this.decodeArrayBuffer(a,function(a){this.backend.buffer=a,this.drawBuffer()}.bind(this))}.bind(this))},decodeArrayBuffer:function(a,b){this.arraybuffer=a,this.backend.decodeArrayBuffer(a,function(c){this.isDestroyed||this.arraybuffer!=a||(b(c),this.arraybuffer=null)}.bind(this),this.fireEvent.bind(this,\"error\",\"Error decoding audiobuffer\"))},getArrayBuffer:function(b,c){var d=this,e=a.util.ajax({url:b,responseType:\"arraybuffer\"});return this.currentAjax=e,this.tmpEvents.push(e.on(\"progress\",function(a){d.onProgress(a)}),e.on(\"success\",function(a,b){c(a),d.currentAjax=null}),e.on(\"error\",function(a){d.fireEvent(\"error\",\"XHR error: \"+a.target.statusText),d.currentAjax=null})),e},onProgress:function(a){if(a.lengthComputable)var b=a.loaded/a.total;else b=a.loaded/(a.loaded+1e6);this.fireEvent(\"loading\",Math.round(100*b),a.target)},exportPCM:function(a,b,c){a=a||1024,b=b||1e4,c=c||!1;var d=this.backend.getPeaks(a,b),e=[].map.call(d,function(a){return Math.round(a*b)/b}),f=JSON.stringify(e);return c||window.open(\"data:application/json;charset=utf-8,\"+encodeURIComponent(f)),f},exportImage:function(a,b){return a||(a=\"image/png\"),b||(b=1),this.drawer.getImage(a,b)},cancelAjax:function(){this.currentAjax&&(this.currentAjax.xhr.abort(),this.currentAjax=null)},clearTmpEvents:function(){this.tmpEvents.forEach(function(a){a.un()})},empty:function(){this.backend.isPaused()||(this.stop(),this.backend.disconnectSource()),this.cancelAjax(),this.clearTmpEvents(),this.drawer.progress(0),this.drawer.setWidth(0),this.drawer.drawPeaks({length:this.drawer.getWidth()},0)},destroy:function(){this.fireEvent(\"destroy\"),this.cancelAjax(),this.clearTmpEvents(),this.unAll(),this.backend.destroy(),this.drawer.destroy(),this.isDestroyed=!0}};return a.create=function(b){var c=Object.create(a);return c.init(b),c},a.util={extend:function(a){var b=Array.prototype.slice.call(arguments,1);return b.forEach(function(b){Object.keys(b).forEach(function(c){a[c]=b[c]})}),a},min:function(a){var b=+(1/0);for(var c in a)a[c]<b&&(b=a[c]);return b},max:function(a){var b=-(1/0);for(var c in a)a[c]>b&&(b=a[c]);return b},getId:function(){return\"wavesurfer_\"+Math.random().toString(32).substring(2)},ajax:function(b){var c=Object.create(a.Observer),d=new XMLHttpRequest,e=!1;return d.open(b.method||\"GET\",b.url,!0),d.responseType=b.responseType||\"json\",d.addEventListener(\"progress\",function(a){c.fireEvent(\"progress\",a),a.lengthComputable&&a.loaded==a.total&&(e=!0)}),d.addEventListener(\"load\",function(a){e||c.fireEvent(\"progress\",a),c.fireEvent(\"load\",a),200==d.status||206==d.status?c.fireEvent(\"success\",d.response,a):c.fireEvent(\"error\",a)}),d.addEventListener(\"error\",function(a){c.fireEvent(\"error\",a)}),d.send(),c.xhr=d,c}},a.Observer={on:function(a,b){this.handlers||(this.handlers={});var c=this.handlers[a];return c||(c=this.handlers[a]=[]),c.push(b),{name:a,callback:b,un:this.un.bind(this,a,b)}},un:function(a,b){if(this.handlers){var c=this.handlers[a];if(c)if(b)for(var d=c.length-1;d>=0;d--)c[d]==b&&c.splice(d,1);else c.length=0}},unAll:function(){this.handlers=null},once:function(a,b){var c=this,d=function(){b.apply(this,arguments),setTimeout(function(){c.un(a,d)},0)};return this.on(a,d)},fireEvent:function(a){if(this.handlers){var b=this.handlers[a],c=Array.prototype.slice.call(arguments,1);b&&b.forEach(function(a){a.apply(null,c)})}}},a.util.extend(a,a.Observer),a.WebAudio={scriptBufferSize:256,PLAYING_STATE:0,PAUSED_STATE:1,FINISHED_STATE:2,supportsWebAudio:function(){return!(!window.AudioContext&&!window.webkitAudioContext)},getAudioContext:function(){return a.WebAudio.audioContext||(a.WebAudio.audioContext=new(window.AudioContext||window.webkitAudioContext)),a.WebAudio.audioContext},getOfflineAudioContext:function(b){return a.WebAudio.offlineAudioContext||(a.WebAudio.offlineAudioContext=new(window.OfflineAudioContext||window.webkitOfflineAudioContext)(1,2,b)),a.WebAudio.offlineAudioContext},init:function(b){this.params=b,this.ac=b.audioContext||this.getAudioContext(),this.lastPlay=this.ac.currentTime,this.startPosition=0,this.scheduledPause=null,this.states=[Object.create(a.WebAudio.state.playing),Object.create(a.WebAudio.state.paused),Object.create(a.WebAudio.state.finished)],this.createVolumeNode(),this.createScriptNode(),this.createAnalyserNode(),this.setState(this.PAUSED_STATE),this.setPlaybackRate(this.params.audioRate)},disconnectFilters:function(){this.filters&&(this.filters.forEach(function(a){a&&a.disconnect()}),this.filters=null,this.analyser.connect(this.gainNode))},setState:function(a){this.state!==this.states[a]&&(this.state=this.states[a],this.state.init.call(this))},setFilter:function(){this.setFilters([].slice.call(arguments))},setFilters:function(a){this.disconnectFilters(),a&&a.length&&(this.filters=a,this.analyser.disconnect(),a.reduce(function(a,b){return a.connect(b),b},this.analyser).connect(this.gainNode))},createScriptNode:function(){this.ac.createScriptProcessor?this.scriptNode=this.ac.createScriptProcessor(this.scriptBufferSize):this.scriptNode=this.ac.createJavaScriptNode(this.scriptBufferSize),this.scriptNode.connect(this.ac.destination)},addOnAudioProcess:function(){var a=this;this.scriptNode.onaudioprocess=function(){var b=a.getCurrentTime();b>=a.getDuration()?(a.setState(a.FINISHED_STATE),a.fireEvent(\"pause\")):b>=a.scheduledPause?a.pause():a.state===a.states[a.PLAYING_STATE]&&a.fireEvent(\"audioprocess\",b)}},removeOnAudioProcess:function(){this.scriptNode.onaudioprocess=null},createAnalyserNode:function(){this.analyser=this.ac.createAnalyser(),this.analyser.connect(this.gainNode)},createVolumeNode:function(){this.ac.createGain?this.gainNode=this.ac.createGain():this.gainNode=this.ac.createGainNode(),this.gainNode.connect(this.ac.destination)},setVolume:function(a){this.gainNode.gain.value=a},getVolume:function(){return this.gainNode.gain.value},decodeArrayBuffer:function(a,b,c){this.offlineAc||(this.offlineAc=this.getOfflineAudioContext(this.ac?this.ac.sampleRate:44100)),this.offlineAc.decodeAudioData(a,function(a){b(a)}.bind(this),c)},setPeaks:function(a){this.peaks=a},getPeaks:function(a){if(this.peaks)return this.peaks;for(var b=this.buffer.length/a,c=~~(b/10)||1,d=this.buffer.numberOfChannels,e=[],f=[],g=0;g<d;g++)for(var h=e[g]=[],i=this.buffer.getChannelData(g),j=0;j<a;j++){for(var k=~~(j*b),l=~~(k+b),m=0,n=0,o=k;o<l;o+=c){var p=i[o];p>n&&(n=p),p<m&&(m=p)}h[2*j]=n,h[2*j+1]=m,(0==g||n>f[2*j])&&(f[2*j]=n),(0==g||m<f[2*j+1])&&(f[2*j+1]=m)}return this.params.splitChannels?e:f},getPlayedPercents:function(){return this.state.getPlayedPercents.call(this)},disconnectSource:function(){this.source&&this.source.disconnect()},destroy:function(){this.isPaused()||this.pause(),this.unAll(),this.buffer=null,this.disconnectFilters(),this.disconnectSource(),this.gainNode.disconnect(),this.scriptNode.disconnect(),this.analyser.disconnect()},load:function(a){this.startPosition=0,this.lastPlay=this.ac.currentTime,this.buffer=a,this.createSource()},createSource:function(){this.disconnectSource(),this.source=this.ac.createBufferSource(),this.source.start=this.source.start||this.source.noteGrainOn,this.source.stop=this.source.stop||this.source.noteOff,this.source.playbackRate.value=this.playbackRate,this.source.buffer=this.buffer,this.source.connect(this.analyser)},isPaused:function(){return this.state!==this.states[this.PLAYING_STATE]},getDuration:function(){return this.buffer?this.buffer.duration:0},seekTo:function(a,b){if(this.buffer)return this.scheduledPause=null,null==a&&(a=this.getCurrentTime(),a>=this.getDuration()&&(a=0)),null==b&&(b=this.getDuration()),this.startPosition=a,this.lastPlay=this.ac.currentTime,this.state===this.states[this.FINISHED_STATE]&&this.setState(this.PAUSED_STATE),{start:a,end:b}},getPlayedTime:function(){return(this.ac.currentTime-this.lastPlay)*this.playbackRate},play:function(a,b){if(this.buffer){this.createSource();var c=this.seekTo(a,b);a=c.start,b=c.end,this.scheduledPause=b,this.source.start(0,a,b-a),this.setState(this.PLAYING_STATE),this.fireEvent(\"play\")}},pause:function(){this.scheduledPause=null,this.startPosition+=this.getPlayedTime(),this.source&&this.source.stop(0),this.setState(this.PAUSED_STATE),this.fireEvent(\"pause\")},getCurrentTime:function(){return this.state.getCurrentTime.call(this)},setPlaybackRate:function(a){a=a||1,this.isPaused()?this.playbackRate=a:(this.pause(),this.playbackRate=a,this.play())}},a.WebAudio.state={},a.WebAudio.state.playing={init:function(){this.addOnAudioProcess()},getPlayedPercents:function(){var a=this.getDuration();return this.getCurrentTime()/a||0},getCurrentTime:function(){return this.startPosition+this.getPlayedTime()}},a.WebAudio.state.paused={init:function(){this.removeOnAudioProcess()},getPlayedPercents:function(){var a=this.getDuration();return this.getCurrentTime()/a||0},getCurrentTime:function(){return this.startPosition}},a.WebAudio.state.finished={init:function(){this.removeOnAudioProcess(),this.fireEvent(\"finish\")},getPlayedPercents:function(){return 1},getCurrentTime:function(){return this.getDuration()}},a.util.extend(a.WebAudio,a.Observer),a.MediaElement=Object.create(a.WebAudio),a.util.extend(a.MediaElement,{init:function(a){this.params=a,this.media={currentTime:0,duration:0,paused:!0,playbackRate:1,play:function(){},pause:function(){}},this.mediaType=a.mediaType.toLowerCase(),this.elementPosition=a.elementPosition,this.setPlaybackRate(this.params.audioRate),this.createTimer()},createTimer:function(){var a=this,b=function(){if(!a.isPaused()){a.fireEvent(\"audioprocess\",a.getCurrentTime());var c=window.requestAnimationFrame||window.webkitRequestAnimationFrame;c(b)}};this.on(\"play\",b)},load:function(a,b,c){var d=document.createElement(this.mediaType);d.controls=this.params.mediaControls,d.autoplay=this.params.autoplay||!1,d.preload=\"auto\",d.src=a,d.style.width=\"100%\";var e=b.querySelector(this.mediaType);e&&b.removeChild(e),b.appendChild(d),this._load(d,c)},loadElt:function(a,b){var c=a;c.controls=this.params.mediaControls,c.autoplay=this.params.autoplay||!1,this._load(c,b)},_load:function(a,b){var c=this;a.load(),a.addEventListener(\"error\",function(){c.fireEvent(\"error\",\"Error loading media element\")}),a.addEventListener(\"canplay\",function(){c.fireEvent(\"canplay\")}),a.addEventListener(\"ended\",function(){c.fireEvent(\"finish\")}),this.media=a,this.peaks=b,this.onPlayEnd=null,this.buffer=null,this.setPlaybackRate(this.playbackRate)},isPaused:function(){return!this.media||this.media.paused},getDuration:function(){var a=this.media.duration;return a>=1/0&&(a=this.media.seekable.end(0)),a},getCurrentTime:function(){return this.media&&this.media.currentTime},getPlayedPercents:function(){return this.getCurrentTime()/this.getDuration()||0},setPlaybackRate:function(a){this.playbackRate=a||1,this.media.playbackRate=this.playbackRate},seekTo:function(a){null!=a&&(this.media.currentTime=a),this.clearPlayEnd()},play:function(a,b){this.seekTo(a),this.media.play(),b&&this.setPlayEnd(b),this.fireEvent(\"play\")},pause:function(){this.media&&this.media.pause(),this.clearPlayEnd(),this.fireEvent(\"pause\")},setPlayEnd:function(a){var b=this;this.onPlayEnd=function(c){c>=a&&(b.pause(),b.seekTo(a))},this.on(\"audioprocess\",this.onPlayEnd)},clearPlayEnd:function(){this.onPlayEnd&&(this.un(\"audioprocess\",this.onPlayEnd),this.onPlayEnd=null)},getPeaks:function(b){return this.buffer?a.WebAudio.getPeaks.call(this,b):this.peaks||[]},getVolume:function(){return this.media.volume},setVolume:function(a){this.media.volume=a},destroy:function(){this.pause(),this.unAll(),this.media&&this.media.parentNode&&this.media.parentNode.removeChild(this.media),this.media=null}}),a.AudioElement=a.MediaElement,a.Drawer={init:function(a,b){this.container=a,this.params=b,this.width=0,this.height=b.height*this.params.pixelRatio,this.lastPos=0,this.initDrawer(b),this.createWrapper(),this.createElements()},createWrapper:function(){this.wrapper=this.container.appendChild(document.createElement(\"wave\")),this.style(this.wrapper,{display:\"block\",position:\"relative\",userSelect:\"none\",webkitUserSelect:\"none\",height:this.params.height+\"px\"}),(this.params.fillParent||this.params.scrollParent)&&this.style(this.wrapper,{width:\"100%\",overflowX:this.params.hideScrollbar?\"hidden\":\"auto\",overflowY:\"hidden\"}),this.setupWrapperEvents()},handleEvent:function(a,b){!b&&a.preventDefault();var c,d=a.targetTouches?a.targetTouches[0].clientX:a.clientX,e=this.wrapper.getBoundingClientRect(),f=this.width,g=this.getWidth();return!this.params.fillParent&&f<g?(c=(d-e.left)*this.params.pixelRatio/f||0,c>1&&(c=1)):c=(d-e.left+this.wrapper.scrollLeft)/this.wrapper.scrollWidth||0,c},setupWrapperEvents:function(){var a=this;this.wrapper.addEventListener(\"click\",function(b){var c=a.wrapper.offsetHeight-a.wrapper.clientHeight;if(0!=c){var d=a.wrapper.getBoundingClientRect();if(b.clientY>=d.bottom-c)return}a.params.interact&&a.fireEvent(\"click\",b,a.handleEvent(b))}),this.wrapper.addEventListener(\"scroll\",function(b){a.fireEvent(\"scroll\",b)})},drawPeaks:function(a,b){this.resetScroll(),this.setWidth(b),this.params.barWidth?this.drawBars(a):this.drawWave(a)},style:function(a,b){return Object.keys(b).forEach(function(c){a.style[c]!==b[c]&&(a.style[c]=b[c])}),a},resetScroll:function(){null!==this.wrapper&&(this.wrapper.scrollLeft=0)},recenter:function(a){var b=this.wrapper.scrollWidth*a;this.recenterOnPosition(b,!0)},recenterOnPosition:function(a,b){var c=this.wrapper.scrollLeft,d=~~(this.wrapper.clientWidth/2),e=a-d,f=e-c,g=this.wrapper.scrollWidth-this.wrapper.clientWidth;if(0!=g){if(!b&&-d<=f&&f<d){var h=5;f=Math.max(-h,Math.min(h,f)),e=c+f}e=Math.max(0,Math.min(g,e)),e!=c&&(this.wrapper.scrollLeft=e)}},getWidth:function(){return Math.round(this.container.clientWidth*this.params.pixelRatio)},setWidth:function(a){this.width=a,this.params.fillParent||this.params.scrollParent?this.style(this.wrapper,{width:\"\"}):this.style(this.wrapper,{width:~~(this.width/this.params.pixelRatio)+\"px\"}),this.updateSize()},setHeight:function(a){a!=this.height&&(this.height=a,this.style(this.wrapper,{height:~~(this.height/this.params.pixelRatio)+\"px\"}),this.updateSize())},progress:function(a){var b=1/this.params.pixelRatio,c=Math.round(a*this.width)*b;if(c<this.lastPos||c-this.lastPos>=b){if(this.lastPos=c,this.params.scrollParent&&this.params.autoCenter){var d=~~(this.wrapper.scrollWidth*a);this.recenterOnPosition(d)}this.updateProgress(a)}},destroy:function(){this.unAll(),this.wrapper&&(this.container.removeChild(this.wrapper),this.wrapper=null)},initDrawer:function(){},createElements:function(){},updateSize:function(){},drawWave:function(a,b){},clearWave:function(){},updateProgress:function(a){}},a.util.extend(a.Drawer,a.Observer),a.Drawer.Canvas=Object.create(a.Drawer),a.util.extend(a.Drawer.Canvas,{createElements:function(){var a=this.wrapper.appendChild(this.style(document.createElement(\"canvas\"),{position:\"absolute\",zIndex:1,left:0,top:0,bottom:0}));if(this.waveCc=a.getContext(\"2d\"),this.progressWave=this.wrapper.appendChild(this.style(document.createElement(\"wave\"),{position:\"absolute\",zIndex:2,left:0,top:0,bottom:0,overflow:\"hidden\",width:\"0\",display:\"none\",boxSizing:\"border-box\",borderRightStyle:\"solid\",borderRightWidth:this.params.cursorWidth+\"px\",borderRightColor:this.params.cursorColor})),this.params.waveColor!=this.params.progressColor){var b=this.progressWave.appendChild(document.createElement(\"canvas\"));this.progressCc=b.getContext(\"2d\")}},updateSize:function(){var a=Math.round(this.width/this.params.pixelRatio);this.waveCc.canvas.width=this.width,this.waveCc.canvas.height=this.height,this.style(this.waveCc.canvas,{width:a+\"px\"}),this.style(this.progressWave,{display:\"block\"}),this.progressCc&&(this.progressCc.canvas.width=this.width,this.progressCc.canvas.height=this.height,this.style(this.progressCc.canvas,{width:a+\"px\"})),this.clearWave()},clearWave:function(){this.waveCc.clearRect(0,0,this.width,this.height),this.progressCc&&this.progressCc.clearRect(0,0,this.width,this.height)},drawBars:function(b,c){if(b[0]instanceof Array){var d=b;if(this.params.splitChannels)return this.setHeight(d.length*this.params.height*this.params.pixelRatio),void d.forEach(this.drawBars,this);b=d[0]}var e=[].some.call(b,function(a){return a<0});e&&(b=[].filter.call(b,function(a,b){return b%2==0}));var f=.5/this.params.pixelRatio,g=this.width,h=this.params.height*this.params.pixelRatio,i=h*c||0,j=h/2,k=b.length,l=this.params.barWidth*this.params.pixelRatio,m=Math.max(this.params.pixelRatio,~~(l/2)),n=l+m,o=1;this.params.normalize&&(o=a.util.max(b));var p=k/g;this.waveCc.fillStyle=this.params.waveColor,this.progressCc&&(this.progressCc.fillStyle=this.params.progressColor),[this.waveCc,this.progressCc].forEach(function(a){if(a)for(var c=0;c<g;c+=n){var d=Math.round(b[Math.floor(c*p)]/o*j);a.fillRect(c+f,j-d+i,l+f,2*d)}},this)},drawWave:function(b,c){if(b[0]instanceof Array){var d=b;if(this.params.splitChannels)return this.setHeight(d.length*this.params.height*this.params.pixelRatio),void d.forEach(this.drawWave,this);b=d[0]}var e=[].some.call(b,function(a){return a<0});if(!e){for(var f=[],g=0,h=b.length;g<h;g++)f[2*g]=b[g],f[2*g+1]=-b[g];b=f}var i=.5/this.params.pixelRatio,j=this.params.height*this.params.pixelRatio,k=j*c||0,l=j/2,m=~~(b.length/2),n=1;this.params.fillParent&&this.width!=m&&(n=this.width/m);var o=1;if(this.params.normalize){var p=a.util.max(b),q=a.util.min(b);o=-q>p?-q:p}this.waveCc.fillStyle=this.params.waveColor,this.progressCc&&(this.progressCc.fillStyle=this.params.progressColor),[this.waveCc,this.progressCc].forEach(function(a){if(a){a.beginPath(),a.moveTo(i,l+k);for(var c=0;c<m;c++){var d=Math.round(b[2*c]/o*l);a.lineTo(c*n+i,l-d+k)}for(var c=m-1;c>=0;c--){var d=Math.round(b[2*c+1]/o*l);a.lineTo(c*n+i,l-d+k)}a.closePath(),a.fill(),a.fillRect(0,l+k-i,this.width,i)}},this)},updateProgress:function(a){var b=Math.round(this.width*a)/this.params.pixelRatio;this.style(this.progressWave,{width:b+\"px\"})},getImage:function(a,b){return this.waveCc.canvas.toDataURL(a,b)}}),a.Drawer.MultiCanvas=Object.create(a.Drawer),a.util.extend(a.Drawer.MultiCanvas,{initDrawer:function(a){if(this.maxCanvasWidth=null!=a.maxCanvasWidth?a.maxCanvasWidth:4e3,this.maxCanvasElementWidth=Math.round(this.maxCanvasWidth/this.params.pixelRatio),this.maxCanvasWidth<=1)throw\"maxCanvasWidth must be greater than 1.\";if(this.maxCanvasWidth%2==1)throw\"maxCanvasWidth must be an even number.\";this.hasProgressCanvas=this.params.waveColor!=this.params.progressColor,this.halfPixel=.5/this.params.pixelRatio,this.canvases=[]},createElements:function(){this.progressWave=this.wrapper.appendChild(this.style(document.createElement(\"wave\"),{position:\"absolute\",zIndex:2,left:0,top:0,bottom:0,overflow:\"hidden\",width:\"0\",display:\"none\",boxSizing:\"border-box\",borderRightStyle:\"solid\",borderRightWidth:this.params.cursorWidth+\"px\",borderRightColor:this.params.cursorColor})),this.addCanvas()},updateSize:function(){for(var a=Math.round(this.width/this.params.pixelRatio),b=Math.ceil(a/this.maxCanvasElementWidth);this.canvases.length<b;)this.addCanvas();for(;this.canvases.length>b;)this.removeCanvas();for(var c in this.canvases){var d=this.maxCanvasWidth+2*Math.ceil(this.params.pixelRatio/2);c==this.canvases.length-1&&(d=this.width-this.maxCanvasWidth*(this.canvases.length-1)),this.updateDimensions(this.canvases[c],d,this.height),this.clearWaveForEntry(this.canvases[c])}},addCanvas:function(){var a={},b=this.maxCanvasElementWidth*this.canvases.length;a.wave=this.wrapper.appendChild(this.style(document.createElement(\"canvas\"),{position:\"absolute\",zIndex:1,left:b+\"px\",top:0,bottom:0})),a.waveCtx=a.wave.getContext(\"2d\"),this.hasProgressCanvas&&(a.progress=this.progressWave.appendChild(this.style(document.createElement(\"canvas\"),{position:\"absolute\",left:b+\"px\",top:0,bottom:0})),a.progressCtx=a.progress.getContext(\"2d\")),this.canvases.push(a)},removeCanvas:function(){var a=this.canvases.pop();a.wave.parentElement.removeChild(a.wave),this.hasProgressCanvas&&a.progress.parentElement.removeChild(a.progress)},updateDimensions:function(a,b,c){var d=Math.round(b/this.params.pixelRatio),e=Math.round(this.width/this.params.pixelRatio);a.start=a.waveCtx.canvas.offsetLeft/e||0,a.end=a.start+d/e,a.waveCtx.canvas.width=b,a.waveCtx.canvas.height=c,this.style(a.waveCtx.canvas,{width:d+\"px\"}),this.style(this.progressWave,{display:\"block\"}),this.hasProgressCanvas&&(a.progressCtx.canvas.width=b,a.progressCtx.canvas.height=c,this.style(a.progressCtx.canvas,{width:d+\"px\"}))},clearWave:function(){for(var a in this.canvases)this.clearWaveForEntry(this.canvases[a])},clearWaveForEntry:function(a){a.waveCtx.clearRect(0,0,a.waveCtx.canvas.width,a.waveCtx.canvas.height),this.hasProgressCanvas&&a.progressCtx.clearRect(0,0,a.progressCtx.canvas.width,a.progressCtx.canvas.height)},drawBars:function(b,c){if(b[0]instanceof Array){var d=b;if(this.params.splitChannels)return this.setHeight(d.length*this.params.height*this.params.pixelRatio),void d.forEach(this.drawBars,this);b=d[0]}var e=[].some.call(b,function(a){return a<0});e&&(b=[].filter.call(b,function(a,b){return b%2==0}));var f=this.width,g=this.params.height*this.params.pixelRatio,h=g*c||0,i=g/2,j=b.length,k=this.params.barWidth*this.params.pixelRatio,l=Math.max(this.params.pixelRatio,~~(k/2)),m=k+l,n=1;this.params.normalize&&(n=a.util.max(b));for(var o=j/f,p=0;p<f;p+=m){var q=Math.round(b[Math.floor(p*o)]/n*i);this.fillRect(p+this.halfPixel,i-q+h,k+this.halfPixel,2*q)}},drawWave:function(b,c){if(b[0]instanceof Array){var d=b;if(this.params.splitChannels)return this.setHeight(d.length*this.params.height*this.params.pixelRatio),void d.forEach(this.drawWave,this);b=d[0]}var e=[].some.call(b,function(a){return a<0});if(!e){for(var f=[],g=0,h=b.length;g<h;g++)f[2*g]=b[g],f[2*g+1]=-b[g];b=f}var i=this.params.height*this.params.pixelRatio,j=i*c||0,k=i/2,l=1;if(this.params.normalize){var m=a.util.max(b),n=a.util.min(b);l=-n>m?-n:m}this.drawLine(b,l,k,j),this.fillRect(0,k+j-this.halfPixel,this.width,this.halfPixel)},drawLine:function(a,b,c,d){for(var e in this.canvases){var f=this.canvases[e];this.setFillStyles(f),this.drawLineToContext(f,f.waveCtx,a,b,c,d),this.drawLineToContext(f,f.progressCtx,a,b,c,d)}},drawLineToContext:function(a,b,c,d,e,f){if(b){var g=c.length/2,h=1;this.params.fillParent&&this.width!=g&&(h=this.width/g);var i=Math.round(g*a.start),j=Math.round(g*a.end);b.beginPath(),b.moveTo(this.halfPixel,e+f);for(var k=i;k<j;k++){var l=Math.round(c[2*k]/d*e);b.lineTo((k-i)*h+this.halfPixel,e-l+f)}for(var k=j-1;k>=i;k--){var l=Math.round(c[2*k+1]/d*e);b.lineTo((k-i)*h+this.halfPixel,e-l+f)}b.closePath(),b.fill()}},fillRect:function(a,b,c,d){for(var e in this.canvases){var f=this.canvases[e],g=e*this.maxCanvasWidth,h={x1:Math.max(a,e*this.maxCanvasWidth),y1:b,x2:Math.min(a+c,e*this.maxCanvasWidth+f.waveCtx.canvas.width),y2:b+d};h.x1<h.x2&&(this.setFillStyles(f),this.fillRectToContext(f.waveCtx,h.x1-g,h.y1,h.x2-h.x1,h.y2-h.y1),this.fillRectToContext(f.progressCtx,h.x1-g,h.y1,h.x2-h.x1,h.y2-h.y1))}},fillRectToContext:function(a,b,c,d,e){a&&a.fillRect(b,c,d,e)},setFillStyles:function(a){a.waveCtx.fillStyle=this.params.waveColor,this.hasProgressCanvas&&(a.progressCtx.fillStyle=this.params.progressColor)},updateProgress:function(a){var b=Math.round(this.width*a)/this.params.pixelRatio;this.style(this.progressWave,{width:b+\"px\"})}}),function(){var b=function(){var b=document.querySelectorAll(\"wavesurfer\");Array.prototype.forEach.call(b,function(b){var c=a.util.extend({container:b,backend:\"MediaElement\",mediaControls:!0},b.dataset);b.style.display=\"block\";var d=a.create(c);if(b.dataset.peaks)var e=JSON.parse(b.dataset.peaks);d.load(b.dataset.url,e)})};\"complete\"===document.readyState?b():window.addEventListener(\"load\",b)}(),a});\n",
       "//# sourceMappingURL=wavesurfer.min.js.map\n",
       "console.log(\"SampledSignals.jl: wavesurfer library loaded\")\n",
       "</script>\n"
      ]
     },
     "metadata": {},
     "output_type": "display_data"
    },
    {
     "name": "stderr",
     "output_type": "stream",
     "text": [
      "┌ Info: Recompiling stale cache file /Users/davidlittle/.julia/compiled/v1.0/Feather/RgcL0.ji for Feather [becb17da-46f6-5d3c-ad1b-1c5fe96bc73c]\n",
      "└ @ Base loading.jl:1190\n"
     ]
    },
    {
     "name": "stdout",
     "output_type": "stream",
     "text": [
      "means = 3×2 DataFrame\n",
      "│ Row │ st     │ streaming │\n",
      "│     │ Int64⍰ │ Float64   │\n",
      "├─────┼────────┼───────────┤\n",
      "│ 1   │ 3      │ 0.134322  │\n",
      "│ 2   │ 6      │ 0.588438  │\n",
      "│ 3   │ 12     │ 0.92684   │\n"
     ]
    },
    {
     "name": "stderr",
     "output_type": "stream",
     "text": [
      "┌ Warning: combine(gd) is deprecated, use DataFrame(gd) instead\n",
      "│   caller = |>(::GroupedDataFrame{DataFrame}, ::typeof(combine)) at operators.jl:813\n",
      "└ @ Base ./operators.jl:813\n",
      "┌ Info: Loading Cairo backend into Compose.jl\n",
      "└ @ Compose /Users/davidlittle/.julia/packages/Compose/wlPCt/src/Compose.jl:164\n",
      "┌ Warning: [TEMPORARY WORKAROUND, pangolayout] for plotting with Gadfly.jl, see https://github.com/GiovineItalia/Gadfly.jl/issues/1206\n",
      "└ @ Compose /Users/davidlittle/.julia/packages/Compose/wlPCt/src/pango.jl:67\n",
      "┌ Warning: Error requiring Fontconfig from Compose:\n",
      "│ LoadError: UndefVarError: pango_cairo_ctx not defined\n",
      "│ Stacktrace:\n",
      "│  [1] Compose.PangoLayout() at /Users/davidlittle/.julia/packages/Compose/wlPCt/src/pango.jl:59\n",
      "│  [2] top-level scope at none:0\n",
      "│  [3] include at ./boot.jl:317 [inlined]\n",
      "│  [4] include_relative(::Module, ::String) at ./loading.jl:1044\n",
      "│  [5] include at ./sysimg.jl:29 [inlined]\n",
      "│  [6] include(::String) at /Users/davidlittle/.julia/packages/Compose/wlPCt/src/Compose.jl:1\n",
      "│  [7] top-level scope at /Users/davidlittle/.julia/packages/Compose/wlPCt/src/Compose.jl:172\n",
      "│  [8] eval at ./boot.jl:319 [inlined]\n",
      "│  [9] eval at /Users/davidlittle/.julia/packages/Compose/wlPCt/src/Compose.jl:1 [inlined]\n",
      "│  [10] (::getfield(Compose, Symbol(\"##118#124\")))() at /Users/davidlittle/.julia/packages/Requires/9Jse8/src/require.jl:67\n",
      "│  [11] err(::getfield(Compose, Symbol(\"##118#124\")), ::Module, ::String) at /Users/davidlittle/.julia/packages/Requires/9Jse8/src/require.jl:38\n",
      "│  [12] #117 at /Users/davidlittle/.julia/packages/Requires/9Jse8/src/require.jl:66 [inlined]\n",
      "│  [13] withpath(::getfield(Compose, Symbol(\"##117#123\")), ::String) at /Users/davidlittle/.julia/packages/Requires/9Jse8/src/require.jl:28\n",
      "│  [14] #116 at /Users/davidlittle/.julia/packages/Requires/9Jse8/src/require.jl:65 [inlined]\n",
      "│  [15] listenpkg(::getfield(Compose, Symbol(\"##116#122\")), ::Base.PkgId) at /Users/davidlittle/.julia/packages/Requires/9Jse8/src/require.jl:13\n",
      "│  [16] macro expansion at /Users/davidlittle/.julia/packages/Requires/9Jse8/src/require.jl:64 [inlined]\n",
      "│  [17] __init__() at /Users/davidlittle/.julia/packages/Compose/wlPCt/src/Compose.jl:171\n",
      "│  [18] _include_from_serialized(::String, ::Array{Any,1}) at ./loading.jl:633\n",
      "│  [19] _require_search_from_serialized(::Base.PkgId, ::String) at ./loading.jl:713\n",
      "│  [20] _tryrequire_from_serialized(::Base.PkgId, ::UInt64, ::String) at ./loading.jl:648\n",
      "│  [21] _require_search_from_serialized(::Base.PkgId, ::String) at ./loading.jl:702\n",
      "│  [22] _require(::Base.PkgId) at ./loading.jl:937\n",
      "│  [23] require(::Base.PkgId) at ./loading.jl:858\n",
      "│  [24] require(::Module, ::Symbol) at ./loading.jl:853\n",
      "│  [25] include at ./boot.jl:317 [inlined]\n",
      "│  [26] include_relative(::Module, ::String) at ./loading.jl:1044\n",
      "│  [27] include at ./sysimg.jl:29 [inlined]\n",
      "│  [28] includet(::String) at /Users/davidlittle/.julia/packages/Revise/TmjcT/src/Revise.jl:532\n",
      "│  [29] top-level scope at none:0\n",
      "│  [30] include at ./boot.jl:317 [inlined]\n",
      "│  [31] include_relative(::Module, ::String) at ./loading.jl:1044\n",
      "│  [32] include(::Module, ::String) at ./sysimg.jl:29\n",
      "│  [33] include(::String) at ./client.jl:392\n",
      "│  [34] top-level scope at In[1]:1\n",
      "│  [35] eval at ./boot.jl:319 [inlined]\n",
      "│  [36] softscope_include_string(::Module, ::String, ::String) at /Users/davidlittle/.julia/packages/SoftGlobalScope/dLfaZ/src/SoftGlobalScope.jl:218\n",
      "│  [37] execute_request(::ZMQ.Socket, ::IJulia.Msg) at /Users/davidlittle/.julia/packages/IJulia/DL02A/src/execute_request.jl:69\n",
      "│  [38] #invokelatest#1 at ./essentials.jl:697 [inlined]\n",
      "│  [39] invokelatest at ./essentials.jl:696 [inlined]\n",
      "│  [40] eventloop(::ZMQ.Socket) at /Users/davidlittle/.julia/packages/IJulia/DL02A/src/eventloop.jl:8\n",
      "│  [41] (::getfield(IJulia, Symbol(\"##12#15\")))() at ./task.jl:259\n",
      "│ in expression starting at /Users/davidlittle/.julia/packages/Compose/wlPCt/src/pango.jl:68\n",
      "└ @ Requires /Users/davidlittle/.julia/packages/Requires/9Jse8/src/require.jl:40\n",
      "┌ Info: Loading DataFrames support into Gadfly.jl\n",
      "└ @ Gadfly /Users/davidlittle/.julia/packages/Gadfly/ew1SM/src/mapping.jl:228\n"
     ]
    },
    {
     "data": {
      "text/plain": [
       "RObject{VecSxp}\n",
       "$rcalljl_options\n",
       "$rcalljl_options$height\n",
       "[1] 360\n",
       "\n",
       "$rcalljl_options$width\n",
       "[1] 432\n",
       "\n",
       "\n"
      ]
     },
     "execution_count": 1,
     "metadata": {},
     "output_type": "execute_result"
    }
   ],
   "source": [
    "include(joinpath(\"..\",\"src\",\"setup.jl\"))"
   ]
  },
  {
   "cell_type": "code",
   "execution_count": 2,
   "metadata": {},
   "outputs": [
    {
     "data": {
      "text/plain": [
       "\"../data/count_lengths/run_2018-11-26\""
      ]
     },
     "execution_count": 2,
     "metadata": {},
     "output_type": "execute_result"
    }
   ],
   "source": [
    "datadir = joinpath(\"..\",\"data\",\"count_lengths\",\"run_2018-11-26\")"
   ]
  },
  {
   "cell_type": "code",
   "execution_count": 3,
   "metadata": {
    "colab": {},
    "colab_type": "code",
    "id": "vXIb6CK9s0G1"
   },
   "outputs": [
    {
     "name": "stderr",
     "output_type": "stream",
     "text": [
      "\u001b[32mProgress: 100%|█████████████████████████████████████████| Time: 0:00:04\u001b[39m\n",
      "┌ Warning: `head(df::AbstractDataFrame)` is deprecated, use `first(df, 6)` instead.\n",
      "│   caller = top-level scope at In[3]:13\n",
      "└ @ Core In[3]:13\n"
     ]
    },
    {
     "data": {
      "text/html": [
       "<table class=\"data-frame\"><thead><tr><th></th><th>length</th><th>percepts</th><th>created</th><th>pindex</th></tr><tr><th></th><th>Float64</th><th>Int64</th><th>DateTime</th><th>Int64</th></tr></thead><tbody><p>6 rows × 4 columns</p><tr><th>1</th><td>0.2</td><td>2</td><td>2018-11-26T17:38:30.128</td><td>1</td></tr><tr><th>2</th><td>11.4</td><td>1</td><td>2018-11-26T17:38:30.128</td><td>1</td></tr><tr><th>3</th><td>0.4</td><td>2</td><td>2018-11-26T17:38:30.128</td><td>1</td></tr><tr><th>4</th><td>5.1</td><td>1</td><td>2018-11-26T17:38:30.128</td><td>1</td></tr><tr><th>5</th><td>0.4</td><td>2</td><td>2018-11-26T17:38:30.128</td><td>1</td></tr><tr><th>6</th><td>18.6</td><td>1</td><td>2018-11-26T17:38:30.128</td><td>1</td></tr></tbody></table>"
      ],
      "text/latex": [
       "\\begin{tabular}{r|cccc}\n",
       "\t& length & percepts & created & pindex\\\\\n",
       "\t\\hline\n",
       "\t& Float64 & Int64 & DateTime & Int64\\\\\n",
       "\t\\hline\n",
       "\t1 & 0.2 & 2 & 2018-11-26T17:38:30.128 & 1 \\\\\n",
       "\t2 & 11.4 & 1 & 2018-11-26T17:38:30.128 & 1 \\\\\n",
       "\t3 & 0.4 & 2 & 2018-11-26T17:38:30.128 & 1 \\\\\n",
       "\t4 & 5.1 & 1 & 2018-11-26T17:38:30.128 & 1 \\\\\n",
       "\t5 & 0.4 & 2 & 2018-11-26T17:38:30.128 & 1 \\\\\n",
       "\t6 & 18.6 & 1 & 2018-11-26T17:38:30.128 & 1 \\\\\n",
       "\\end{tabular}\n"
      ],
      "text/plain": [
       "6×4 DataFrame\n",
       "│ Row │ length  │ percepts │ created                 │ pindex │\n",
       "│     │ \u001b[90mFloat64\u001b[39m │ \u001b[90mInt64\u001b[39m    │ \u001b[90mDateTime\u001b[39m                │ \u001b[90mInt64\u001b[39m  │\n",
       "├─────┼─────────┼──────────┼─────────────────────────┼────────┤\n",
       "│ 1   │ 0.2     │ 2        │ 2018-11-26T17:38:30.128 │ 1      │\n",
       "│ 2   │ 11.4    │ 1        │ 2018-11-26T17:38:30.128 │ 1      │\n",
       "│ 3   │ 0.4     │ 2        │ 2018-11-26T17:38:30.128 │ 1      │\n",
       "│ 4   │ 5.1     │ 1        │ 2018-11-26T17:38:30.128 │ 1      │\n",
       "│ 5   │ 0.4     │ 2        │ 2018-11-26T17:38:30.128 │ 1      │\n",
       "│ 6   │ 18.6    │ 1        │ 2018-11-26T17:38:30.128 │ 1      │"
      ]
     },
     "execution_count": 3,
     "metadata": {},
     "output_type": "execute_result"
    }
   ],
   "source": [
    "params = load_params(joinpath(datadir,\"params.jld2\"))\n",
    "params[:pindex] = 1:size(params,1)\n",
    "settings = joinpath(\"..\",\"src\",\"settings.toml\")\n",
    "\n",
    "results = []\n",
    "for_results_in(joinpath(datadir,\"data\"),reinterpret=\"reinterpret\") do entry\n",
    "  push!(results,DataFrame(length=entry[\"lengths\"],\n",
    "                          percepts=entry[\"percepts\"].+1, # after +1, indicates the number of streams reported, 1 or 2\n",
    "                          created=entry[\"created\"],\n",
    "                          pindex=entry[\"pindex\"])) # the parameter index (pindex = N correspondes to row N of `params`)\n",
    "end\n",
    "df = vcat(results...);\n",
    "head(df)"
   ]
  },
  {
   "cell_type": "code",
   "execution_count": 23,
   "metadata": {},
   "outputs": [
    {
     "name": "stdout",
     "output_type": "stream",
     "text": [
      "means = 3×2 DataFrame\n",
      "│ Row │ st     │ streaming │\n",
      "│     │ Int64⍰ │ Float64   │\n",
      "├─────┼────────┼───────────┤\n",
      "│ 1   │ 3      │ 0.134322  │\n",
      "│ 2   │ 6      │ 0.588438  │\n",
      "│ 3   │ 12     │ 0.92684   │\n"
     ]
    },
    {
     "name": "stderr",
     "output_type": "stream",
     "text": [
      "┌ Warning: combine(gd) is deprecated, use DataFrame(gd) instead\n",
      "│   caller = |>(::GroupedDataFrame{DataFrame}, ::typeof(combine)) at operators.jl:813\n",
      "└ @ Base ./operators.jl:813\n"
     ]
    }
   ],
   "source": [
    "hstr,hlen = human_error_by_sid();"
   ]
  },
  {
   "cell_type": "code",
   "execution_count": 24,
   "metadata": {},
   "outputs": [
    {
     "data": {
      "text/plain": [
       "(0.07579792270275465, 0.32282447173323703, 0.6366148092697089)"
      ]
     },
     "execution_count": 24,
     "metadata": {},
     "output_type": "execute_result"
    }
   ],
   "source": [
    "quantile(hlen.x1,(0.025,0.5,0.975))"
   ]
  },
  {
   "cell_type": "code",
   "execution_count": 27,
   "metadata": {},
   "outputs": [
    {
     "name": "stderr",
     "output_type": "stream",
     "text": [
      "\u001b[32mProgress: 100%|█████████████████████████████████████████| Time: 0:00:18\u001b[39m\n"
     ]
    },
    {
     "data": {
      "text/html": [
       "<table class=\"data-frame\"><thead><tr><th></th><th>f_c_a</th><th>f_c_m</th><th>f_c_σ</th><th>s_c_a</th><th>s_c_m</th><th>s_c_σ</th><th>t_c_a</th><th>t_c_m</th><th>t_c_σ</th><th>stream_error</th><th>length_error</th><th>error_diff</th><th>stream_ratio</th><th>stream_spread</th><th>stream_shift</th><th>eratio</th></tr><tr><th></th><th>Float64</th><th>Float64</th><th>Float64</th><th>Float64</th><th>Float64</th><th>Float64</th><th>Float64</th><th>Float64</th><th>Float64</th><th>Float64</th><th>Float64</th><th>Float64</th><th>Float64</th><th>Float64</th><th>Float64</th><th>Float64</th></tr></thead><tbody><p>300 rows × 16 columns</p><tr><th>1</th><td>0.0</td><td>0.0</td><td>0.2</td><td>0.0</td><td>0.0</td><td>0.0</td><td>0.0</td><td>0.0</td><td>0.0</td><td>0.498731</td><td>0.340946</td><td>-0.157785</td><td>1.46279</td><td>-0.540395</td><td>-1.31632</td><td>2.29267</td></tr><tr><th>2</th><td>0.0</td><td>5.0</td><td>0.2</td><td>0.0</td><td>0.0</td><td>0.0</td><td>0.0</td><td>0.0</td><td>0.0</td><td>0.270752</td><td>0.304058</td><td>0.0333063</td><td>0.890461</td><td>0.192422</td><td>-0.489674</td><td>1.42455</td></tr><tr><th>3</th><td>0.0</td><td>15.0</td><td>0.2</td><td>0.0</td><td>0.0</td><td>0.0</td><td>0.0</td><td>0.0</td><td>0.0</td><td>0.243425</td><td>0.356831</td><td>0.113406</td><td>0.682185</td><td>0.174131</td><td>0.37405</td><td>1.40698</td></tr><tr><th>4</th><td>0.0</td><td>44.0</td><td>0.2</td><td>0.0</td><td>0.0</td><td>0.0</td><td>0.0</td><td>0.0</td><td>0.0</td><td>0.242422</td><td>0.999453</td><td>0.75703</td><td>0.242555</td><td>0.0706323</td><td>0.487251</td><td>2.37519</td></tr><tr><th>5</th><td>0.0</td><td>130.0</td><td>0.2</td><td>0.0</td><td>0.0</td><td>0.0</td><td>0.0</td><td>0.0</td><td>0.0</td><td>0.242879</td><td>0.999453</td><td>0.756574</td><td>0.243012</td><td>0.0616064</td><td>0.496276</td><td>2.37682</td></tr><tr><th>6</th><td>0.0</td><td>390.0</td><td>0.2</td><td>0.0</td><td>0.0</td><td>0.0</td><td>0.0</td><td>0.0</td><td>0.0</td><td>0.242616</td><td>0.999453</td><td>0.756837</td><td>0.242749</td><td>0.0618935</td><td>0.495989</td><td>2.37588</td></tr><tr><th>7</th><td>0.0</td><td>1100.0</td><td>0.2</td><td>0.0</td><td>0.0</td><td>0.0</td><td>0.0</td><td>0.0</td><td>0.0</td><td>0.259893</td><td>0.630528</td><td>0.370635</td><td>0.412183</td><td>0.100623</td><td>0.311424</td><td>1.87955</td></tr><tr><th>8</th><td>0.0</td><td>3400.0</td><td>0.2</td><td>0.0</td><td>0.0</td><td>0.0</td><td>0.0</td><td>0.0</td><td>0.0</td><td>0.243275</td><td>0.999453</td><td>0.756178</td><td>0.243408</td><td>0.054536</td><td>0.503347</td><td>2.37823</td></tr><tr><th>9</th><td>0.0</td><td>10000.0</td><td>0.2</td><td>0.0</td><td>0.0</td><td>0.0</td><td>0.0</td><td>0.0</td><td>0.0</td><td>0.243464</td><td>0.999453</td><td>0.755989</td><td>0.243598</td><td>0.0895319</td><td>0.468351</td><td>2.3789</td></tr><tr><th>10</th><td>0.0</td><td>1.0e8</td><td>0.2</td><td>0.0</td><td>0.0</td><td>0.0</td><td>0.0</td><td>0.0</td><td>0.0</td><td>0.24239</td><td>0.999453</td><td>0.757063</td><td>0.242523</td><td>0.102174</td><td>0.455709</td><td>2.37508</td></tr><tr><th>11</th><td>5.0</td><td>0.0</td><td>0.2</td><td>0.0</td><td>0.0</td><td>0.0</td><td>0.0</td><td>0.0</td><td>0.0</td><td>0.624033</td><td>0.299642</td><td>-0.324391</td><td>2.08259</td><td>-0.823212</td><td>-1.57251</td><td>2.67669</td></tr><tr><th>12</th><td>5.0</td><td>5.0</td><td>0.2</td><td>0.0</td><td>0.0</td><td>0.0</td><td>0.0</td><td>0.0</td><td>0.0</td><td>0.559149</td><td>0.296339</td><td>-0.26281</td><td>1.88685</td><td>-0.655628</td><td>-1.45837</td><td>2.4405</td></tr><tr><th>13</th><td>5.0</td><td>15.0</td><td>0.2</td><td>0.0</td><td>0.0</td><td>0.0</td><td>0.0</td><td>0.0</td><td>0.0</td><td>0.377712</td><td>0.263406</td><td>-0.114306</td><td>1.43395</td><td>-0.262473</td><td>-1.01384</td><td>1.7442</td></tr><tr><th>14</th><td>5.0</td><td>44.0</td><td>0.2</td><td>0.0</td><td>0.0</td><td>0.0</td><td>0.0</td><td>0.0</td><td>0.0</td><td>0.156177</td><td>0.349029</td><td>0.192852</td><td>0.447462</td><td>0.185638</td><td>-0.271199</td><td>1.0843</td></tr><tr><th>15</th><td>5.0</td><td>130.0</td><td>0.2</td><td>0.0</td><td>0.0</td><td>0.0</td><td>0.0</td><td>0.0</td><td>0.0</td><td>0.146111</td><td>0.243322</td><td>0.0972111</td><td>0.600484</td><td>0.151327</td><td>0.200111</td><td>0.888582</td></tr><tr><th>16</th><td>5.0</td><td>390.0</td><td>0.2</td><td>0.0</td><td>0.0</td><td>0.0</td><td>0.0</td><td>0.0</td><td>0.0</td><td>0.262348</td><td>0.465468</td><td>0.20312</td><td>0.563623</td><td>-0.105225</td><td>0.661248</td><td>1.63869</td></tr><tr><th>17</th><td>5.0</td><td>1100.0</td><td>0.2</td><td>0.0</td><td>0.0</td><td>0.0</td><td>0.0</td><td>0.0</td><td>0.0</td><td>0.271101</td><td>0.441708</td><td>0.170607</td><td>0.613756</td><td>0.149781</td><td>0.210115</td><td>1.63395</td></tr><tr><th>18</th><td>5.0</td><td>3400.0</td><td>0.2</td><td>0.0</td><td>0.0</td><td>0.0</td><td>0.0</td><td>0.0</td><td>0.0</td><td>0.269224</td><td>0.401641</td><td>0.132417</td><td>0.67031</td><td>-0.215947</td><td>0.718502</td><td>1.56667</td></tr><tr><th>19</th><td>5.0</td><td>10000.0</td><td>0.2</td><td>0.0</td><td>0.0</td><td>0.0</td><td>0.0</td><td>0.0</td><td>0.0</td><td>0.32275</td><td>0.339836</td><td>0.0170859</td><td>0.949723</td><td>0.204925</td><td>-0.444762</td><td>1.66393</td></tr><tr><th>20</th><td>5.0</td><td>1.0e8</td><td>0.2</td><td>0.0</td><td>0.0</td><td>0.0</td><td>0.0</td><td>0.0</td><td>0.0</td><td>0.312032</td><td>0.250944</td><td>-0.061088</td><td>1.24343</td><td>0.205538</td><td>-0.429098</td><td>1.49132</td></tr><tr><th>21</th><td>15.0</td><td>0.0</td><td>0.2</td><td>0.0</td><td>0.0</td><td>0.0</td><td>0.0</td><td>0.0</td><td>0.0</td><td>0.625968</td><td>0.471609</td><td>-0.154359</td><td>1.3273</td><td>-0.775192</td><td>-1.61747</td><td>2.94364</td></tr><tr><th>22</th><td>15.0</td><td>5.0</td><td>0.2</td><td>0.0</td><td>0.0</td><td>0.0</td><td>0.0</td><td>0.0</td><td>0.0</td><td>0.617059</td><td>0.350606</td><td>-0.266453</td><td>1.75998</td><td>-0.762953</td><td>-1.59526</td><td>2.72891</td></tr><tr><th>23</th><td>15.0</td><td>15.0</td><td>0.2</td><td>0.0</td><td>0.0</td><td>0.0</td><td>0.0</td><td>0.0</td><td>0.0</td><td>0.465991</td><td>0.230429</td><td>-0.235562</td><td>2.02228</td><td>-0.479129</td><td>-1.25022</td><td>2.00889</td></tr><tr><th>24</th><td>15.0</td><td>44.0</td><td>0.2</td><td>0.0</td><td>0.0</td><td>0.0</td><td>0.0</td><td>0.0</td><td>0.0</td><td>0.324709</td><td>0.294817</td><td>-0.0298923</td><td>1.10139</td><td>-0.265469</td><td>-0.859044</td><td>1.60284</td></tr><tr><th>25</th><td>15.0</td><td>130.0</td><td>0.2</td><td>0.0</td><td>0.0</td><td>0.0</td><td>0.0</td><td>0.0</td><td>0.0</td><td>0.124319</td><td>0.352937</td><td>0.228618</td><td>0.352242</td><td>0.174813</td><td>-0.198031</td><td>0.976695</td></tr><tr><th>26</th><td>15.0</td><td>390.0</td><td>0.2</td><td>0.0</td><td>0.0</td><td>0.0</td><td>0.0</td><td>0.0</td><td>0.0</td><td>0.11462</td><td>0.155582</td><td>0.0409617</td><td>0.73672</td><td>0.0589282</td><td>0.249213</td><td>0.643691</td></tr><tr><th>27</th><td>15.0</td><td>1100.0</td><td>0.2</td><td>0.0</td><td>0.0</td><td>0.0</td><td>0.0</td><td>0.0</td><td>0.0</td><td>0.255</td><td>0.295264</td><td>0.0402639</td><td>0.863634</td><td>-0.0655809</td><td>-0.148956</td><td>1.35512</td></tr><tr><th>28</th><td>15.0</td><td>3400.0</td><td>0.2</td><td>0.0</td><td>0.0</td><td>0.0</td><td>0.0</td><td>0.0</td><td>0.0</td><td>0.221361</td><td>0.334402</td><td>0.11304</td><td>0.661963</td><td>0.0567462</td><td>0.459898</td><td>1.29445</td></tr><tr><th>29</th><td>15.0</td><td>10000.0</td><td>0.2</td><td>0.0</td><td>0.0</td><td>0.0</td><td>0.0</td><td>0.0</td><td>0.0</td><td>0.180312</td><td>0.246116</td><td>0.0658038</td><td>0.732631</td><td>-0.135694</td><td>0.467102</td><td>1.01467</td></tr><tr><th>30</th><td>15.0</td><td>1.0e8</td><td>0.2</td><td>0.0</td><td>0.0</td><td>0.0</td><td>0.0</td><td>0.0</td><td>0.0</td><td>0.345552</td><td>0.549948</td><td>0.204396</td><td>0.628336</td><td>0.207483</td><td>-0.639671</td><td>2.06292</td></tr><tr><th>&vellip;</th><td>&vellip;</td><td>&vellip;</td><td>&vellip;</td><td>&vellip;</td><td>&vellip;</td><td>&vellip;</td><td>&vellip;</td><td>&vellip;</td><td>&vellip;</td><td>&vellip;</td><td>&vellip;</td><td>&vellip;</td><td>&vellip;</td><td>&vellip;</td><td>&vellip;</td><td>&vellip;</td></tr></tbody></table>"
      ],
      "text/latex": [
       "\\begin{tabular}{r|cccccccccccccccc}\n",
       "\t& f\\_c\\_a & f\\_c\\_m & f\\_c\\_σ & s\\_c\\_a & s\\_c\\_m & s\\_c\\_σ & t\\_c\\_a & t\\_c\\_m & t\\_c\\_σ & stream\\_error & length\\_error & error\\_diff & stream\\_ratio & stream\\_spread & stream\\_shift & eratio\\\\\n",
       "\t\\hline\n",
       "\t& Float64 & Float64 & Float64 & Float64 & Float64 & Float64 & Float64 & Float64 & Float64 & Float64 & Float64 & Float64 & Float64 & Float64 & Float64 & Float64\\\\\n",
       "\t\\hline\n",
       "\t1 & 0.0 & 0.0 & 0.2 & 0.0 & 0.0 & 0.0 & 0.0 & 0.0 & 0.0 & 0.498731 & 0.340946 & -0.157785 & 1.46279 & -0.540395 & -1.31632 & 2.29267 \\\\\n",
       "\t2 & 0.0 & 5.0 & 0.2 & 0.0 & 0.0 & 0.0 & 0.0 & 0.0 & 0.0 & 0.270752 & 0.304058 & 0.0333063 & 0.890461 & 0.192422 & -0.489674 & 1.42455 \\\\\n",
       "\t3 & 0.0 & 15.0 & 0.2 & 0.0 & 0.0 & 0.0 & 0.0 & 0.0 & 0.0 & 0.243425 & 0.356831 & 0.113406 & 0.682185 & 0.174131 & 0.37405 & 1.40698 \\\\\n",
       "\t4 & 0.0 & 44.0 & 0.2 & 0.0 & 0.0 & 0.0 & 0.0 & 0.0 & 0.0 & 0.242422 & 0.999453 & 0.75703 & 0.242555 & 0.0706323 & 0.487251 & 2.37519 \\\\\n",
       "\t5 & 0.0 & 130.0 & 0.2 & 0.0 & 0.0 & 0.0 & 0.0 & 0.0 & 0.0 & 0.242879 & 0.999453 & 0.756574 & 0.243012 & 0.0616064 & 0.496276 & 2.37682 \\\\\n",
       "\t6 & 0.0 & 390.0 & 0.2 & 0.0 & 0.0 & 0.0 & 0.0 & 0.0 & 0.0 & 0.242616 & 0.999453 & 0.756837 & 0.242749 & 0.0618935 & 0.495989 & 2.37588 \\\\\n",
       "\t7 & 0.0 & 1100.0 & 0.2 & 0.0 & 0.0 & 0.0 & 0.0 & 0.0 & 0.0 & 0.259893 & 0.630528 & 0.370635 & 0.412183 & 0.100623 & 0.311424 & 1.87955 \\\\\n",
       "\t8 & 0.0 & 3400.0 & 0.2 & 0.0 & 0.0 & 0.0 & 0.0 & 0.0 & 0.0 & 0.243275 & 0.999453 & 0.756178 & 0.243408 & 0.054536 & 0.503347 & 2.37823 \\\\\n",
       "\t9 & 0.0 & 10000.0 & 0.2 & 0.0 & 0.0 & 0.0 & 0.0 & 0.0 & 0.0 & 0.243464 & 0.999453 & 0.755989 & 0.243598 & 0.0895319 & 0.468351 & 2.3789 \\\\\n",
       "\t10 & 0.0 & 1.0e8 & 0.2 & 0.0 & 0.0 & 0.0 & 0.0 & 0.0 & 0.0 & 0.24239 & 0.999453 & 0.757063 & 0.242523 & 0.102174 & 0.455709 & 2.37508 \\\\\n",
       "\t11 & 5.0 & 0.0 & 0.2 & 0.0 & 0.0 & 0.0 & 0.0 & 0.0 & 0.0 & 0.624033 & 0.299642 & -0.324391 & 2.08259 & -0.823212 & -1.57251 & 2.67669 \\\\\n",
       "\t12 & 5.0 & 5.0 & 0.2 & 0.0 & 0.0 & 0.0 & 0.0 & 0.0 & 0.0 & 0.559149 & 0.296339 & -0.26281 & 1.88685 & -0.655628 & -1.45837 & 2.4405 \\\\\n",
       "\t13 & 5.0 & 15.0 & 0.2 & 0.0 & 0.0 & 0.0 & 0.0 & 0.0 & 0.0 & 0.377712 & 0.263406 & -0.114306 & 1.43395 & -0.262473 & -1.01384 & 1.7442 \\\\\n",
       "\t14 & 5.0 & 44.0 & 0.2 & 0.0 & 0.0 & 0.0 & 0.0 & 0.0 & 0.0 & 0.156177 & 0.349029 & 0.192852 & 0.447462 & 0.185638 & -0.271199 & 1.0843 \\\\\n",
       "\t15 & 5.0 & 130.0 & 0.2 & 0.0 & 0.0 & 0.0 & 0.0 & 0.0 & 0.0 & 0.146111 & 0.243322 & 0.0972111 & 0.600484 & 0.151327 & 0.200111 & 0.888582 \\\\\n",
       "\t16 & 5.0 & 390.0 & 0.2 & 0.0 & 0.0 & 0.0 & 0.0 & 0.0 & 0.0 & 0.262348 & 0.465468 & 0.20312 & 0.563623 & -0.105225 & 0.661248 & 1.63869 \\\\\n",
       "\t17 & 5.0 & 1100.0 & 0.2 & 0.0 & 0.0 & 0.0 & 0.0 & 0.0 & 0.0 & 0.271101 & 0.441708 & 0.170607 & 0.613756 & 0.149781 & 0.210115 & 1.63395 \\\\\n",
       "\t18 & 5.0 & 3400.0 & 0.2 & 0.0 & 0.0 & 0.0 & 0.0 & 0.0 & 0.0 & 0.269224 & 0.401641 & 0.132417 & 0.67031 & -0.215947 & 0.718502 & 1.56667 \\\\\n",
       "\t19 & 5.0 & 10000.0 & 0.2 & 0.0 & 0.0 & 0.0 & 0.0 & 0.0 & 0.0 & 0.32275 & 0.339836 & 0.0170859 & 0.949723 & 0.204925 & -0.444762 & 1.66393 \\\\\n",
       "\t20 & 5.0 & 1.0e8 & 0.2 & 0.0 & 0.0 & 0.0 & 0.0 & 0.0 & 0.0 & 0.312032 & 0.250944 & -0.061088 & 1.24343 & 0.205538 & -0.429098 & 1.49132 \\\\\n",
       "\t21 & 15.0 & 0.0 & 0.2 & 0.0 & 0.0 & 0.0 & 0.0 & 0.0 & 0.0 & 0.625968 & 0.471609 & -0.154359 & 1.3273 & -0.775192 & -1.61747 & 2.94364 \\\\\n",
       "\t22 & 15.0 & 5.0 & 0.2 & 0.0 & 0.0 & 0.0 & 0.0 & 0.0 & 0.0 & 0.617059 & 0.350606 & -0.266453 & 1.75998 & -0.762953 & -1.59526 & 2.72891 \\\\\n",
       "\t23 & 15.0 & 15.0 & 0.2 & 0.0 & 0.0 & 0.0 & 0.0 & 0.0 & 0.0 & 0.465991 & 0.230429 & -0.235562 & 2.02228 & -0.479129 & -1.25022 & 2.00889 \\\\\n",
       "\t24 & 15.0 & 44.0 & 0.2 & 0.0 & 0.0 & 0.0 & 0.0 & 0.0 & 0.0 & 0.324709 & 0.294817 & -0.0298923 & 1.10139 & -0.265469 & -0.859044 & 1.60284 \\\\\n",
       "\t25 & 15.0 & 130.0 & 0.2 & 0.0 & 0.0 & 0.0 & 0.0 & 0.0 & 0.0 & 0.124319 & 0.352937 & 0.228618 & 0.352242 & 0.174813 & -0.198031 & 0.976695 \\\\\n",
       "\t26 & 15.0 & 390.0 & 0.2 & 0.0 & 0.0 & 0.0 & 0.0 & 0.0 & 0.0 & 0.11462 & 0.155582 & 0.0409617 & 0.73672 & 0.0589282 & 0.249213 & 0.643691 \\\\\n",
       "\t27 & 15.0 & 1100.0 & 0.2 & 0.0 & 0.0 & 0.0 & 0.0 & 0.0 & 0.0 & 0.255 & 0.295264 & 0.0402639 & 0.863634 & -0.0655809 & -0.148956 & 1.35512 \\\\\n",
       "\t28 & 15.0 & 3400.0 & 0.2 & 0.0 & 0.0 & 0.0 & 0.0 & 0.0 & 0.0 & 0.221361 & 0.334402 & 0.11304 & 0.661963 & 0.0567462 & 0.459898 & 1.29445 \\\\\n",
       "\t29 & 15.0 & 10000.0 & 0.2 & 0.0 & 0.0 & 0.0 & 0.0 & 0.0 & 0.0 & 0.180312 & 0.246116 & 0.0658038 & 0.732631 & -0.135694 & 0.467102 & 1.01467 \\\\\n",
       "\t30 & 15.0 & 1.0e8 & 0.2 & 0.0 & 0.0 & 0.0 & 0.0 & 0.0 & 0.0 & 0.345552 & 0.549948 & 0.204396 & 0.628336 & 0.207483 & -0.639671 & 2.06292 \\\\\n",
       "\t$\\dots$ & $\\dots$ & $\\dots$ & $\\dots$ & $\\dots$ & $\\dots$ & $\\dots$ & $\\dots$ & $\\dots$ & $\\dots$ & $\\dots$ & $\\dots$ & $\\dots$ & $\\dots$ & $\\dots$ & $\\dots$ & $\\dots$ \\\\\n",
       "\\end{tabular}\n"
      ],
      "text/plain": [
       "300×16 DataFrame. Omitted printing of 9 columns\n",
       "│ Row │ f_c_a   │ f_c_m   │ f_c_σ   │ s_c_a   │ s_c_m   │ s_c_σ   │ t_c_a   │\n",
       "│     │ \u001b[90mFloat64\u001b[39m │ \u001b[90mFloat64\u001b[39m │ \u001b[90mFloat64\u001b[39m │ \u001b[90mFloat64\u001b[39m │ \u001b[90mFloat64\u001b[39m │ \u001b[90mFloat64\u001b[39m │ \u001b[90mFloat64\u001b[39m │\n",
       "├─────┼─────────┼─────────┼─────────┼─────────┼─────────┼─────────┼─────────┤\n",
       "│ 1   │ 0.0     │ 0.0     │ 0.2     │ 0.0     │ 0.0     │ 0.0     │ 0.0     │\n",
       "│ 2   │ 0.0     │ 5.0     │ 0.2     │ 0.0     │ 0.0     │ 0.0     │ 0.0     │\n",
       "│ 3   │ 0.0     │ 15.0    │ 0.2     │ 0.0     │ 0.0     │ 0.0     │ 0.0     │\n",
       "│ 4   │ 0.0     │ 44.0    │ 0.2     │ 0.0     │ 0.0     │ 0.0     │ 0.0     │\n",
       "│ 5   │ 0.0     │ 130.0   │ 0.2     │ 0.0     │ 0.0     │ 0.0     │ 0.0     │\n",
       "│ 6   │ 0.0     │ 390.0   │ 0.2     │ 0.0     │ 0.0     │ 0.0     │ 0.0     │\n",
       "│ 7   │ 0.0     │ 1100.0  │ 0.2     │ 0.0     │ 0.0     │ 0.0     │ 0.0     │\n",
       "│ 8   │ 0.0     │ 3400.0  │ 0.2     │ 0.0     │ 0.0     │ 0.0     │ 0.0     │\n",
       "│ 9   │ 0.0     │ 10000.0 │ 0.2     │ 0.0     │ 0.0     │ 0.0     │ 0.0     │\n",
       "│ 10  │ 0.0     │ 1.0e8   │ 0.2     │ 0.0     │ 0.0     │ 0.0     │ 0.0     │\n",
       "⋮\n",
       "│ 290 │ 0.0     │ 0.0     │ 0.0     │ 0.0     │ 0.0     │ 0.0     │ 1.0e8   │\n",
       "│ 291 │ 0.0     │ 0.0     │ 0.0     │ 0.0     │ 0.0     │ 0.0     │ 0.0     │\n",
       "│ 292 │ 0.0     │ 0.0     │ 0.0     │ 0.0     │ 0.0     │ 0.0     │ 5.0     │\n",
       "│ 293 │ 0.0     │ 0.0     │ 0.0     │ 0.0     │ 0.0     │ 0.0     │ 15.0    │\n",
       "│ 294 │ 0.0     │ 0.0     │ 0.0     │ 0.0     │ 0.0     │ 0.0     │ 44.0    │\n",
       "│ 295 │ 0.0     │ 0.0     │ 0.0     │ 0.0     │ 0.0     │ 0.0     │ 130.0   │\n",
       "│ 296 │ 0.0     │ 0.0     │ 0.0     │ 0.0     │ 0.0     │ 0.0     │ 390.0   │\n",
       "│ 297 │ 0.0     │ 0.0     │ 0.0     │ 0.0     │ 0.0     │ 0.0     │ 1100.0  │\n",
       "│ 298 │ 0.0     │ 0.0     │ 0.0     │ 0.0     │ 0.0     │ 0.0     │ 3400.0  │\n",
       "│ 299 │ 0.0     │ 0.0     │ 0.0     │ 0.0     │ 0.0     │ 0.0     │ 10000.0 │\n",
       "│ 300 │ 0.0     │ 0.0     │ 0.0     │ 0.0     │ 0.0     │ 0.0     │ 1.0e8   │"
      ]
     },
     "execution_count": 27,
     "metadata": {},
     "output_type": "execute_result"
    }
   ],
   "source": [
    "fields = [:f_c_a,:f_c_m,:f_c_σ,:s_c_a,:s_c_m,:s_c_σ,:t_c_a,:t_c_m,:t_c_σ]\n",
    "progress = Progress(nrow(unique(params[fields])))\n",
    "df_summary = by(params,fields) do row\n",
    "    next!(progress)\n",
    "    err = model_error(df,params;(k => row[1,k] for k in fields)...)\n",
    "    stt = model_stream_stats(df,params;(k => row[1,k] for k in fields)...)\n",
    "    DataFrame(stream_error = err.stream,length_error = err.lengths,\n",
    "              error_diff = err.lengths - err.stream,\n",
    "              stream_ratio = err.stream / err.lengths,\n",
    "              stream_spread = stt.spread,\n",
    "              stream_shift = stt.shift,\n",
    "              eratio = error_ratio(err,human_error()))\n",
    "end"
   ]
  },
  {
   "cell_type": "code",
   "execution_count": 28,
   "metadata": {},
   "outputs": [
    {
     "name": "stderr",
     "output_type": "stream",
     "text": [
      "┌ Warning: `head(df::AbstractDataFrame)` is deprecated, use `first(df, 6)` instead.\n",
      "│   caller = top-level scope at In[28]:5\n",
      "└ @ Core In[28]:5\n"
     ]
    },
    {
     "data": {
      "text/html": [
       "<table class=\"data-frame\"><thead><tr><th></th><th>c_a</th><th>c_m</th><th>level</th><th>stream_error</th><th>length_error</th><th>eratio</th><th>a</th><th>m</th><th>rand</th><th>eratio_str</th></tr><tr><th></th><th>Float64</th><th>Float64</th><th>String</th><th>Float64</th><th>Float64</th><th>Float64</th><th>Float64</th><th>Float64</th><th>Float64</th><th>String</th></tr></thead><tbody><p>6 rows × 10 columns</p><tr><th>1</th><td>0.0</td><td>0.0</td><td>Peripheral</td><td>0.498731</td><td>0.340946</td><td>2.29267</td><td>0.0</td><td>0.0</td><td>0.996408</td><td>2.3</td></tr><tr><th>2</th><td>0.0</td><td>5.0</td><td>Peripheral</td><td>0.270752</td><td>0.304058</td><td>1.42455</td><td>0.0</td><td>1.25</td><td>-0.611219</td><td>1.4</td></tr><tr><th>3</th><td>0.0</td><td>15.0</td><td>Peripheral</td><td>0.243425</td><td>0.356831</td><td>1.40698</td><td>0.0</td><td>2.25</td><td>-1.49206</td><td>1.4</td></tr><tr><th>4</th><td>0.0</td><td>44.0</td><td>Peripheral</td><td>0.242422</td><td>0.999453</td><td>2.37519</td><td>0.0</td><td>3.25</td><td>-0.161509</td><td>2.4</td></tr><tr><th>5</th><td>0.0</td><td>130.0</td><td>Peripheral</td><td>0.242879</td><td>0.999453</td><td>2.37682</td><td>0.0</td><td>4.25</td><td>0.136704</td><td>2.4</td></tr><tr><th>6</th><td>0.0</td><td>390.0</td><td>Peripheral</td><td>0.242616</td><td>0.999453</td><td>2.37588</td><td>0.0</td><td>5.25</td><td>-0.351111</td><td>2.4</td></tr></tbody></table>"
      ],
      "text/latex": [
       "\\begin{tabular}{r|cccccccccc}\n",
       "\t& c\\_a & c\\_m & level & stream\\_error & length\\_error & eratio & a & m & rand & eratio\\_str\\\\\n",
       "\t\\hline\n",
       "\t& Float64 & Float64 & String & Float64 & Float64 & Float64 & Float64 & Float64 & Float64 & String\\\\\n",
       "\t\\hline\n",
       "\t1 & 0.0 & 0.0 & Peripheral & 0.498731 & 0.340946 & 2.29267 & 0.0 & 0.0 & 0.996408 & 2.3 \\\\\n",
       "\t2 & 0.0 & 5.0 & Peripheral & 0.270752 & 0.304058 & 1.42455 & 0.0 & 1.25 & -0.611219 & 1.4 \\\\\n",
       "\t3 & 0.0 & 15.0 & Peripheral & 0.243425 & 0.356831 & 1.40698 & 0.0 & 2.25 & -1.49206 & 1.4 \\\\\n",
       "\t4 & 0.0 & 44.0 & Peripheral & 0.242422 & 0.999453 & 2.37519 & 0.0 & 3.25 & -0.161509 & 2.4 \\\\\n",
       "\t5 & 0.0 & 130.0 & Peripheral & 0.242879 & 0.999453 & 2.37682 & 0.0 & 4.25 & 0.136704 & 2.4 \\\\\n",
       "\t6 & 0.0 & 390.0 & Peripheral & 0.242616 & 0.999453 & 2.37588 & 0.0 & 5.25 & -0.351111 & 2.4 \\\\\n",
       "\\end{tabular}\n"
      ],
      "text/plain": [
       "6×10 DataFrame. Omitted printing of 4 columns\n",
       "│ Row │ c_a     │ c_m     │ level      │ stream_error │ length_error │ eratio  │\n",
       "│     │ \u001b[90mFloat64\u001b[39m │ \u001b[90mFloat64\u001b[39m │ \u001b[90mString\u001b[39m     │ \u001b[90mFloat64\u001b[39m      │ \u001b[90mFloat64\u001b[39m      │ \u001b[90mFloat64\u001b[39m │\n",
       "├─────┼─────────┼─────────┼────────────┼──────────────┼──────────────┼─────────┤\n",
       "│ 1   │ 0.0     │ 0.0     │ Peripheral │ 0.498731     │ 0.340946     │ 2.29267 │\n",
       "│ 2   │ 0.0     │ 5.0     │ Peripheral │ 0.270752     │ 0.304058     │ 1.42455 │\n",
       "│ 3   │ 0.0     │ 15.0    │ Peripheral │ 0.243425     │ 0.356831     │ 1.40698 │\n",
       "│ 4   │ 0.0     │ 44.0    │ Peripheral │ 0.242422     │ 0.999453     │ 2.37519 │\n",
       "│ 5   │ 0.0     │ 130.0   │ Peripheral │ 0.242879     │ 0.999453     │ 2.37682 │\n",
       "│ 6   │ 0.0     │ 390.0   │ Peripheral │ 0.242616     │ 0.999453     │ 2.37588 │"
      ]
     },
     "execution_count": 28,
     "metadata": {},
     "output_type": "execute_result"
    }
   ],
   "source": [
    "dfplot_within = @linq df_summary |>\n",
    "    rename_levels_for([:stream_error,:length_error,:eratio]) |>\n",
    "    transform(a = packaxes(:c_a,pad=0.25), m = packaxes(:c_m,pad=0.25), rand = randn(length(:c_a))) |>\n",
    "    transform(eratio_str = fmt.(\"01.1f\",round.(:eratio,digits=1)))\n",
    "              \n",
    "head(dfplot_within)"
   ]
  },
  {
   "cell_type": "code",
   "execution_count": 29,
   "metadata": {},
   "outputs": [
    {
     "data": {
      "text/plain": [
       "\"../data/count_lengths/run_2018-11-30\""
      ]
     },
     "execution_count": 29,
     "metadata": {},
     "output_type": "execute_result"
    }
   ],
   "source": [
    "datadir_all = joinpath(\"..\",\"data\",\"count_lengths\",\"run_2018-11-28\")\n",
    "datadir_selected = joinpath(\"..\",\"data\",\"count_lengths\",\"run_2018-11-30\")"
   ]
  },
  {
   "cell_type": "code",
   "execution_count": 30,
   "metadata": {},
   "outputs": [
    {
     "name": "stderr",
     "output_type": "stream",
     "text": [
      "\u001b[32mProgress: 100%|█████████████████████████████████████████| Time: 0:00:31\u001b[39m\n"
     ]
    }
   ],
   "source": [
    "params_all = load_params(joinpath(datadir_all,\"params.jld2\"))\n",
    "params_all[:pindex] = 1:size(params_all,1)\n",
    "settings = joinpath(srcdir,\"settings.toml\")\n",
    "\n",
    "results = []\n",
    "for_results_in(joinpath(datadir_all,\"data\")) do entry\n",
    "  push!(results,DataFrame(length=entry[\"lengths\"],\n",
    "                          percepts=entry[\"percepts\"].+1, # after +1, indicates the number of streams reported, 1 or 2\n",
    "                          created=entry[\"created\"],\n",
    "                          pindex=entry[\"pindex\"])) # the parameter index (pindex = N correspondes to row N of `params`)\n",
    "end\n",
    "df_all = vcat(results...);"
   ]
  },
  {
   "cell_type": "code",
   "execution_count": 31,
   "metadata": {},
   "outputs": [
    {
     "name": "stderr",
     "output_type": "stream",
     "text": [
      "\u001b[32mProgress: 100%|█████████████████████████████████████████| Time: 0:01:26\u001b[39m\n"
     ]
    },
    {
     "data": {
      "text/html": [
       "<table class=\"data-frame\"><thead><tr><th></th><th>f_c_a</th><th>f_c_m</th><th>f_c_σ</th><th>s_c_a</th><th>s_c_m</th><th>s_c_σ</th><th>t_c_a</th><th>t_c_m</th><th>t_c_σ</th><th>stream_error</th><th>length_error</th><th>eratio</th><th>pindex</th></tr><tr><th></th><th>Float64</th><th>Float64</th><th>Float64</th><th>Float64</th><th>Float64</th><th>Float64</th><th>Float64</th><th>Float64</th><th>Float64</th><th>Float64</th><th>Float64</th><th>Float64</th><th>Int64</th></tr></thead><tbody><p>15,625 rows × 13 columns</p><tr><th>1</th><td>0.0</td><td>0.0</td><td>0.2</td><td>0.0</td><td>0.0</td><td>0.2</td><td>0.0</td><td>0.0</td><td>0.2</td><td>0.323352</td><td>0.24583</td><td>1.52392</td><td>1</td></tr><tr><th>2</th><td>0.0</td><td>5.0</td><td>0.2</td><td>0.0</td><td>0.0</td><td>0.2</td><td>0.0</td><td>0.0</td><td>0.2</td><td>0.308735</td><td>0.27519</td><td>1.51624</td><td>2</td></tr><tr><th>3</th><td>0.0</td><td>63.0</td><td>0.2</td><td>0.0</td><td>0.0</td><td>0.2</td><td>0.0</td><td>0.0</td><td>0.2</td><td>0.237616</td><td>0.978323</td><td>2.32611</td><td>3</td></tr><tr><th>4</th><td>0.0</td><td>790.0</td><td>0.2</td><td>0.0</td><td>0.0</td><td>0.2</td><td>0.0</td><td>0.0</td><td>0.2</td><td>0.237616</td><td>0.978323</td><td>2.32611</td><td>4</td></tr><tr><th>5</th><td>0.0</td><td>10000.0</td><td>0.2</td><td>0.0</td><td>0.0</td><td>0.2</td><td>0.0</td><td>0.0</td><td>0.2</td><td>0.237616</td><td>0.978323</td><td>2.32611</td><td>5</td></tr><tr><th>6</th><td>0.0</td><td>0.0</td><td>0.2</td><td>0.0</td><td>0.0</td><td>0.2</td><td>5.0</td><td>0.0</td><td>0.2</td><td>0.319442</td><td>0.251511</td><td>1.51858</td><td>6</td></tr><tr><th>7</th><td>0.0</td><td>5.0</td><td>0.2</td><td>0.0</td><td>0.0</td><td>0.2</td><td>5.0</td><td>0.0</td><td>0.2</td><td>0.318658</td><td>0.229664</td><td>1.48275</td><td>7</td></tr><tr><th>8</th><td>0.0</td><td>63.0</td><td>0.2</td><td>0.0</td><td>0.0</td><td>0.2</td><td>5.0</td><td>0.0</td><td>0.2</td><td>0.237616</td><td>0.978323</td><td>2.32611</td><td>8</td></tr><tr><th>9</th><td>0.0</td><td>790.0</td><td>0.2</td><td>0.0</td><td>0.0</td><td>0.2</td><td>5.0</td><td>0.0</td><td>0.2</td><td>0.237616</td><td>0.978323</td><td>2.32611</td><td>9</td></tr><tr><th>10</th><td>0.0</td><td>10000.0</td><td>0.2</td><td>0.0</td><td>0.0</td><td>0.2</td><td>5.0</td><td>0.0</td><td>0.2</td><td>0.237616</td><td>0.978323</td><td>2.32611</td><td>10</td></tr><tr><th>11</th><td>0.0</td><td>0.0</td><td>0.2</td><td>0.0</td><td>0.0</td><td>0.2</td><td>63.0</td><td>0.0</td><td>0.2</td><td>0.325934</td><td>0.279719</td><td>1.58437</td><td>11</td></tr><tr><th>12</th><td>0.0</td><td>5.0</td><td>0.2</td><td>0.0</td><td>0.0</td><td>0.2</td><td>63.0</td><td>0.0</td><td>0.2</td><td>0.301149</td><td>0.293697</td><td>1.5172</td><td>12</td></tr><tr><th>13</th><td>0.0</td><td>63.0</td><td>0.2</td><td>0.0</td><td>0.0</td><td>0.2</td><td>63.0</td><td>0.0</td><td>0.2</td><td>0.237616</td><td>0.978323</td><td>2.32611</td><td>13</td></tr><tr><th>14</th><td>0.0</td><td>790.0</td><td>0.2</td><td>0.0</td><td>0.0</td><td>0.2</td><td>63.0</td><td>0.0</td><td>0.2</td><td>0.237616</td><td>0.978323</td><td>2.32611</td><td>14</td></tr><tr><th>15</th><td>0.0</td><td>10000.0</td><td>0.2</td><td>0.0</td><td>0.0</td><td>0.2</td><td>63.0</td><td>0.0</td><td>0.2</td><td>0.237616</td><td>0.978323</td><td>2.32611</td><td>15</td></tr><tr><th>16</th><td>0.0</td><td>0.0</td><td>0.2</td><td>0.0</td><td>0.0</td><td>0.2</td><td>790.0</td><td>0.0</td><td>0.2</td><td>0.318038</td><td>0.237281</td><td>1.49206</td><td>16</td></tr><tr><th>17</th><td>0.0</td><td>5.0</td><td>0.2</td><td>0.0</td><td>0.0</td><td>0.2</td><td>790.0</td><td>0.0</td><td>0.2</td><td>0.298251</td><td>0.3102</td><td>1.53182</td><td>17</td></tr><tr><th>18</th><td>0.0</td><td>63.0</td><td>0.2</td><td>0.0</td><td>0.0</td><td>0.2</td><td>790.0</td><td>0.0</td><td>0.2</td><td>0.237616</td><td>0.978323</td><td>2.32611</td><td>18</td></tr><tr><th>19</th><td>0.0</td><td>790.0</td><td>0.2</td><td>0.0</td><td>0.0</td><td>0.2</td><td>790.0</td><td>0.0</td><td>0.2</td><td>0.237616</td><td>0.978323</td><td>2.32611</td><td>19</td></tr><tr><th>20</th><td>0.0</td><td>10000.0</td><td>0.2</td><td>0.0</td><td>0.0</td><td>0.2</td><td>790.0</td><td>0.0</td><td>0.2</td><td>0.237616</td><td>0.978323</td><td>2.32611</td><td>20</td></tr><tr><th>21</th><td>0.0</td><td>0.0</td><td>0.2</td><td>0.0</td><td>0.0</td><td>0.2</td><td>10000.0</td><td>0.0</td><td>0.2</td><td>0.320207</td><td>0.279308</td><td>1.56334</td><td>21</td></tr><tr><th>22</th><td>0.0</td><td>5.0</td><td>0.2</td><td>0.0</td><td>0.0</td><td>0.2</td><td>10000.0</td><td>0.0</td><td>0.2</td><td>0.294485</td><td>0.204806</td><td>1.35903</td><td>22</td></tr><tr><th>23</th><td>0.0</td><td>63.0</td><td>0.2</td><td>0.0</td><td>0.0</td><td>0.2</td><td>10000.0</td><td>0.0</td><td>0.2</td><td>0.237616</td><td>0.978323</td><td>2.32611</td><td>23</td></tr><tr><th>24</th><td>0.0</td><td>790.0</td><td>0.2</td><td>0.0</td><td>0.0</td><td>0.2</td><td>10000.0</td><td>0.0</td><td>0.2</td><td>0.237616</td><td>0.978323</td><td>2.32611</td><td>24</td></tr><tr><th>25</th><td>0.0</td><td>10000.0</td><td>0.2</td><td>0.0</td><td>0.0</td><td>0.2</td><td>10000.0</td><td>0.0</td><td>0.2</td><td>0.237616</td><td>0.978323</td><td>2.32611</td><td>25</td></tr><tr><th>26</th><td>0.0</td><td>0.0</td><td>0.2</td><td>0.0</td><td>0.0</td><td>0.2</td><td>0.0</td><td>5.0</td><td>0.2</td><td>0.324901</td><td>0.294755</td><td>1.60343</td><td>26</td></tr><tr><th>27</th><td>0.0</td><td>5.0</td><td>0.2</td><td>0.0</td><td>0.0</td><td>0.2</td><td>0.0</td><td>5.0</td><td>0.2</td><td>0.311415</td><td>0.301641</td><td>1.56579</td><td>27</td></tr><tr><th>28</th><td>0.0</td><td>63.0</td><td>0.2</td><td>0.0</td><td>0.0</td><td>0.2</td><td>0.0</td><td>5.0</td><td>0.2</td><td>0.237616</td><td>0.978323</td><td>2.32611</td><td>28</td></tr><tr><th>29</th><td>0.0</td><td>790.0</td><td>0.2</td><td>0.0</td><td>0.0</td><td>0.2</td><td>0.0</td><td>5.0</td><td>0.2</td><td>0.237616</td><td>0.978323</td><td>2.32611</td><td>29</td></tr><tr><th>30</th><td>0.0</td><td>10000.0</td><td>0.2</td><td>0.0</td><td>0.0</td><td>0.2</td><td>0.0</td><td>5.0</td><td>0.2</td><td>0.237616</td><td>0.978323</td><td>2.32611</td><td>30</td></tr><tr><th>&vellip;</th><td>&vellip;</td><td>&vellip;</td><td>&vellip;</td><td>&vellip;</td><td>&vellip;</td><td>&vellip;</td><td>&vellip;</td><td>&vellip;</td><td>&vellip;</td><td>&vellip;</td><td>&vellip;</td><td>&vellip;</td><td>&vellip;</td></tr></tbody></table>"
      ],
      "text/latex": [
       "\\begin{tabular}{r|ccccccccccccc}\n",
       "\t& f\\_c\\_a & f\\_c\\_m & f\\_c\\_σ & s\\_c\\_a & s\\_c\\_m & s\\_c\\_σ & t\\_c\\_a & t\\_c\\_m & t\\_c\\_σ & stream\\_error & length\\_error & eratio & pindex\\\\\n",
       "\t\\hline\n",
       "\t& Float64 & Float64 & Float64 & Float64 & Float64 & Float64 & Float64 & Float64 & Float64 & Float64 & Float64 & Float64 & Int64\\\\\n",
       "\t\\hline\n",
       "\t1 & 0.0 & 0.0 & 0.2 & 0.0 & 0.0 & 0.2 & 0.0 & 0.0 & 0.2 & 0.323352 & 0.24583 & 1.52392 & 1 \\\\\n",
       "\t2 & 0.0 & 5.0 & 0.2 & 0.0 & 0.0 & 0.2 & 0.0 & 0.0 & 0.2 & 0.308735 & 0.27519 & 1.51624 & 2 \\\\\n",
       "\t3 & 0.0 & 63.0 & 0.2 & 0.0 & 0.0 & 0.2 & 0.0 & 0.0 & 0.2 & 0.237616 & 0.978323 & 2.32611 & 3 \\\\\n",
       "\t4 & 0.0 & 790.0 & 0.2 & 0.0 & 0.0 & 0.2 & 0.0 & 0.0 & 0.2 & 0.237616 & 0.978323 & 2.32611 & 4 \\\\\n",
       "\t5 & 0.0 & 10000.0 & 0.2 & 0.0 & 0.0 & 0.2 & 0.0 & 0.0 & 0.2 & 0.237616 & 0.978323 & 2.32611 & 5 \\\\\n",
       "\t6 & 0.0 & 0.0 & 0.2 & 0.0 & 0.0 & 0.2 & 5.0 & 0.0 & 0.2 & 0.319442 & 0.251511 & 1.51858 & 6 \\\\\n",
       "\t7 & 0.0 & 5.0 & 0.2 & 0.0 & 0.0 & 0.2 & 5.0 & 0.0 & 0.2 & 0.318658 & 0.229664 & 1.48275 & 7 \\\\\n",
       "\t8 & 0.0 & 63.0 & 0.2 & 0.0 & 0.0 & 0.2 & 5.0 & 0.0 & 0.2 & 0.237616 & 0.978323 & 2.32611 & 8 \\\\\n",
       "\t9 & 0.0 & 790.0 & 0.2 & 0.0 & 0.0 & 0.2 & 5.0 & 0.0 & 0.2 & 0.237616 & 0.978323 & 2.32611 & 9 \\\\\n",
       "\t10 & 0.0 & 10000.0 & 0.2 & 0.0 & 0.0 & 0.2 & 5.0 & 0.0 & 0.2 & 0.237616 & 0.978323 & 2.32611 & 10 \\\\\n",
       "\t11 & 0.0 & 0.0 & 0.2 & 0.0 & 0.0 & 0.2 & 63.0 & 0.0 & 0.2 & 0.325934 & 0.279719 & 1.58437 & 11 \\\\\n",
       "\t12 & 0.0 & 5.0 & 0.2 & 0.0 & 0.0 & 0.2 & 63.0 & 0.0 & 0.2 & 0.301149 & 0.293697 & 1.5172 & 12 \\\\\n",
       "\t13 & 0.0 & 63.0 & 0.2 & 0.0 & 0.0 & 0.2 & 63.0 & 0.0 & 0.2 & 0.237616 & 0.978323 & 2.32611 & 13 \\\\\n",
       "\t14 & 0.0 & 790.0 & 0.2 & 0.0 & 0.0 & 0.2 & 63.0 & 0.0 & 0.2 & 0.237616 & 0.978323 & 2.32611 & 14 \\\\\n",
       "\t15 & 0.0 & 10000.0 & 0.2 & 0.0 & 0.0 & 0.2 & 63.0 & 0.0 & 0.2 & 0.237616 & 0.978323 & 2.32611 & 15 \\\\\n",
       "\t16 & 0.0 & 0.0 & 0.2 & 0.0 & 0.0 & 0.2 & 790.0 & 0.0 & 0.2 & 0.318038 & 0.237281 & 1.49206 & 16 \\\\\n",
       "\t17 & 0.0 & 5.0 & 0.2 & 0.0 & 0.0 & 0.2 & 790.0 & 0.0 & 0.2 & 0.298251 & 0.3102 & 1.53182 & 17 \\\\\n",
       "\t18 & 0.0 & 63.0 & 0.2 & 0.0 & 0.0 & 0.2 & 790.0 & 0.0 & 0.2 & 0.237616 & 0.978323 & 2.32611 & 18 \\\\\n",
       "\t19 & 0.0 & 790.0 & 0.2 & 0.0 & 0.0 & 0.2 & 790.0 & 0.0 & 0.2 & 0.237616 & 0.978323 & 2.32611 & 19 \\\\\n",
       "\t20 & 0.0 & 10000.0 & 0.2 & 0.0 & 0.0 & 0.2 & 790.0 & 0.0 & 0.2 & 0.237616 & 0.978323 & 2.32611 & 20 \\\\\n",
       "\t21 & 0.0 & 0.0 & 0.2 & 0.0 & 0.0 & 0.2 & 10000.0 & 0.0 & 0.2 & 0.320207 & 0.279308 & 1.56334 & 21 \\\\\n",
       "\t22 & 0.0 & 5.0 & 0.2 & 0.0 & 0.0 & 0.2 & 10000.0 & 0.0 & 0.2 & 0.294485 & 0.204806 & 1.35903 & 22 \\\\\n",
       "\t23 & 0.0 & 63.0 & 0.2 & 0.0 & 0.0 & 0.2 & 10000.0 & 0.0 & 0.2 & 0.237616 & 0.978323 & 2.32611 & 23 \\\\\n",
       "\t24 & 0.0 & 790.0 & 0.2 & 0.0 & 0.0 & 0.2 & 10000.0 & 0.0 & 0.2 & 0.237616 & 0.978323 & 2.32611 & 24 \\\\\n",
       "\t25 & 0.0 & 10000.0 & 0.2 & 0.0 & 0.0 & 0.2 & 10000.0 & 0.0 & 0.2 & 0.237616 & 0.978323 & 2.32611 & 25 \\\\\n",
       "\t26 & 0.0 & 0.0 & 0.2 & 0.0 & 0.0 & 0.2 & 0.0 & 5.0 & 0.2 & 0.324901 & 0.294755 & 1.60343 & 26 \\\\\n",
       "\t27 & 0.0 & 5.0 & 0.2 & 0.0 & 0.0 & 0.2 & 0.0 & 5.0 & 0.2 & 0.311415 & 0.301641 & 1.56579 & 27 \\\\\n",
       "\t28 & 0.0 & 63.0 & 0.2 & 0.0 & 0.0 & 0.2 & 0.0 & 5.0 & 0.2 & 0.237616 & 0.978323 & 2.32611 & 28 \\\\\n",
       "\t29 & 0.0 & 790.0 & 0.2 & 0.0 & 0.0 & 0.2 & 0.0 & 5.0 & 0.2 & 0.237616 & 0.978323 & 2.32611 & 29 \\\\\n",
       "\t30 & 0.0 & 10000.0 & 0.2 & 0.0 & 0.0 & 0.2 & 0.0 & 5.0 & 0.2 & 0.237616 & 0.978323 & 2.32611 & 30 \\\\\n",
       "\t$\\dots$ & $\\dots$ & $\\dots$ & $\\dots$ & $\\dots$ & $\\dots$ & $\\dots$ & $\\dots$ & $\\dots$ & $\\dots$ & $\\dots$ & $\\dots$ & $\\dots$ & $\\dots$ \\\\\n",
       "\\end{tabular}\n"
      ],
      "text/plain": [
       "15625×13 DataFrame. Omitted printing of 6 columns\n",
       "│ Row   │ f_c_a   │ f_c_m   │ f_c_σ   │ s_c_a   │ s_c_m   │ s_c_σ   │ t_c_a   │\n",
       "│       │ \u001b[90mFloat64\u001b[39m │ \u001b[90mFloat64\u001b[39m │ \u001b[90mFloat64\u001b[39m │ \u001b[90mFloat64\u001b[39m │ \u001b[90mFloat64\u001b[39m │ \u001b[90mFloat64\u001b[39m │ \u001b[90mFloat64\u001b[39m │\n",
       "├───────┼─────────┼─────────┼─────────┼─────────┼─────────┼─────────┼─────────┤\n",
       "│ 1     │ 0.0     │ 0.0     │ 0.2     │ 0.0     │ 0.0     │ 0.2     │ 0.0     │\n",
       "│ 2     │ 0.0     │ 5.0     │ 0.2     │ 0.0     │ 0.0     │ 0.2     │ 0.0     │\n",
       "│ 3     │ 0.0     │ 63.0    │ 0.2     │ 0.0     │ 0.0     │ 0.2     │ 0.0     │\n",
       "│ 4     │ 0.0     │ 790.0   │ 0.2     │ 0.0     │ 0.0     │ 0.2     │ 0.0     │\n",
       "│ 5     │ 0.0     │ 10000.0 │ 0.2     │ 0.0     │ 0.0     │ 0.2     │ 0.0     │\n",
       "│ 6     │ 0.0     │ 0.0     │ 0.2     │ 0.0     │ 0.0     │ 0.2     │ 5.0     │\n",
       "│ 7     │ 0.0     │ 5.0     │ 0.2     │ 0.0     │ 0.0     │ 0.2     │ 5.0     │\n",
       "│ 8     │ 0.0     │ 63.0    │ 0.2     │ 0.0     │ 0.0     │ 0.2     │ 5.0     │\n",
       "│ 9     │ 0.0     │ 790.0   │ 0.2     │ 0.0     │ 0.0     │ 0.2     │ 5.0     │\n",
       "│ 10    │ 0.0     │ 10000.0 │ 0.2     │ 0.0     │ 0.0     │ 0.2     │ 5.0     │\n",
       "⋮\n",
       "│ 15615 │ 10000.0 │ 10000.0 │ 0.2     │ 10000.0 │ 10000.0 │ 0.2     │ 63.0    │\n",
       "│ 15616 │ 10000.0 │ 0.0     │ 0.2     │ 10000.0 │ 10000.0 │ 0.2     │ 790.0   │\n",
       "│ 15617 │ 10000.0 │ 5.0     │ 0.2     │ 10000.0 │ 10000.0 │ 0.2     │ 790.0   │\n",
       "│ 15618 │ 10000.0 │ 63.0    │ 0.2     │ 10000.0 │ 10000.0 │ 0.2     │ 790.0   │\n",
       "│ 15619 │ 10000.0 │ 790.0   │ 0.2     │ 10000.0 │ 10000.0 │ 0.2     │ 790.0   │\n",
       "│ 15620 │ 10000.0 │ 10000.0 │ 0.2     │ 10000.0 │ 10000.0 │ 0.2     │ 790.0   │\n",
       "│ 15621 │ 10000.0 │ 0.0     │ 0.2     │ 10000.0 │ 10000.0 │ 0.2     │ 10000.0 │\n",
       "│ 15622 │ 10000.0 │ 5.0     │ 0.2     │ 10000.0 │ 10000.0 │ 0.2     │ 10000.0 │\n",
       "│ 15623 │ 10000.0 │ 63.0    │ 0.2     │ 10000.0 │ 10000.0 │ 0.2     │ 10000.0 │\n",
       "│ 15624 │ 10000.0 │ 790.0   │ 0.2     │ 10000.0 │ 10000.0 │ 0.2     │ 10000.0 │\n",
       "│ 15625 │ 10000.0 │ 10000.0 │ 0.2     │ 10000.0 │ 10000.0 │ 0.2     │ 10000.0 │"
      ]
     },
     "execution_count": 31,
     "metadata": {},
     "output_type": "execute_result"
    }
   ],
   "source": [
    "fields = [:f_c_a,:f_c_m,:f_c_σ,:s_c_a,:s_c_m,:s_c_σ,:t_c_a,:t_c_m,:t_c_σ]\n",
    "progress = Progress(nrow(unique(params_all[fields])))\n",
    "herr = human_error()\n",
    "df_summary_all = by(params_all,fields) do row\n",
    "    next!(progress)\n",
    "    err = model_error(df_all,params_all;(k => row[1,k] for k in fields)...)\n",
    "    DataFrame(stream_error = err.stream,length_error = err.lengths,eratio = error_ratio(err,herr),pindex = row.pindex[1])\n",
    "end"
   ]
  },
  {
   "cell_type": "code",
   "execution_count": 32,
   "metadata": {},
   "outputs": [
    {
     "name": "stderr",
     "output_type": "stream",
     "text": [
      "\u001b[32mProgress: 100%|█████████████████████████████████████████| Time: 0:00:10\u001b[39m\n"
     ]
    }
   ],
   "source": [
    "params_selected = load_params(joinpath(datadir_selected,\"params.jld2\"))\n",
    "params_selected[:pindex] = 1:size(params_selected,1)\n",
    "settings = joinpath(srcdir,\"settings.toml\")\n",
    "\n",
    "results = []\n",
    "for_results_in(joinpath(datadir_selected,\"data\")) do entry\n",
    "  push!(results,DataFrame(length=entry[\"lengths\"],\n",
    "                          percepts=entry[\"percepts\"].+1, # after +1, indicates the number of streams reported, 1 or 2\n",
    "                          created=entry[\"created\"],\n",
    "                          pindex=entry[\"pindex\"])) # the parameter index (pindex = N correspondes to row N of `params`)\n",
    "end\n",
    "df_selected = vcat(results...);"
   ]
  },
  {
   "cell_type": "code",
   "execution_count": 33,
   "metadata": {},
   "outputs": [
    {
     "name": "stderr",
     "output_type": "stream",
     "text": [
      "\u001b[32mProgress:  87%|███████████████████████████████████▋     |  ETA: 0:00:01\u001b[39m┌ Warning: Expected 3 parameter entries. \n",
      "│ Instead, only found entires: 2×36 DataFrame\n",
      "│ │ Row │ f_W_m_σ │ f_c_m   │ t_c_a   │ t_c_m   │ f         │ t_W_m_c │ t_c_x   │ f_c_x   │ t_W_m_σ_t │ s_τ_σ     │ f_c_a   │ f_c_σ   │ s_c_m   │ f_τ_a     │ s_c_σ   │ Δt        │ s_τ_m     │ s_c_x   │ t_W_m_σ_ϕ │ t_τ_a     │ s_c_a   │ t_τ_m     │ t_c_σ   │ t_τ_x     │ s_W_m_c │ s_τ_a     │ f_W_m_c │ t_τ_σ     │ f_τ_σ     │ f_τ_x     │ Δf    │ t_W_m_σ_N │ f_τ_m     │ s_τ_x     │ s_W_m_σ │ pindex │\n",
      "│ │     │ Float64 │ Float64 │ Float64 │ Float64 │ Quantity… │ Float64 │ Float64 │ Float64 │ Float64   │ Quantity… │ Float64 │ Float64 │ Float64 │ Quantity… │ Float64 │ Quantity… │ Quantity… │ Float64 │ Float64   │ Quantity… │ Float64 │ Quantity… │ Float64 │ Quantity… │ Float64 │ Quantity… │ Float64 │ Quantity… │ Quantity… │ Quantity… │ Int64 │ Float64   │ Quantity… │ Quantity… │ Float64 │ Int64  │\n",
      "│ ├─────┼─────────┼─────────┼─────────┼─────────┼───────────┼─────────┼─────────┼─────────┼───────────┼───────────┼─────────┼─────────┼─────────┼───────────┼─────────┼───────────┼───────────┼─────────┼───────────┼───────────┼─────────┼───────────┼─────────┼───────────┼─────────┼───────────┼─────────┼───────────┼───────────┼───────────┼───────┼───────────┼───────────┼───────────┼─────────┼────────┤\n",
      "│ │ 1   │ 5.6     │ 63.0    │ 790.0   │ 790.0   │ 500 Hz    │ 6.0     │ 3.0     │ 3.0     │ 7.0       │ 500 ms    │ 0.0     │ 0.2     │ 790.0   │ 3 s       │ 0.2     │ 120 ms    │ 350 ms    │ 3.0     │ 7.0       │ 3 s       │ 63.0    │ 350 ms    │ 0.2     │ 500 ms    │ 6.0     │ 3 s       │ 6.0     │ 500 ms    │ 500 ms    │ 500 ms    │ 3     │ 3.0       │ 350 ms    │ 500 ms    │ 15.0    │ 1227   │\n",
      "│ │ 2   │ 5.6     │ 63.0    │ 790.0   │ 790.0   │ 500 Hz    │ 6.0     │ 3.0     │ 3.0     │ 7.0       │ 500 ms    │ 0.0     │ 0.2     │ 790.0   │ 3 s       │ 0.2     │ 120 ms    │ 350 ms    │ 3.0     │ 7.0       │ 3 s       │ 63.0    │ 350 ms    │ 0.2     │ 500 ms    │ 6.0     │ 3 s       │ 6.0     │ 500 ms    │ 500 ms    │ 500 ms    │ 6     │ 3.0       │ 350 ms    │ 500 ms    │ 15.0    │ 2631   │\n",
      "│ Keyword selection: (f_c_a = 0.0, f_c_m = 63.0, f_c_σ = 0.2, s_c_a = 63.0, s_c_m = 790.0, s_c_σ = 0.2, t_c_a = 790.0, t_c_m = 790.0, t_c_σ = 0.2)\n",
      "└ @ Main /Users/davidlittle/Documents/work/projects/bistable/src/measures.jl:22\n",
      "\u001b[32mProgress:  87%|███████████████████████████████████▉     |  ETA: 0:00:01\u001b[39m┌ Warning: Expected 3 parameter entries. \n",
      "│ Instead, only found entires: 2×36 DataFrame\n",
      "│ │ Row │ f_W_m_σ │ f_c_m   │ t_c_a   │ t_c_m   │ f         │ t_W_m_c │ t_c_x   │ f_c_x   │ t_W_m_σ_t │ s_τ_σ     │ f_c_a   │ f_c_σ   │ s_c_m   │ f_τ_a     │ s_c_σ   │ Δt        │ s_τ_m     │ s_c_x   │ t_W_m_σ_ϕ │ t_τ_a     │ s_c_a   │ t_τ_m     │ t_c_σ   │ t_τ_x     │ s_W_m_c │ s_τ_a     │ f_W_m_c │ t_τ_σ     │ f_τ_σ     │ f_τ_x     │ Δf    │ t_W_m_σ_N │ f_τ_m     │ s_τ_x     │ s_W_m_σ │ pindex │\n",
      "│ │     │ Float64 │ Float64 │ Float64 │ Float64 │ Quantity… │ Float64 │ Float64 │ Float64 │ Float64   │ Quantity… │ Float64 │ Float64 │ Float64 │ Quantity… │ Float64 │ Quantity… │ Quantity… │ Float64 │ Float64   │ Quantity… │ Float64 │ Quantity… │ Float64 │ Quantity… │ Float64 │ Quantity… │ Float64 │ Quantity… │ Quantity… │ Quantity… │ Int64 │ Float64   │ Quantity… │ Quantity… │ Float64 │ Int64  │\n",
      "│ ├─────┼─────────┼─────────┼─────────┼─────────┼───────────┼─────────┼─────────┼─────────┼───────────┼───────────┼─────────┼─────────┼─────────┼───────────┼─────────┼───────────┼───────────┼─────────┼───────────┼───────────┼─────────┼───────────┼─────────┼───────────┼─────────┼───────────┼─────────┼───────────┼───────────┼───────────┼───────┼───────────┼───────────┼───────────┼─────────┼────────┤\n",
      "│ │ 1   │ 5.6     │ 790.0   │ 790.0   │ 790.0   │ 500 Hz    │ 6.0     │ 3.0     │ 3.0     │ 7.0       │ 500 ms    │ 0.0     │ 0.2     │ 790.0   │ 3 s       │ 0.2     │ 120 ms    │ 350 ms    │ 3.0     │ 7.0       │ 3 s       │ 63.0    │ 350 ms    │ 0.2     │ 500 ms    │ 6.0     │ 3 s       │ 6.0     │ 500 ms    │ 500 ms    │ 500 ms    │ 3     │ 3.0       │ 350 ms    │ 500 ms    │ 15.0    │ 1228   │\n",
      "│ │ 2   │ 5.6     │ 790.0   │ 790.0   │ 790.0   │ 500 Hz    │ 6.0     │ 3.0     │ 3.0     │ 7.0       │ 500 ms    │ 0.0     │ 0.2     │ 790.0   │ 3 s       │ 0.2     │ 120 ms    │ 350 ms    │ 3.0     │ 7.0       │ 3 s       │ 63.0    │ 350 ms    │ 0.2     │ 500 ms    │ 6.0     │ 3 s       │ 6.0     │ 500 ms    │ 500 ms    │ 500 ms    │ 6     │ 3.0       │ 350 ms    │ 500 ms    │ 15.0    │ 2632   │\n",
      "│ Keyword selection: (f_c_a = 0.0, f_c_m = 790.0, f_c_σ = 0.2, s_c_a = 63.0, s_c_m = 790.0, s_c_σ = 0.2, t_c_a = 790.0, t_c_m = 790.0, t_c_σ = 0.2)\n",
      "└ @ Main /Users/davidlittle/Documents/work/projects/bistable/src/measures.jl:22\n",
      "┌ Warning: Expected 3 parameter entries. \n",
      "│ Instead, only found entires: 2×36 DataFrame\n",
      "│ │ Row │ f_W_m_σ │ f_c_m   │ t_c_a   │ t_c_m   │ f         │ t_W_m_c │ t_c_x   │ f_c_x   │ t_W_m_σ_t │ s_τ_σ     │ f_c_a   │ f_c_σ   │ s_c_m   │ f_τ_a     │ s_c_σ   │ Δt        │ s_τ_m     │ s_c_x   │ t_W_m_σ_ϕ │ t_τ_a     │ s_c_a   │ t_τ_m     │ t_c_σ   │ t_τ_x     │ s_W_m_c │ s_τ_a     │ f_W_m_c │ t_τ_σ     │ f_τ_σ     │ f_τ_x     │ Δf    │ t_W_m_σ_N │ f_τ_m     │ s_τ_x     │ s_W_m_σ │ pindex │\n",
      "│ │     │ Float64 │ Float64 │ Float64 │ Float64 │ Quantity… │ Float64 │ Float64 │ Float64 │ Float64   │ Quantity… │ Float64 │ Float64 │ Float64 │ Quantity… │ Float64 │ Quantity… │ Quantity… │ Float64 │ Float64   │ Quantity… │ Float64 │ Quantity… │ Float64 │ Quantity… │ Float64 │ Quantity… │ Float64 │ Quantity… │ Quantity… │ Quantity… │ Int64 │ Float64   │ Quantity… │ Quantity… │ Float64 │ Int64  │\n",
      "│ ├─────┼─────────┼─────────┼─────────┼─────────┼───────────┼─────────┼─────────┼─────────┼───────────┼───────────┼─────────┼─────────┼─────────┼───────────┼─────────┼───────────┼───────────┼─────────┼───────────┼───────────┼─────────┼───────────┼─────────┼───────────┼─────────┼───────────┼─────────┼───────────┼───────────┼───────────┼───────┼───────────┼───────────┼───────────┼─────────┼────────┤\n",
      "│ │ 1   │ 5.6     │ 0.0     │ 10000.0 │ 790.0   │ 500 Hz    │ 6.0     │ 3.0     │ 3.0     │ 7.0       │ 500 ms    │ 0.0     │ 0.2     │ 790.0   │ 3 s       │ 0.2     │ 120 ms    │ 350 ms    │ 3.0     │ 7.0       │ 3 s       │ 63.0    │ 350 ms    │ 0.2     │ 500 ms    │ 6.0     │ 3 s       │ 6.0     │ 500 ms    │ 500 ms    │ 500 ms    │ 3     │ 3.0       │ 350 ms    │ 500 ms    │ 15.0    │ 1229   │\n",
      "│ │ 2   │ 5.6     │ 0.0     │ 10000.0 │ 790.0   │ 500 Hz    │ 6.0     │ 3.0     │ 3.0     │ 7.0       │ 500 ms    │ 0.0     │ 0.2     │ 790.0   │ 3 s       │ 0.2     │ 120 ms    │ 350 ms    │ 3.0     │ 7.0       │ 3 s       │ 63.0    │ 350 ms    │ 0.2     │ 500 ms    │ 6.0     │ 3 s       │ 6.0     │ 500 ms    │ 500 ms    │ 500 ms    │ 6     │ 3.0       │ 350 ms    │ 500 ms    │ 15.0    │ 2633   │\n",
      "│ Keyword selection: (f_c_a = 0.0, f_c_m = 0.0, f_c_σ = 0.2, s_c_a = 63.0, s_c_m = 790.0, s_c_σ = 0.2, t_c_a = 10000.0, t_c_m = 790.0, t_c_σ = 0.2)\n",
      "└ @ Main /Users/davidlittle/Documents/work/projects/bistable/src/measures.jl:22\n",
      "┌ Warning: Expected 3 parameter entries. \n",
      "│ Instead, only found entires: 2×36 DataFrame\n",
      "│ │ Row │ f_W_m_σ │ f_c_m   │ t_c_a   │ t_c_m   │ f         │ t_W_m_c │ t_c_x   │ f_c_x   │ t_W_m_σ_t │ s_τ_σ     │ f_c_a   │ f_c_σ   │ s_c_m   │ f_τ_a     │ s_c_σ   │ Δt        │ s_τ_m     │ s_c_x   │ t_W_m_σ_ϕ │ t_τ_a     │ s_c_a   │ t_τ_m     │ t_c_σ   │ t_τ_x     │ s_W_m_c │ s_τ_a     │ f_W_m_c │ t_τ_σ     │ f_τ_σ     │ f_τ_x     │ Δf    │ t_W_m_σ_N │ f_τ_m     │ s_τ_x     │ s_W_m_σ │ pindex │\n",
      "│ │     │ Float64 │ Float64 │ Float64 │ Float64 │ Quantity… │ Float64 │ Float64 │ Float64 │ Float64   │ Quantity… │ Float64 │ Float64 │ Float64 │ Quantity… │ Float64 │ Quantity… │ Quantity… │ Float64 │ Float64   │ Quantity… │ Float64 │ Quantity… │ Float64 │ Quantity… │ Float64 │ Quantity… │ Float64 │ Quantity… │ Quantity… │ Quantity… │ Int64 │ Float64   │ Quantity… │ Quantity… │ Float64 │ Int64  │\n",
      "│ ├─────┼─────────┼─────────┼─────────┼─────────┼───────────┼─────────┼─────────┼─────────┼───────────┼───────────┼─────────┼─────────┼─────────┼───────────┼─────────┼───────────┼───────────┼─────────┼───────────┼───────────┼─────────┼───────────┼─────────┼───────────┼─────────┼───────────┼─────────┼───────────┼───────────┼───────────┼───────┼───────────┼───────────┼───────────┼─────────┼────────┤\n",
      "│ │ 1   │ 5.6     │ 5.0     │ 10000.0 │ 790.0   │ 500 Hz    │ 6.0     │ 3.0     │ 3.0     │ 7.0       │ 500 ms    │ 0.0     │ 0.2     │ 790.0   │ 3 s       │ 0.2     │ 120 ms    │ 350 ms    │ 3.0     │ 7.0       │ 3 s       │ 63.0    │ 350 ms    │ 0.2     │ 500 ms    │ 6.0     │ 3 s       │ 6.0     │ 500 ms    │ 500 ms    │ 500 ms    │ 3     │ 3.0       │ 350 ms    │ 500 ms    │ 15.0    │ 1230   │\n",
      "│ │ 2   │ 5.6     │ 5.0     │ 10000.0 │ 790.0   │ 500 Hz    │ 6.0     │ 3.0     │ 3.0     │ 7.0       │ 500 ms    │ 0.0     │ 0.2     │ 790.0   │ 3 s       │ 0.2     │ 120 ms    │ 350 ms    │ 3.0     │ 7.0       │ 3 s       │ 63.0    │ 350 ms    │ 0.2     │ 500 ms    │ 6.0     │ 3 s       │ 6.0     │ 500 ms    │ 500 ms    │ 500 ms    │ 6     │ 3.0       │ 350 ms    │ 500 ms    │ 15.0    │ 2634   │\n",
      "│ Keyword selection: (f_c_a = 0.0, f_c_m = 5.0, f_c_σ = 0.2, s_c_a = 63.0, s_c_m = 790.0, s_c_σ = 0.2, t_c_a = 10000.0, t_c_m = 790.0, t_c_σ = 0.2)\n",
      "└ @ Main /Users/davidlittle/Documents/work/projects/bistable/src/measures.jl:22\n",
      "┌ Warning: Expected 3 parameter entries. \n",
      "│ Instead, only found entires: 2×36 DataFrame\n",
      "│ │ Row │ f_W_m_σ │ f_c_m   │ t_c_a   │ t_c_m   │ f         │ t_W_m_c │ t_c_x   │ f_c_x   │ t_W_m_σ_t │ s_τ_σ     │ f_c_a   │ f_c_σ   │ s_c_m   │ f_τ_a     │ s_c_σ   │ Δt        │ s_τ_m     │ s_c_x   │ t_W_m_σ_ϕ │ t_τ_a     │ s_c_a   │ t_τ_m     │ t_c_σ   │ t_τ_x     │ s_W_m_c │ s_τ_a     │ f_W_m_c │ t_τ_σ     │ f_τ_σ     │ f_τ_x     │ Δf    │ t_W_m_σ_N │ f_τ_m     │ s_τ_x     │ s_W_m_σ │ pindex │\n",
      "│ │     │ Float64 │ Float64 │ Float64 │ Float64 │ Quantity… │ Float64 │ Float64 │ Float64 │ Float64   │ Quantity… │ Float64 │ Float64 │ Float64 │ Quantity… │ Float64 │ Quantity… │ Quantity… │ Float64 │ Float64   │ Quantity… │ Float64 │ Quantity… │ Float64 │ Quantity… │ Float64 │ Quantity… │ Float64 │ Quantity… │ Quantity… │ Quantity… │ Int64 │ Float64   │ Quantity… │ Quantity… │ Float64 │ Int64  │\n",
      "│ ├─────┼─────────┼─────────┼─────────┼─────────┼───────────┼─────────┼─────────┼─────────┼───────────┼───────────┼─────────┼─────────┼─────────┼───────────┼─────────┼───────────┼───────────┼─────────┼───────────┼───────────┼─────────┼───────────┼─────────┼───────────┼─────────┼───────────┼─────────┼───────────┼───────────┼───────────┼───────┼───────────┼───────────┼───────────┼─────────┼────────┤\n",
      "│ │ 1   │ 5.6     │ 63.0    │ 10000.0 │ 790.0   │ 500 Hz    │ 6.0     │ 3.0     │ 3.0     │ 7.0       │ 500 ms    │ 0.0     │ 0.2     │ 790.0   │ 3 s       │ 0.2     │ 120 ms    │ 350 ms    │ 3.0     │ 7.0       │ 3 s       │ 63.0    │ 350 ms    │ 0.2     │ 500 ms    │ 6.0     │ 3 s       │ 6.0     │ 500 ms    │ 500 ms    │ 500 ms    │ 3     │ 3.0       │ 350 ms    │ 500 ms    │ 15.0    │ 1231   │\n",
      "│ │ 2   │ 5.6     │ 63.0    │ 10000.0 │ 790.0   │ 500 Hz    │ 6.0     │ 3.0     │ 3.0     │ 7.0       │ 500 ms    │ 0.0     │ 0.2     │ 790.0   │ 3 s       │ 0.2     │ 120 ms    │ 350 ms    │ 3.0     │ 7.0       │ 3 s       │ 63.0    │ 350 ms    │ 0.2     │ 500 ms    │ 6.0     │ 3 s       │ 6.0     │ 500 ms    │ 500 ms    │ 500 ms    │ 6     │ 3.0       │ 350 ms    │ 500 ms    │ 15.0    │ 2635   │\n",
      "│ Keyword selection: (f_c_a = 0.0, f_c_m = 63.0, f_c_σ = 0.2, s_c_a = 63.0, s_c_m = 790.0, s_c_σ = 0.2, t_c_a = 10000.0, t_c_m = 790.0, t_c_σ = 0.2)\n",
      "└ @ Main /Users/davidlittle/Documents/work/projects/bistable/src/measures.jl:22\n",
      "┌ Warning: Expected 3 parameter entries. \n",
      "│ Instead, only found entires: 2×36 DataFrame\n",
      "│ │ Row │ f_W_m_σ │ f_c_m   │ t_c_a   │ t_c_m   │ f         │ t_W_m_c │ t_c_x   │ f_c_x   │ t_W_m_σ_t │ s_τ_σ     │ f_c_a   │ f_c_σ   │ s_c_m   │ f_τ_a     │ s_c_σ   │ Δt        │ s_τ_m     │ s_c_x   │ t_W_m_σ_ϕ │ t_τ_a     │ s_c_a   │ t_τ_m     │ t_c_σ   │ t_τ_x     │ s_W_m_c │ s_τ_a     │ f_W_m_c │ t_τ_σ     │ f_τ_σ     │ f_τ_x     │ Δf    │ t_W_m_σ_N │ f_τ_m     │ s_τ_x     │ s_W_m_σ │ pindex │\n",
      "│ │     │ Float64 │ Float64 │ Float64 │ Float64 │ Quantity… │ Float64 │ Float64 │ Float64 │ Float64   │ Quantity… │ Float64 │ Float64 │ Float64 │ Quantity… │ Float64 │ Quantity… │ Quantity… │ Float64 │ Float64   │ Quantity… │ Float64 │ Quantity… │ Float64 │ Quantity… │ Float64 │ Quantity… │ Float64 │ Quantity… │ Quantity… │ Quantity… │ Int64 │ Float64   │ Quantity… │ Quantity… │ Float64 │ Int64  │\n",
      "│ ├─────┼─────────┼─────────┼─────────┼─────────┼───────────┼─────────┼─────────┼─────────┼───────────┼───────────┼─────────┼─────────┼─────────┼───────────┼─────────┼───────────┼───────────┼─────────┼───────────┼───────────┼─────────┼───────────┼─────────┼───────────┼─────────┼───────────┼─────────┼───────────┼───────────┼───────────┼───────┼───────────┼───────────┼───────────┼─────────┼────────┤\n",
      "│ │ 1   │ 5.6     │ 790.0   │ 10000.0 │ 790.0   │ 500 Hz    │ 6.0     │ 3.0     │ 3.0     │ 7.0       │ 500 ms    │ 0.0     │ 0.2     │ 790.0   │ 3 s       │ 0.2     │ 120 ms    │ 350 ms    │ 3.0     │ 7.0       │ 3 s       │ 63.0    │ 350 ms    │ 0.2     │ 500 ms    │ 6.0     │ 3 s       │ 6.0     │ 500 ms    │ 500 ms    │ 500 ms    │ 3     │ 3.0       │ 350 ms    │ 500 ms    │ 15.0    │ 1232   │\n",
      "│ │ 2   │ 5.6     │ 790.0   │ 10000.0 │ 790.0   │ 500 Hz    │ 6.0     │ 3.0     │ 3.0     │ 7.0       │ 500 ms    │ 0.0     │ 0.2     │ 790.0   │ 3 s       │ 0.2     │ 120 ms    │ 350 ms    │ 3.0     │ 7.0       │ 3 s       │ 63.0    │ 350 ms    │ 0.2     │ 500 ms    │ 6.0     │ 3 s       │ 6.0     │ 500 ms    │ 500 ms    │ 500 ms    │ 6     │ 3.0       │ 350 ms    │ 500 ms    │ 15.0    │ 2636   │\n",
      "│ Keyword selection: (f_c_a = 0.0, f_c_m = 790.0, f_c_σ = 0.2, s_c_a = 63.0, s_c_m = 790.0, s_c_σ = 0.2, t_c_a = 10000.0, t_c_m = 790.0, t_c_σ = 0.2)\n",
      "└ @ Main /Users/davidlittle/Documents/work/projects/bistable/src/measures.jl:22\n",
      "\u001b[32mProgress: 100%|█████████████████████████████████████████| Time: 0:00:08\u001b[39m\n"
     ]
    },
    {
     "data": {
      "text/html": [
       "<table class=\"data-frame\"><thead><tr><th></th><th>f_c_a</th><th>f_c_m</th><th>f_c_σ</th><th>s_c_a</th><th>s_c_m</th><th>s_c_σ</th><th>t_c_a</th><th>t_c_m</th><th>t_c_σ</th><th>stream_error</th><th>length_error</th><th>eratio</th><th>pindex</th></tr><tr><th></th><th>Float64</th><th>Float64</th><th>Float64</th><th>Float64</th><th>Float64</th><th>Float64</th><th>Float64</th><th>Float64</th><th>Float64</th><th>Float64</th><th>Float64</th><th>Float64</th><th>Int64</th></tr></thead><tbody><p>1,404 rows × 13 columns</p><tr><th>1</th><td>5.0</td><td>0.0</td><td>0.2</td><td>0.0</td><td>0.0</td><td>0.2</td><td>0.0</td><td>0.0</td><td>0.2</td><td>0.127154</td><td>0.248804</td><td>0.829323</td><td>1</td></tr><tr><th>2</th><td>5.0</td><td>5.0</td><td>0.2</td><td>0.0</td><td>0.0</td><td>0.2</td><td>0.0</td><td>0.0</td><td>0.2</td><td>0.443723</td><td>0.226333</td><td>1.92335</td><td>2</td></tr><tr><th>3</th><td>5.0</td><td>63.0</td><td>0.2</td><td>0.0</td><td>0.0</td><td>0.2</td><td>0.0</td><td>0.0</td><td>0.2</td><td>0.135096</td><td>0.529185</td><td>1.28162</td><td>3</td></tr><tr><th>4</th><td>5.0</td><td>0.0</td><td>0.2</td><td>0.0</td><td>0.0</td><td>0.2</td><td>5.0</td><td>0.0</td><td>0.2</td><td>0.152268</td><td>0.19362</td><td>0.83536</td><td>4</td></tr><tr><th>5</th><td>5.0</td><td>5.0</td><td>0.2</td><td>0.0</td><td>0.0</td><td>0.2</td><td>5.0</td><td>0.0</td><td>0.2</td><td>0.444997</td><td>0.207696</td><td>1.8997</td><td>5</td></tr><tr><th>6</th><td>5.0</td><td>63.0</td><td>0.2</td><td>0.0</td><td>0.0</td><td>0.2</td><td>5.0</td><td>0.0</td><td>0.2</td><td>0.13456</td><td>0.528276</td><td>1.27833</td><td>6</td></tr><tr><th>7</th><td>5.0</td><td>0.0</td><td>0.2</td><td>0.0</td><td>0.0</td><td>0.2</td><td>63.0</td><td>0.0</td><td>0.2</td><td>0.146464</td><td>0.222802</td><td>0.858806</td><td>7</td></tr><tr><th>8</th><td>5.0</td><td>5.0</td><td>0.2</td><td>0.0</td><td>0.0</td><td>0.2</td><td>63.0</td><td>0.0</td><td>0.2</td><td>0.436585</td><td>0.212728</td><td>1.87734</td><td>8</td></tr><tr><th>9</th><td>5.0</td><td>63.0</td><td>0.2</td><td>0.0</td><td>0.0</td><td>0.2</td><td>63.0</td><td>0.0</td><td>0.2</td><td>0.130994</td><td>0.518901</td><td>1.25145</td><td>9</td></tr><tr><th>10</th><td>5.0</td><td>0.0</td><td>0.2</td><td>0.0</td><td>0.0</td><td>0.2</td><td>790.0</td><td>0.0</td><td>0.2</td><td>0.142514</td><td>0.293302</td><td>0.951344</td><td>10</td></tr><tr><th>11</th><td>5.0</td><td>5.0</td><td>0.2</td><td>0.0</td><td>0.0</td><td>0.2</td><td>790.0</td><td>0.0</td><td>0.2</td><td>0.441804</td><td>0.174369</td><td>1.83793</td><td>11</td></tr><tr><th>12</th><td>5.0</td><td>63.0</td><td>0.2</td><td>0.0</td><td>0.0</td><td>0.2</td><td>790.0</td><td>0.0</td><td>0.2</td><td>0.127697</td><td>0.532083</td><td>1.25964</td><td>12</td></tr><tr><th>13</th><td>5.0</td><td>0.0</td><td>0.2</td><td>0.0</td><td>0.0</td><td>0.2</td><td>10000.0</td><td>0.0</td><td>0.2</td><td>0.15733</td><td>0.217514</td><td>0.889532</td><td>13</td></tr><tr><th>14</th><td>5.0</td><td>5.0</td><td>0.2</td><td>0.0</td><td>0.0</td><td>0.2</td><td>10000.0</td><td>0.0</td><td>0.2</td><td>0.421305</td><td>0.222809</td><td>1.83814</td><td>14</td></tr><tr><th>15</th><td>5.0</td><td>63.0</td><td>0.2</td><td>0.0</td><td>0.0</td><td>0.2</td><td>10000.0</td><td>0.0</td><td>0.2</td><td>0.12878</td><td>0.501741</td><td>1.21761</td><td>15</td></tr><tr><th>16</th><td>5.0</td><td>0.0</td><td>0.2</td><td>0.0</td><td>0.0</td><td>0.2</td><td>0.0</td><td>5.0</td><td>0.2</td><td>0.131374</td><td>0.223388</td><td>0.805924</td><td>16</td></tr><tr><th>17</th><td>5.0</td><td>5.0</td><td>0.2</td><td>0.0</td><td>0.0</td><td>0.2</td><td>0.0</td><td>5.0</td><td>0.2</td><td>0.442964</td><td>0.16231</td><td>1.82383</td><td>17</td></tr><tr><th>18</th><td>5.0</td><td>63.0</td><td>0.2</td><td>0.0</td><td>0.0</td><td>0.2</td><td>0.0</td><td>5.0</td><td>0.2</td><td>0.130295</td><td>0.529715</td><td>1.26531</td><td>18</td></tr><tr><th>19</th><td>5.0</td><td>0.0</td><td>0.2</td><td>0.0</td><td>0.0</td><td>0.2</td><td>5.0</td><td>5.0</td><td>0.2</td><td>0.141133</td><td>0.195146</td><td>0.797991</td><td>19</td></tr><tr><th>20</th><td>5.0</td><td>5.0</td><td>0.2</td><td>0.0</td><td>0.0</td><td>0.2</td><td>5.0</td><td>5.0</td><td>0.2</td><td>0.430435</td><td>0.123644</td><td>1.72071</td><td>20</td></tr><tr><th>21</th><td>5.0</td><td>63.0</td><td>0.2</td><td>0.0</td><td>0.0</td><td>0.2</td><td>5.0</td><td>5.0</td><td>0.2</td><td>0.135506</td><td>0.534202</td><td>1.29067</td><td>21</td></tr><tr><th>22</th><td>5.0</td><td>0.0</td><td>0.2</td><td>0.0</td><td>0.0</td><td>0.2</td><td>63.0</td><td>5.0</td><td>0.2</td><td>0.140629</td><td>0.23823</td><td>0.861347</td><td>22</td></tr><tr><th>23</th><td>5.0</td><td>5.0</td><td>0.2</td><td>0.0</td><td>0.0</td><td>0.2</td><td>63.0</td><td>5.0</td><td>0.2</td><td>0.434896</td><td>0.214609</td><td>1.87416</td><td>23</td></tr><tr><th>24</th><td>5.0</td><td>63.0</td><td>0.2</td><td>0.0</td><td>0.0</td><td>0.2</td><td>63.0</td><td>5.0</td><td>0.2</td><td>0.133178</td><td>0.497462</td><td>1.22681</td><td>24</td></tr><tr><th>25</th><td>5.0</td><td>0.0</td><td>0.2</td><td>0.0</td><td>0.0</td><td>0.2</td><td>790.0</td><td>5.0</td><td>0.2</td><td>0.150266</td><td>0.182273</td><td>0.811067</td><td>25</td></tr><tr><th>26</th><td>5.0</td><td>5.0</td><td>0.2</td><td>0.0</td><td>0.0</td><td>0.2</td><td>790.0</td><td>5.0</td><td>0.2</td><td>0.425168</td><td>0.200603</td><td>1.81832</td><td>26</td></tr><tr><th>27</th><td>5.0</td><td>63.0</td><td>0.2</td><td>0.0</td><td>0.0</td><td>0.2</td><td>790.0</td><td>5.0</td><td>0.2</td><td>0.128377</td><td>0.517677</td><td>1.24028</td><td>27</td></tr><tr><th>28</th><td>5.0</td><td>0.0</td><td>0.2</td><td>0.0</td><td>0.0</td><td>0.2</td><td>10000.0</td><td>5.0</td><td>0.2</td><td>0.161247</td><td>0.216352</td><td>0.90173</td><td>28</td></tr><tr><th>29</th><td>5.0</td><td>5.0</td><td>0.2</td><td>0.0</td><td>0.0</td><td>0.2</td><td>10000.0</td><td>5.0</td><td>0.2</td><td>0.445703</td><td>0.116533</td><td>1.76436</td><td>29</td></tr><tr><th>30</th><td>5.0</td><td>63.0</td><td>0.2</td><td>0.0</td><td>0.0</td><td>0.2</td><td>10000.0</td><td>5.0</td><td>0.2</td><td>0.128329</td><td>0.483587</td><td>1.18855</td><td>30</td></tr><tr><th>&vellip;</th><td>&vellip;</td><td>&vellip;</td><td>&vellip;</td><td>&vellip;</td><td>&vellip;</td><td>&vellip;</td><td>&vellip;</td><td>&vellip;</td><td>&vellip;</td><td>&vellip;</td><td>&vellip;</td><td>&vellip;</td><td>&vellip;</td></tr></tbody></table>"
      ],
      "text/latex": [
       "\\begin{tabular}{r|ccccccccccccc}\n",
       "\t& f\\_c\\_a & f\\_c\\_m & f\\_c\\_σ & s\\_c\\_a & s\\_c\\_m & s\\_c\\_σ & t\\_c\\_a & t\\_c\\_m & t\\_c\\_σ & stream\\_error & length\\_error & eratio & pindex\\\\\n",
       "\t\\hline\n",
       "\t& Float64 & Float64 & Float64 & Float64 & Float64 & Float64 & Float64 & Float64 & Float64 & Float64 & Float64 & Float64 & Int64\\\\\n",
       "\t\\hline\n",
       "\t1 & 5.0 & 0.0 & 0.2 & 0.0 & 0.0 & 0.2 & 0.0 & 0.0 & 0.2 & 0.127154 & 0.248804 & 0.829323 & 1 \\\\\n",
       "\t2 & 5.0 & 5.0 & 0.2 & 0.0 & 0.0 & 0.2 & 0.0 & 0.0 & 0.2 & 0.443723 & 0.226333 & 1.92335 & 2 \\\\\n",
       "\t3 & 5.0 & 63.0 & 0.2 & 0.0 & 0.0 & 0.2 & 0.0 & 0.0 & 0.2 & 0.135096 & 0.529185 & 1.28162 & 3 \\\\\n",
       "\t4 & 5.0 & 0.0 & 0.2 & 0.0 & 0.0 & 0.2 & 5.0 & 0.0 & 0.2 & 0.152268 & 0.19362 & 0.83536 & 4 \\\\\n",
       "\t5 & 5.0 & 5.0 & 0.2 & 0.0 & 0.0 & 0.2 & 5.0 & 0.0 & 0.2 & 0.444997 & 0.207696 & 1.8997 & 5 \\\\\n",
       "\t6 & 5.0 & 63.0 & 0.2 & 0.0 & 0.0 & 0.2 & 5.0 & 0.0 & 0.2 & 0.13456 & 0.528276 & 1.27833 & 6 \\\\\n",
       "\t7 & 5.0 & 0.0 & 0.2 & 0.0 & 0.0 & 0.2 & 63.0 & 0.0 & 0.2 & 0.146464 & 0.222802 & 0.858806 & 7 \\\\\n",
       "\t8 & 5.0 & 5.0 & 0.2 & 0.0 & 0.0 & 0.2 & 63.0 & 0.0 & 0.2 & 0.436585 & 0.212728 & 1.87734 & 8 \\\\\n",
       "\t9 & 5.0 & 63.0 & 0.2 & 0.0 & 0.0 & 0.2 & 63.0 & 0.0 & 0.2 & 0.130994 & 0.518901 & 1.25145 & 9 \\\\\n",
       "\t10 & 5.0 & 0.0 & 0.2 & 0.0 & 0.0 & 0.2 & 790.0 & 0.0 & 0.2 & 0.142514 & 0.293302 & 0.951344 & 10 \\\\\n",
       "\t11 & 5.0 & 5.0 & 0.2 & 0.0 & 0.0 & 0.2 & 790.0 & 0.0 & 0.2 & 0.441804 & 0.174369 & 1.83793 & 11 \\\\\n",
       "\t12 & 5.0 & 63.0 & 0.2 & 0.0 & 0.0 & 0.2 & 790.0 & 0.0 & 0.2 & 0.127697 & 0.532083 & 1.25964 & 12 \\\\\n",
       "\t13 & 5.0 & 0.0 & 0.2 & 0.0 & 0.0 & 0.2 & 10000.0 & 0.0 & 0.2 & 0.15733 & 0.217514 & 0.889532 & 13 \\\\\n",
       "\t14 & 5.0 & 5.0 & 0.2 & 0.0 & 0.0 & 0.2 & 10000.0 & 0.0 & 0.2 & 0.421305 & 0.222809 & 1.83814 & 14 \\\\\n",
       "\t15 & 5.0 & 63.0 & 0.2 & 0.0 & 0.0 & 0.2 & 10000.0 & 0.0 & 0.2 & 0.12878 & 0.501741 & 1.21761 & 15 \\\\\n",
       "\t16 & 5.0 & 0.0 & 0.2 & 0.0 & 0.0 & 0.2 & 0.0 & 5.0 & 0.2 & 0.131374 & 0.223388 & 0.805924 & 16 \\\\\n",
       "\t17 & 5.0 & 5.0 & 0.2 & 0.0 & 0.0 & 0.2 & 0.0 & 5.0 & 0.2 & 0.442964 & 0.16231 & 1.82383 & 17 \\\\\n",
       "\t18 & 5.0 & 63.0 & 0.2 & 0.0 & 0.0 & 0.2 & 0.0 & 5.0 & 0.2 & 0.130295 & 0.529715 & 1.26531 & 18 \\\\\n",
       "\t19 & 5.0 & 0.0 & 0.2 & 0.0 & 0.0 & 0.2 & 5.0 & 5.0 & 0.2 & 0.141133 & 0.195146 & 0.797991 & 19 \\\\\n",
       "\t20 & 5.0 & 5.0 & 0.2 & 0.0 & 0.0 & 0.2 & 5.0 & 5.0 & 0.2 & 0.430435 & 0.123644 & 1.72071 & 20 \\\\\n",
       "\t21 & 5.0 & 63.0 & 0.2 & 0.0 & 0.0 & 0.2 & 5.0 & 5.0 & 0.2 & 0.135506 & 0.534202 & 1.29067 & 21 \\\\\n",
       "\t22 & 5.0 & 0.0 & 0.2 & 0.0 & 0.0 & 0.2 & 63.0 & 5.0 & 0.2 & 0.140629 & 0.23823 & 0.861347 & 22 \\\\\n",
       "\t23 & 5.0 & 5.0 & 0.2 & 0.0 & 0.0 & 0.2 & 63.0 & 5.0 & 0.2 & 0.434896 & 0.214609 & 1.87416 & 23 \\\\\n",
       "\t24 & 5.0 & 63.0 & 0.2 & 0.0 & 0.0 & 0.2 & 63.0 & 5.0 & 0.2 & 0.133178 & 0.497462 & 1.22681 & 24 \\\\\n",
       "\t25 & 5.0 & 0.0 & 0.2 & 0.0 & 0.0 & 0.2 & 790.0 & 5.0 & 0.2 & 0.150266 & 0.182273 & 0.811067 & 25 \\\\\n",
       "\t26 & 5.0 & 5.0 & 0.2 & 0.0 & 0.0 & 0.2 & 790.0 & 5.0 & 0.2 & 0.425168 & 0.200603 & 1.81832 & 26 \\\\\n",
       "\t27 & 5.0 & 63.0 & 0.2 & 0.0 & 0.0 & 0.2 & 790.0 & 5.0 & 0.2 & 0.128377 & 0.517677 & 1.24028 & 27 \\\\\n",
       "\t28 & 5.0 & 0.0 & 0.2 & 0.0 & 0.0 & 0.2 & 10000.0 & 5.0 & 0.2 & 0.161247 & 0.216352 & 0.90173 & 28 \\\\\n",
       "\t29 & 5.0 & 5.0 & 0.2 & 0.0 & 0.0 & 0.2 & 10000.0 & 5.0 & 0.2 & 0.445703 & 0.116533 & 1.76436 & 29 \\\\\n",
       "\t30 & 5.0 & 63.0 & 0.2 & 0.0 & 0.0 & 0.2 & 10000.0 & 5.0 & 0.2 & 0.128329 & 0.483587 & 1.18855 & 30 \\\\\n",
       "\t$\\dots$ & $\\dots$ & $\\dots$ & $\\dots$ & $\\dots$ & $\\dots$ & $\\dots$ & $\\dots$ & $\\dots$ & $\\dots$ & $\\dots$ & $\\dots$ & $\\dots$ & $\\dots$ \\\\\n",
       "\\end{tabular}\n"
      ],
      "text/plain": [
       "1404×13 DataFrame. Omitted printing of 6 columns\n",
       "│ Row  │ f_c_a   │ f_c_m   │ f_c_σ   │ s_c_a   │ s_c_m   │ s_c_σ   │ t_c_a   │\n",
       "│      │ \u001b[90mFloat64\u001b[39m │ \u001b[90mFloat64\u001b[39m │ \u001b[90mFloat64\u001b[39m │ \u001b[90mFloat64\u001b[39m │ \u001b[90mFloat64\u001b[39m │ \u001b[90mFloat64\u001b[39m │ \u001b[90mFloat64\u001b[39m │\n",
       "├──────┼─────────┼─────────┼─────────┼─────────┼─────────┼─────────┼─────────┤\n",
       "│ 1    │ 5.0     │ 0.0     │ 0.2     │ 0.0     │ 0.0     │ 0.2     │ 0.0     │\n",
       "│ 2    │ 5.0     │ 5.0     │ 0.2     │ 0.0     │ 0.0     │ 0.2     │ 0.0     │\n",
       "│ 3    │ 5.0     │ 63.0    │ 0.2     │ 0.0     │ 0.0     │ 0.2     │ 0.0     │\n",
       "│ 4    │ 5.0     │ 0.0     │ 0.2     │ 0.0     │ 0.0     │ 0.2     │ 5.0     │\n",
       "│ 5    │ 5.0     │ 5.0     │ 0.2     │ 0.0     │ 0.0     │ 0.2     │ 5.0     │\n",
       "│ 6    │ 5.0     │ 63.0    │ 0.2     │ 0.0     │ 0.0     │ 0.2     │ 5.0     │\n",
       "│ 7    │ 5.0     │ 0.0     │ 0.2     │ 0.0     │ 0.0     │ 0.2     │ 63.0    │\n",
       "│ 8    │ 5.0     │ 5.0     │ 0.2     │ 0.0     │ 0.0     │ 0.2     │ 63.0    │\n",
       "│ 9    │ 5.0     │ 63.0    │ 0.2     │ 0.0     │ 0.0     │ 0.2     │ 63.0    │\n",
       "│ 10   │ 5.0     │ 0.0     │ 0.2     │ 0.0     │ 0.0     │ 0.2     │ 790.0   │\n",
       "⋮\n",
       "│ 1394 │ 0.0     │ 5.0     │ 0.2     │ 790.0   │ 790.0   │ 0.2     │ 10000.0 │\n",
       "│ 1395 │ 0.0     │ 0.0     │ 0.2     │ 790.0   │ 790.0   │ 0.2     │ 0.0     │\n",
       "│ 1396 │ 0.0     │ 5.0     │ 0.2     │ 790.0   │ 790.0   │ 0.2     │ 0.0     │\n",
       "│ 1397 │ 0.0     │ 0.0     │ 0.2     │ 790.0   │ 790.0   │ 0.2     │ 5.0     │\n",
       "│ 1398 │ 0.0     │ 5.0     │ 0.2     │ 790.0   │ 790.0   │ 0.2     │ 5.0     │\n",
       "│ 1399 │ 0.0     │ 0.0     │ 0.2     │ 790.0   │ 790.0   │ 0.2     │ 63.0    │\n",
       "│ 1400 │ 0.0     │ 5.0     │ 0.2     │ 790.0   │ 790.0   │ 0.2     │ 63.0    │\n",
       "│ 1401 │ 0.0     │ 0.0     │ 0.2     │ 790.0   │ 790.0   │ 0.2     │ 790.0   │\n",
       "│ 1402 │ 0.0     │ 5.0     │ 0.2     │ 790.0   │ 790.0   │ 0.2     │ 790.0   │\n",
       "│ 1403 │ 0.0     │ 0.0     │ 0.2     │ 790.0   │ 790.0   │ 0.2     │ 10000.0 │\n",
       "│ 1404 │ 0.0     │ 5.0     │ 0.2     │ 790.0   │ 790.0   │ 0.2     │ 10000.0 │"
      ]
     },
     "execution_count": 33,
     "metadata": {},
     "output_type": "execute_result"
    }
   ],
   "source": [
    "fields = [:f_c_a,:f_c_m,:f_c_σ,:s_c_a,:s_c_m,:s_c_σ,:t_c_a,:t_c_m,:t_c_σ]\n",
    "progress = Progress(nrow(unique(params_selected[fields])))\n",
    "df_summary_selected = by(params_selected,fields) do row\n",
    "    next!(progress)\n",
    "    err = model_error(df_selected,params_selected;(k => row[1,k] for k in fields)...)\n",
    "    DataFrame(stream_error = err.stream,length_error = err.lengths, eratio = error_ratio(err,herr),pindex = row.pindex[1])\n",
    "end"
   ]
  },
  {
   "cell_type": "code",
   "execution_count": 34,
   "metadata": {},
   "outputs": [
    {
     "name": "stderr",
     "output_type": "stream",
     "text": [
      "┌ Warning: `head(df::AbstractDataFrame)` is deprecated, use `first(df, 6)` instead.\n",
      "│   caller = top-level scope at In[34]:19\n",
      "└ @ Core In[34]:19\n"
     ]
    },
    {
     "data": {
      "text/html": [
       "<table class=\"data-frame\"><thead><tr><th></th><th>f_c_a</th><th>f_c_m</th><th>f_c_σ</th><th>s_c_a</th><th>s_c_m</th><th>s_c_σ</th><th>t_c_a</th><th>t_c_m</th><th>t_c_σ</th><th>eratio</th><th>stream_error</th><th>length_error</th></tr><tr><th></th><th>Float64</th><th>Float64</th><th>Float64</th><th>Float64</th><th>Float64</th><th>Float64</th><th>Float64</th><th>Float64</th><th>Float64</th><th>Float64</th><th>Float64</th><th>Float64</th></tr></thead><tbody><p>6 rows × 12 columns</p><tr><th>1</th><td>0.0</td><td>0.0</td><td>0.2</td><td>0.0</td><td>0.0</td><td>0.2</td><td>0.0</td><td>0.0</td><td>0.2</td><td>1.52392</td><td>0.323352</td><td>0.24583</td></tr><tr><th>2</th><td>0.0</td><td>5.0</td><td>0.2</td><td>0.0</td><td>0.0</td><td>0.2</td><td>0.0</td><td>0.0</td><td>0.2</td><td>1.51624</td><td>0.308735</td><td>0.27519</td></tr><tr><th>3</th><td>0.0</td><td>63.0</td><td>0.2</td><td>0.0</td><td>0.0</td><td>0.2</td><td>0.0</td><td>0.0</td><td>0.2</td><td>2.32611</td><td>0.237616</td><td>0.978323</td></tr><tr><th>4</th><td>0.0</td><td>790.0</td><td>0.2</td><td>0.0</td><td>0.0</td><td>0.2</td><td>0.0</td><td>0.0</td><td>0.2</td><td>2.32611</td><td>0.237616</td><td>0.978323</td></tr><tr><th>5</th><td>0.0</td><td>10000.0</td><td>0.2</td><td>0.0</td><td>0.0</td><td>0.2</td><td>0.0</td><td>0.0</td><td>0.2</td><td>2.32611</td><td>0.237616</td><td>0.978323</td></tr><tr><th>6</th><td>0.0</td><td>0.0</td><td>0.2</td><td>0.0</td><td>0.0</td><td>0.2</td><td>5.0</td><td>0.0</td><td>0.2</td><td>1.51858</td><td>0.319442</td><td>0.251511</td></tr></tbody></table>"
      ],
      "text/latex": [
       "\\begin{tabular}{r|cccccccccccc}\n",
       "\t& f\\_c\\_a & f\\_c\\_m & f\\_c\\_σ & s\\_c\\_a & s\\_c\\_m & s\\_c\\_σ & t\\_c\\_a & t\\_c\\_m & t\\_c\\_σ & eratio & stream\\_error & length\\_error\\\\\n",
       "\t\\hline\n",
       "\t& Float64 & Float64 & Float64 & Float64 & Float64 & Float64 & Float64 & Float64 & Float64 & Float64 & Float64 & Float64\\\\\n",
       "\t\\hline\n",
       "\t1 & 0.0 & 0.0 & 0.2 & 0.0 & 0.0 & 0.2 & 0.0 & 0.0 & 0.2 & 1.52392 & 0.323352 & 0.24583 \\\\\n",
       "\t2 & 0.0 & 5.0 & 0.2 & 0.0 & 0.0 & 0.2 & 0.0 & 0.0 & 0.2 & 1.51624 & 0.308735 & 0.27519 \\\\\n",
       "\t3 & 0.0 & 63.0 & 0.2 & 0.0 & 0.0 & 0.2 & 0.0 & 0.0 & 0.2 & 2.32611 & 0.237616 & 0.978323 \\\\\n",
       "\t4 & 0.0 & 790.0 & 0.2 & 0.0 & 0.0 & 0.2 & 0.0 & 0.0 & 0.2 & 2.32611 & 0.237616 & 0.978323 \\\\\n",
       "\t5 & 0.0 & 10000.0 & 0.2 & 0.0 & 0.0 & 0.2 & 0.0 & 0.0 & 0.2 & 2.32611 & 0.237616 & 0.978323 \\\\\n",
       "\t6 & 0.0 & 0.0 & 0.2 & 0.0 & 0.0 & 0.2 & 5.0 & 0.0 & 0.2 & 1.51858 & 0.319442 & 0.251511 \\\\\n",
       "\\end{tabular}\n"
      ],
      "text/plain": [
       "6×12 DataFrame. Omitted printing of 5 columns\n",
       "│ Row │ f_c_a   │ f_c_m   │ f_c_σ   │ s_c_a   │ s_c_m   │ s_c_σ   │ t_c_a   │\n",
       "│     │ \u001b[90mFloat64\u001b[39m │ \u001b[90mFloat64\u001b[39m │ \u001b[90mFloat64\u001b[39m │ \u001b[90mFloat64\u001b[39m │ \u001b[90mFloat64\u001b[39m │ \u001b[90mFloat64\u001b[39m │ \u001b[90mFloat64\u001b[39m │\n",
       "├─────┼─────────┼─────────┼─────────┼─────────┼─────────┼─────────┼─────────┤\n",
       "│ 1   │ 0.0     │ 0.0     │ 0.2     │ 0.0     │ 0.0     │ 0.2     │ 0.0     │\n",
       "│ 2   │ 0.0     │ 5.0     │ 0.2     │ 0.0     │ 0.0     │ 0.2     │ 0.0     │\n",
       "│ 3   │ 0.0     │ 63.0    │ 0.2     │ 0.0     │ 0.0     │ 0.2     │ 0.0     │\n",
       "│ 4   │ 0.0     │ 790.0   │ 0.2     │ 0.0     │ 0.0     │ 0.2     │ 0.0     │\n",
       "│ 5   │ 0.0     │ 10000.0 │ 0.2     │ 0.0     │ 0.0     │ 0.2     │ 0.0     │\n",
       "│ 6   │ 0.0     │ 0.0     │ 0.2     │ 0.0     │ 0.0     │ 0.2     │ 5.0     │"
      ]
     },
     "execution_count": 34,
     "metadata": {},
     "output_type": "execute_result"
    }
   ],
   "source": [
    "# if there is a selected entry with a revised eratio, use that value\n",
    "\n",
    "df_summary_selected[:procedure] = \"selected\"\n",
    "df_summary_all[:procedure] = \"survey\"\n",
    "function favor_selected(vals,procedure)\n",
    "    selected = findfirst(procedure .== \"selected\")\n",
    "    if selected isa Nothing\n",
    "        @assert length(vals) == 1\n",
    "        first(vals)\n",
    "    else\n",
    "        vals[selected]\n",
    "    end\n",
    "end\n",
    "    \n",
    "df_summary_multi = @linq vcat(df_summary_all,df_summary_selected) |>\n",
    "    by(fields,eratio = favor_selected(:eratio,:procedure),\n",
    "              stream_error = favor_selected(:stream_error,:procedure),\n",
    "              length_error = favor_selected(:length_error,:procedure))\n",
    "head(df_summary_multi)"
   ]
  },
  {
   "cell_type": "code",
   "execution_count": 35,
   "metadata": {},
   "outputs": [
    {
     "data": {
      "text/plain": [
       "3-element Array{DataFrame,1}:\n",
       " 25×6 DataFrame. Omitted printing of 1 columns\n",
       "│ Row │ c_a     │ c_m     │ level      │ eratio   │ stream_error │\n",
       "│     │ \u001b[90mFloat64\u001b[39m │ \u001b[90mFloat64\u001b[39m │ \u001b[90mString\u001b[39m     │ \u001b[90mFloat64\u001b[39m  │ \u001b[90mFloat64\u001b[39m      │\n",
       "├─────┼─────────┼─────────┼────────────┼──────────┼──────────────┤\n",
       "│ 1   │ 0.0     │ 0.0     │ Peripheral │ 0.932824 │ 0.228196     │\n",
       "│ 2   │ 0.0     │ 5.0     │ Peripheral │ 0.623723 │ 0.109395     │\n",
       "│ 3   │ 0.0     │ 63.0    │ Peripheral │ 0.853524 │ 0.167926     │\n",
       "│ 4   │ 0.0     │ 790.0   │ Peripheral │ 0.813696 │ 0.136545     │\n",
       "│ 5   │ 0.0     │ 10000.0 │ Peripheral │ 0.789023 │ 0.13018      │\n",
       "│ 6   │ 5.0     │ 0.0     │ Peripheral │ 0.547342 │ 0.0961476    │\n",
       "│ 7   │ 5.0     │ 5.0     │ Peripheral │ 0.881009 │ 0.191613     │\n",
       "│ 8   │ 5.0     │ 63.0    │ Peripheral │ 1.01956  │ 0.0938183    │\n",
       "│ 9   │ 5.0     │ 790.0   │ Peripheral │ 0.732997 │ 0.1248       │\n",
       "│ 10  │ 5.0     │ 10000.0 │ Peripheral │ 1.02551  │ 0.211324     │\n",
       "⋮\n",
       "│ 15  │ 63.0    │ 10000.0 │ Peripheral │ 0.763167 │ 0.170747     │\n",
       "│ 16  │ 790.0   │ 0.0     │ Peripheral │ 2.68998  │ 0.339735     │\n",
       "│ 17  │ 790.0   │ 5.0     │ Peripheral │ 2.49015  │ 0.339735     │\n",
       "│ 18  │ 790.0   │ 63.0    │ Peripheral │ 2.43063  │ 0.338755     │\n",
       "│ 19  │ 790.0   │ 790.0   │ Peripheral │ 1.76674  │ 0.328582     │\n",
       "│ 20  │ 790.0   │ 10000.0 │ Peripheral │ 1.72346  │ 0.32806      │\n",
       "│ 21  │ 10000.0 │ 0.0     │ Peripheral │ 2.68998  │ 0.339735     │\n",
       "│ 22  │ 10000.0 │ 5.0     │ Peripheral │ 2.68998  │ 0.339735     │\n",
       "│ 23  │ 10000.0 │ 63.0    │ Peripheral │ 2.68998  │ 0.339735     │\n",
       "│ 24  │ 10000.0 │ 790.0   │ Peripheral │ 2.54519  │ 0.338755     │\n",
       "│ 25  │ 10000.0 │ 10000.0 │ Peripheral │ 2.36396  │ 0.337688     │                                                                                                                                                                                                                                                                                                   \n",
       " 25×6 DataFrame\n",
       "│ Row │ c_a     │ c_m     │ level    │ eratio   │ stream_error │ length_error │\n",
       "│     │ \u001b[90mFloat64\u001b[39m │ \u001b[90mFloat64\u001b[39m │ \u001b[90mString\u001b[39m   │ \u001b[90mFloat64\u001b[39m  │ \u001b[90mFloat64\u001b[39m      │ \u001b[90mFloat64\u001b[39m      │\n",
       "├─────┼─────────┼─────────┼──────────┼──────────┼──────────────┼──────────────┤\n",
       "│ 1   │ 0.0     │ 0.0     │ Cortical │ 0.684966 │ 0.120767     │ 0.168392     │\n",
       "│ 2   │ 0.0     │ 5.0     │ Cortical │ 0.69075  │ 0.111373     │ 0.194353     │\n",
       "│ 3   │ 0.0     │ 63.0    │ Cortical │ 0.631587 │ 0.102649     │ 0.175785     │\n",
       "│ 4   │ 0.0     │ 790.0   │ Cortical │ 0.889438 │ 0.19034      │ 0.139672     │\n",
       "│ 5   │ 0.0     │ 10000.0 │ Cortical │ 0.662711 │ 0.111005     │ 0.176679     │\n",
       "│ 6   │ 5.0     │ 0.0     │ Cortical │ 0.732172 │ 0.127891     │ 0.182822     │\n",
       "│ 7   │ 5.0     │ 5.0     │ Cortical │ 0.662049 │ 0.0973765    │ 0.208354     │\n",
       "│ 8   │ 5.0     │ 63.0    │ Cortical │ 0.680042 │ 0.106293     │ 0.199241     │\n",
       "│ 9   │ 5.0     │ 790.0   │ Cortical │ 0.767088 │ 0.129269     │ 0.202666     │\n",
       "│ 10  │ 5.0     │ 10000.0 │ Cortical │ 0.686295 │ 0.10245      │ 0.212432     │\n",
       "⋮\n",
       "│ 15  │ 63.0    │ 10000.0 │ Cortical │ 1.16342  │ 0.273799     │ 0.124197     │\n",
       "│ 16  │ 790.0   │ 0.0     │ Cortical │ 1.48887  │ 0.313323     │ 0.246278     │\n",
       "│ 17  │ 790.0   │ 5.0     │ Cortical │ 1.9342   │ 0.33005      │ 0.501357     │\n",
       "│ 18  │ 790.0   │ 63.0    │ Cortical │ 0.732997 │ 0.1248       │ 0.190652     │\n",
       "│ 19  │ 790.0   │ 790.0   │ Cortical │ 0.720854 │ 0.12879      │ 0.17322      │\n",
       "│ 20  │ 790.0   │ 10000.0 │ Cortical │ 1.6142   │ 0.323132     │ 0.306046     │\n",
       "│ 21  │ 10000.0 │ 0.0     │ Cortical │ 2.49108  │ 0.339735     │ 0.846794     │\n",
       "│ 22  │ 10000.0 │ 5.0     │ Cortical │ 2.43629  │ 0.339735     │ 0.810563     │\n",
       "│ 23  │ 10000.0 │ 63.0    │ Cortical │ 2.61632  │ 0.339735     │ 0.92961      │\n",
       "│ 24  │ 10000.0 │ 790.0   │ Cortical │ 2.32932  │ 0.337179     │ 0.745845     │\n",
       "│ 25  │ 10000.0 │ 10000.0 │ Cortical │ 2.68998  │ 0.339735     │ 0.978323     │\n",
       " 25×6 DataFrame\n",
       "│ Row │ c_a     │ c_m     │ level  │ eratio   │ stream_error │ length_error │\n",
       "│     │ \u001b[90mFloat64\u001b[39m │ \u001b[90mFloat64\u001b[39m │ \u001b[90mString\u001b[39m │ \u001b[90mFloat64\u001b[39m  │ \u001b[90mFloat64\u001b[39m      │ \u001b[90mFloat64\u001b[39m      │\n",
       "├─────┼─────────┼─────────┼────────┼──────────┼──────────────┼──────────────┤\n",
       "│ 1   │ 0.0     │ 0.0     │ Object │ 0.626126 │ 0.117558     │ 0.137044     │\n",
       "│ 2   │ 5.0     │ 0.0     │ Object │ 0.709731 │ 0.105995     │ 0.219576     │\n",
       "│ 3   │ 63.0    │ 0.0     │ Object │ 0.653162 │ 0.127909     │ 0.130533     │\n",
       "│ 4   │ 790.0   │ 0.0     │ Object │ 0.647612 │ 0.110754     │ 0.167286     │\n",
       "│ 5   │ 10000.0 │ 0.0     │ Object │ 0.654798 │ 0.116412     │ 0.158705     │\n",
       "│ 6   │ 0.0     │ 5.0     │ Object │ 0.618741 │ 0.109143     │ 0.151988     │\n",
       "│ 7   │ 5.0     │ 5.0     │ Object │ 0.691717 │ 0.121715     │ 0.170624     │\n",
       "│ 8   │ 63.0    │ 5.0     │ Object │ 0.668258 │ 0.095015     │ 0.218024     │\n",
       "│ 9   │ 790.0   │ 5.0     │ Object │ 0.641229 │ 0.0983483    │ 0.192296     │\n",
       "│ 10  │ 10000.0 │ 5.0     │ Object │ 0.680288 │ 0.124632     │ 0.156192     │\n",
       "⋮\n",
       "│ 15  │ 10000.0 │ 63.0    │ Object │ 0.662711 │ 0.111005     │ 0.176679     │\n",
       "│ 16  │ 0.0     │ 790.0   │ Object │ 0.618008 │ 0.118466     │ 0.129537     │\n",
       "│ 17  │ 5.0     │ 790.0   │ Object │ 0.684966 │ 0.120767     │ 0.168392     │\n",
       "│ 18  │ 63.0    │ 790.0   │ Object │ 0.623723 │ 0.109395     │ 0.154691     │\n",
       "│ 19  │ 790.0   │ 790.0   │ Object │ 0.653058 │ 0.103975     │ 0.186859     │\n",
       "│ 20  │ 10000.0 │ 790.0   │ Object │ 0.717695 │ 0.100552     │ 0.23767      │\n",
       "│ 21  │ 0.0     │ 10000.0 │ Object │ 0.660074 │ 0.12488      │ 0.142241     │\n",
       "│ 22  │ 5.0     │ 10000.0 │ Object │ 0.547342 │ 0.0961476    │ 0.135396     │\n",
       "│ 23  │ 63.0    │ 10000.0 │ Object │ 0.631587 │ 0.102649     │ 0.175785     │\n",
       "│ 24  │ 790.0   │ 10000.0 │ Object │ 0.679529 │ 0.105065     │ 0.201796     │\n",
       "│ 25  │ 10000.0 │ 10000.0 │ Object │ 0.687436 │ 0.111733     │ 0.191314     │                                                "
      ]
     },
     "execution_count": 35,
     "metadata": {},
     "output_type": "execute_result"
    }
   ],
   "source": [
    "mlevels = [(vars = [:f_c_a,:f_c_m], name = \"Peripheral\"),\n",
    "          (vars = [:s_c_a,:s_c_m], name = \"Cortical\"),\n",
    "          (vars = [:t_c_a,:t_c_m], name = \"Object\")]\n",
    "dflevels = map(mlevels) do level\n",
    "    result = by(df_summary_multi,level.vars) do slice\n",
    "       DataFrame(c_a = first(slice[level.vars[1]]),c_m = first(slice[level.vars[2]]),\n",
    "                 level = level.name, \n",
    "                 eratio = minimum(skipmissing(slice.eratio)),\n",
    "                 stream_error = slice.stream_error[argmin(coalesce.(slice.eratio,-Inf))],\n",
    "                 length_error = slice.length_error[argmin(coalesce.(slice.eratio,-Inf))])\n",
    "            \n",
    "    end\n",
    "    result[[:c_a,:c_m,:level,:eratio,:stream_error,:length_error]]\n",
    "end"
   ]
  },
  {
   "cell_type": "code",
   "execution_count": 36,
   "metadata": {},
   "outputs": [
    {
     "name": "stderr",
     "output_type": "stream",
     "text": [
      "┌ Warning: `head(df::AbstractDataFrame)` is deprecated, use `first(df, 6)` instead.\n",
      "│   caller = top-level scope at In[36]:4\n",
      "└ @ Core In[36]:4\n"
     ]
    },
    {
     "data": {
      "text/html": [
       "<table class=\"data-frame\"><thead><tr><th></th><th>c_a</th><th>c_m</th><th>level</th><th>eratio</th><th>stream_error</th><th>length_error</th><th>a</th><th>m</th><th>eratio_str</th></tr><tr><th></th><th>Float64</th><th>Float64</th><th>String</th><th>Float64</th><th>Float64</th><th>Float64</th><th>Float64</th><th>Float64</th><th>String</th></tr></thead><tbody><p>6 rows × 9 columns</p><tr><th>1</th><td>0.0</td><td>0.0</td><td>Peripheral</td><td>0.932824</td><td>0.228196</td><td>0.0791615</td><td>0.0</td><td>0.0</td><td>0.93</td></tr><tr><th>2</th><td>0.0</td><td>5.0</td><td>Peripheral</td><td>0.623723</td><td>0.109395</td><td>0.154691</td><td>0.0</td><td>1.5</td><td>0.62</td></tr><tr><th>3</th><td>0.0</td><td>63.0</td><td>Peripheral</td><td>0.853524</td><td>0.167926</td><td>0.168737</td><td>0.0</td><td>2.5</td><td>0.85</td></tr><tr><th>4</th><td>0.0</td><td>790.0</td><td>Peripheral</td><td>0.813696</td><td>0.136545</td><td>0.216342</td><td>0.0</td><td>3.5</td><td>0.81</td></tr><tr><th>5</th><td>0.0</td><td>10000.0</td><td>Peripheral</td><td>0.789023</td><td>0.13018</td><td>0.215023</td><td>0.0</td><td>4.5</td><td>0.79</td></tr><tr><th>6</th><td>5.0</td><td>0.0</td><td>Peripheral</td><td>0.547342</td><td>0.0961476</td><td>0.135396</td><td>1.5</td><td>0.0</td><td>0.55</td></tr></tbody></table>"
      ],
      "text/latex": [
       "\\begin{tabular}{r|ccccccccc}\n",
       "\t& c\\_a & c\\_m & level & eratio & stream\\_error & length\\_error & a & m & eratio\\_str\\\\\n",
       "\t\\hline\n",
       "\t& Float64 & Float64 & String & Float64 & Float64 & Float64 & Float64 & Float64 & String\\\\\n",
       "\t\\hline\n",
       "\t1 & 0.0 & 0.0 & Peripheral & 0.932824 & 0.228196 & 0.0791615 & 0.0 & 0.0 & 0.93 \\\\\n",
       "\t2 & 0.0 & 5.0 & Peripheral & 0.623723 & 0.109395 & 0.154691 & 0.0 & 1.5 & 0.62 \\\\\n",
       "\t3 & 0.0 & 63.0 & Peripheral & 0.853524 & 0.167926 & 0.168737 & 0.0 & 2.5 & 0.85 \\\\\n",
       "\t4 & 0.0 & 790.0 & Peripheral & 0.813696 & 0.136545 & 0.216342 & 0.0 & 3.5 & 0.81 \\\\\n",
       "\t5 & 0.0 & 10000.0 & Peripheral & 0.789023 & 0.13018 & 0.215023 & 0.0 & 4.5 & 0.79 \\\\\n",
       "\t6 & 5.0 & 0.0 & Peripheral & 0.547342 & 0.0961476 & 0.135396 & 1.5 & 0.0 & 0.55 \\\\\n",
       "\\end{tabular}\n"
      ],
      "text/plain": [
       "6×9 DataFrame. Omitted printing of 4 columns\n",
       "│ Row │ c_a     │ c_m     │ level      │ eratio   │ stream_error │\n",
       "│     │ \u001b[90mFloat64\u001b[39m │ \u001b[90mFloat64\u001b[39m │ \u001b[90mString\u001b[39m     │ \u001b[90mFloat64\u001b[39m  │ \u001b[90mFloat64\u001b[39m      │\n",
       "├─────┼─────────┼─────────┼────────────┼──────────┼──────────────┤\n",
       "│ 1   │ 0.0     │ 0.0     │ Peripheral │ 0.932824 │ 0.228196     │\n",
       "│ 2   │ 0.0     │ 5.0     │ Peripheral │ 0.623723 │ 0.109395     │\n",
       "│ 3   │ 0.0     │ 63.0    │ Peripheral │ 0.853524 │ 0.167926     │\n",
       "│ 4   │ 0.0     │ 790.0   │ Peripheral │ 0.813696 │ 0.136545     │\n",
       "│ 5   │ 0.0     │ 10000.0 │ Peripheral │ 0.789023 │ 0.13018      │\n",
       "│ 6   │ 5.0     │ 0.0     │ Peripheral │ 0.547342 │ 0.0961476    │"
      ]
     },
     "execution_count": 36,
     "metadata": {},
     "output_type": "execute_result"
    }
   ],
   "source": [
    "dfplot_across = @linq vcat(dflevels...) |>\n",
    "    transform(a = packaxes(:c_a,maxpad=false), m = packaxes(:c_m,maxpad=false)) |>\n",
    "    transform(eratio_str = fmt.(\"01.2f\",round.(:eratio,digits=2)))\n",
    "head(dfplot_across)"
   ]
  },
  {
   "cell_type": "code",
   "execution_count": 37,
   "metadata": {},
   "outputs": [
    {
     "name": "stderr",
     "output_type": "stream",
     "text": [
      "┌ Warning: `delete!(df::AbstractDataFrame, cols::Any)` is deprecated, use `deletecols!(df, cols)` instead.\n",
      "│   caller = top-level scope at In[37]:1\n",
      "└ @ Core In[37]:1\n"
     ]
    },
    {
     "data": {
      "text/html": [
       "<table class=\"data-frame\"><thead><tr><th></th><th>c_a</th><th>c_m</th><th>level</th><th>stream_error</th><th>length_error</th><th>eratio</th><th>a</th><th>m</th><th>eratio_str</th></tr><tr><th></th><th>Float64</th><th>Float64</th><th>String</th><th>Float64</th><th>Float64</th><th>Float64</th><th>Float64</th><th>Float64</th><th>String</th></tr></thead><tbody><p>300 rows × 9 columns</p><tr><th>1</th><td>0.0</td><td>0.0</td><td>Peripheral</td><td>0.498731</td><td>0.340946</td><td>2.29267</td><td>0.0</td><td>0.0</td><td>2.3</td></tr><tr><th>2</th><td>0.0</td><td>5.0</td><td>Peripheral</td><td>0.270752</td><td>0.304058</td><td>1.42455</td><td>0.0</td><td>1.25</td><td>1.4</td></tr><tr><th>3</th><td>0.0</td><td>15.0</td><td>Peripheral</td><td>0.243425</td><td>0.356831</td><td>1.40698</td><td>0.0</td><td>2.25</td><td>1.4</td></tr><tr><th>4</th><td>0.0</td><td>44.0</td><td>Peripheral</td><td>0.242422</td><td>0.999453</td><td>2.37519</td><td>0.0</td><td>3.25</td><td>2.4</td></tr><tr><th>5</th><td>0.0</td><td>130.0</td><td>Peripheral</td><td>0.242879</td><td>0.999453</td><td>2.37682</td><td>0.0</td><td>4.25</td><td>2.4</td></tr><tr><th>6</th><td>0.0</td><td>390.0</td><td>Peripheral</td><td>0.242616</td><td>0.999453</td><td>2.37588</td><td>0.0</td><td>5.25</td><td>2.4</td></tr><tr><th>7</th><td>0.0</td><td>1100.0</td><td>Peripheral</td><td>0.259893</td><td>0.630528</td><td>1.87955</td><td>0.0</td><td>6.25</td><td>1.9</td></tr><tr><th>8</th><td>0.0</td><td>3400.0</td><td>Peripheral</td><td>0.243275</td><td>0.999453</td><td>2.37823</td><td>0.0</td><td>7.25</td><td>2.4</td></tr><tr><th>9</th><td>0.0</td><td>10000.0</td><td>Peripheral</td><td>0.243464</td><td>0.999453</td><td>2.3789</td><td>0.0</td><td>8.25</td><td>2.4</td></tr><tr><th>10</th><td>0.0</td><td>1.0e8</td><td>Peripheral</td><td>0.24239</td><td>0.999453</td><td>2.37508</td><td>0.0</td><td>9.5</td><td>2.4</td></tr><tr><th>11</th><td>5.0</td><td>0.0</td><td>Peripheral</td><td>0.624033</td><td>0.299642</td><td>2.67669</td><td>1.25</td><td>0.0</td><td>2.7</td></tr><tr><th>12</th><td>5.0</td><td>5.0</td><td>Peripheral</td><td>0.559149</td><td>0.296339</td><td>2.4405</td><td>1.25</td><td>1.25</td><td>2.4</td></tr><tr><th>13</th><td>5.0</td><td>15.0</td><td>Peripheral</td><td>0.377712</td><td>0.263406</td><td>1.7442</td><td>1.25</td><td>2.25</td><td>1.7</td></tr><tr><th>14</th><td>5.0</td><td>44.0</td><td>Peripheral</td><td>0.156177</td><td>0.349029</td><td>1.0843</td><td>1.25</td><td>3.25</td><td>1.1</td></tr><tr><th>15</th><td>5.0</td><td>130.0</td><td>Peripheral</td><td>0.146111</td><td>0.243322</td><td>0.888582</td><td>1.25</td><td>4.25</td><td>0.9</td></tr><tr><th>16</th><td>5.0</td><td>390.0</td><td>Peripheral</td><td>0.262348</td><td>0.465468</td><td>1.63869</td><td>1.25</td><td>5.25</td><td>1.6</td></tr><tr><th>17</th><td>5.0</td><td>1100.0</td><td>Peripheral</td><td>0.271101</td><td>0.441708</td><td>1.63395</td><td>1.25</td><td>6.25</td><td>1.6</td></tr><tr><th>18</th><td>5.0</td><td>3400.0</td><td>Peripheral</td><td>0.269224</td><td>0.401641</td><td>1.56667</td><td>1.25</td><td>7.25</td><td>1.6</td></tr><tr><th>19</th><td>5.0</td><td>10000.0</td><td>Peripheral</td><td>0.32275</td><td>0.339836</td><td>1.66393</td><td>1.25</td><td>8.25</td><td>1.7</td></tr><tr><th>20</th><td>5.0</td><td>1.0e8</td><td>Peripheral</td><td>0.312032</td><td>0.250944</td><td>1.49132</td><td>1.25</td><td>9.5</td><td>1.5</td></tr><tr><th>21</th><td>15.0</td><td>0.0</td><td>Peripheral</td><td>0.625968</td><td>0.471609</td><td>2.94364</td><td>2.25</td><td>0.0</td><td>2.9</td></tr><tr><th>22</th><td>15.0</td><td>5.0</td><td>Peripheral</td><td>0.617059</td><td>0.350606</td><td>2.72891</td><td>2.25</td><td>1.25</td><td>2.7</td></tr><tr><th>23</th><td>15.0</td><td>15.0</td><td>Peripheral</td><td>0.465991</td><td>0.230429</td><td>2.00889</td><td>2.25</td><td>2.25</td><td>2.0</td></tr><tr><th>24</th><td>15.0</td><td>44.0</td><td>Peripheral</td><td>0.324709</td><td>0.294817</td><td>1.60284</td><td>2.25</td><td>3.25</td><td>1.6</td></tr><tr><th>25</th><td>15.0</td><td>130.0</td><td>Peripheral</td><td>0.124319</td><td>0.352937</td><td>0.976695</td><td>2.25</td><td>4.25</td><td>1.0</td></tr><tr><th>26</th><td>15.0</td><td>390.0</td><td>Peripheral</td><td>0.11462</td><td>0.155582</td><td>0.643691</td><td>2.25</td><td>5.25</td><td>0.6</td></tr><tr><th>27</th><td>15.0</td><td>1100.0</td><td>Peripheral</td><td>0.255</td><td>0.295264</td><td>1.35512</td><td>2.25</td><td>6.25</td><td>1.4</td></tr><tr><th>28</th><td>15.0</td><td>3400.0</td><td>Peripheral</td><td>0.221361</td><td>0.334402</td><td>1.29445</td><td>2.25</td><td>7.25</td><td>1.3</td></tr><tr><th>29</th><td>15.0</td><td>10000.0</td><td>Peripheral</td><td>0.180312</td><td>0.246116</td><td>1.01467</td><td>2.25</td><td>8.25</td><td>1.0</td></tr><tr><th>30</th><td>15.0</td><td>1.0e8</td><td>Peripheral</td><td>0.345552</td><td>0.549948</td><td>2.06292</td><td>2.25</td><td>9.5</td><td>2.1</td></tr><tr><th>&vellip;</th><td>&vellip;</td><td>&vellip;</td><td>&vellip;</td><td>&vellip;</td><td>&vellip;</td><td>&vellip;</td><td>&vellip;</td><td>&vellip;</td><td>&vellip;</td></tr></tbody></table>"
      ],
      "text/latex": [
       "\\begin{tabular}{r|ccccccccc}\n",
       "\t& c\\_a & c\\_m & level & stream\\_error & length\\_error & eratio & a & m & eratio\\_str\\\\\n",
       "\t\\hline\n",
       "\t& Float64 & Float64 & String & Float64 & Float64 & Float64 & Float64 & Float64 & String\\\\\n",
       "\t\\hline\n",
       "\t1 & 0.0 & 0.0 & Peripheral & 0.498731 & 0.340946 & 2.29267 & 0.0 & 0.0 & 2.3 \\\\\n",
       "\t2 & 0.0 & 5.0 & Peripheral & 0.270752 & 0.304058 & 1.42455 & 0.0 & 1.25 & 1.4 \\\\\n",
       "\t3 & 0.0 & 15.0 & Peripheral & 0.243425 & 0.356831 & 1.40698 & 0.0 & 2.25 & 1.4 \\\\\n",
       "\t4 & 0.0 & 44.0 & Peripheral & 0.242422 & 0.999453 & 2.37519 & 0.0 & 3.25 & 2.4 \\\\\n",
       "\t5 & 0.0 & 130.0 & Peripheral & 0.242879 & 0.999453 & 2.37682 & 0.0 & 4.25 & 2.4 \\\\\n",
       "\t6 & 0.0 & 390.0 & Peripheral & 0.242616 & 0.999453 & 2.37588 & 0.0 & 5.25 & 2.4 \\\\\n",
       "\t7 & 0.0 & 1100.0 & Peripheral & 0.259893 & 0.630528 & 1.87955 & 0.0 & 6.25 & 1.9 \\\\\n",
       "\t8 & 0.0 & 3400.0 & Peripheral & 0.243275 & 0.999453 & 2.37823 & 0.0 & 7.25 & 2.4 \\\\\n",
       "\t9 & 0.0 & 10000.0 & Peripheral & 0.243464 & 0.999453 & 2.3789 & 0.0 & 8.25 & 2.4 \\\\\n",
       "\t10 & 0.0 & 1.0e8 & Peripheral & 0.24239 & 0.999453 & 2.37508 & 0.0 & 9.5 & 2.4 \\\\\n",
       "\t11 & 5.0 & 0.0 & Peripheral & 0.624033 & 0.299642 & 2.67669 & 1.25 & 0.0 & 2.7 \\\\\n",
       "\t12 & 5.0 & 5.0 & Peripheral & 0.559149 & 0.296339 & 2.4405 & 1.25 & 1.25 & 2.4 \\\\\n",
       "\t13 & 5.0 & 15.0 & Peripheral & 0.377712 & 0.263406 & 1.7442 & 1.25 & 2.25 & 1.7 \\\\\n",
       "\t14 & 5.0 & 44.0 & Peripheral & 0.156177 & 0.349029 & 1.0843 & 1.25 & 3.25 & 1.1 \\\\\n",
       "\t15 & 5.0 & 130.0 & Peripheral & 0.146111 & 0.243322 & 0.888582 & 1.25 & 4.25 & 0.9 \\\\\n",
       "\t16 & 5.0 & 390.0 & Peripheral & 0.262348 & 0.465468 & 1.63869 & 1.25 & 5.25 & 1.6 \\\\\n",
       "\t17 & 5.0 & 1100.0 & Peripheral & 0.271101 & 0.441708 & 1.63395 & 1.25 & 6.25 & 1.6 \\\\\n",
       "\t18 & 5.0 & 3400.0 & Peripheral & 0.269224 & 0.401641 & 1.56667 & 1.25 & 7.25 & 1.6 \\\\\n",
       "\t19 & 5.0 & 10000.0 & Peripheral & 0.32275 & 0.339836 & 1.66393 & 1.25 & 8.25 & 1.7 \\\\\n",
       "\t20 & 5.0 & 1.0e8 & Peripheral & 0.312032 & 0.250944 & 1.49132 & 1.25 & 9.5 & 1.5 \\\\\n",
       "\t21 & 15.0 & 0.0 & Peripheral & 0.625968 & 0.471609 & 2.94364 & 2.25 & 0.0 & 2.9 \\\\\n",
       "\t22 & 15.0 & 5.0 & Peripheral & 0.617059 & 0.350606 & 2.72891 & 2.25 & 1.25 & 2.7 \\\\\n",
       "\t23 & 15.0 & 15.0 & Peripheral & 0.465991 & 0.230429 & 2.00889 & 2.25 & 2.25 & 2.0 \\\\\n",
       "\t24 & 15.0 & 44.0 & Peripheral & 0.324709 & 0.294817 & 1.60284 & 2.25 & 3.25 & 1.6 \\\\\n",
       "\t25 & 15.0 & 130.0 & Peripheral & 0.124319 & 0.352937 & 0.976695 & 2.25 & 4.25 & 1.0 \\\\\n",
       "\t26 & 15.0 & 390.0 & Peripheral & 0.11462 & 0.155582 & 0.643691 & 2.25 & 5.25 & 0.6 \\\\\n",
       "\t27 & 15.0 & 1100.0 & Peripheral & 0.255 & 0.295264 & 1.35512 & 2.25 & 6.25 & 1.4 \\\\\n",
       "\t28 & 15.0 & 3400.0 & Peripheral & 0.221361 & 0.334402 & 1.29445 & 2.25 & 7.25 & 1.3 \\\\\n",
       "\t29 & 15.0 & 10000.0 & Peripheral & 0.180312 & 0.246116 & 1.01467 & 2.25 & 8.25 & 1.0 \\\\\n",
       "\t30 & 15.0 & 1.0e8 & Peripheral & 0.345552 & 0.549948 & 2.06292 & 2.25 & 9.5 & 2.1 \\\\\n",
       "\t$\\dots$ & $\\dots$ & $\\dots$ & $\\dots$ & $\\dots$ & $\\dots$ & $\\dots$ & $\\dots$ & $\\dots$ & $\\dots$ \\\\\n",
       "\\end{tabular}\n"
      ],
      "text/plain": [
       "300×9 DataFrame. Omitted printing of 4 columns\n",
       "│ Row │ c_a     │ c_m     │ level      │ stream_error │ length_error │\n",
       "│     │ \u001b[90mFloat64\u001b[39m │ \u001b[90mFloat64\u001b[39m │ \u001b[90mString\u001b[39m     │ \u001b[90mFloat64\u001b[39m      │ \u001b[90mFloat64\u001b[39m      │\n",
       "├─────┼─────────┼─────────┼────────────┼──────────────┼──────────────┤\n",
       "│ 1   │ 0.0     │ 0.0     │ Peripheral │ 0.498731     │ 0.340946     │\n",
       "│ 2   │ 0.0     │ 5.0     │ Peripheral │ 0.270752     │ 0.304058     │\n",
       "│ 3   │ 0.0     │ 15.0    │ Peripheral │ 0.243425     │ 0.356831     │\n",
       "│ 4   │ 0.0     │ 44.0    │ Peripheral │ 0.242422     │ 0.999453     │\n",
       "│ 5   │ 0.0     │ 130.0   │ Peripheral │ 0.242879     │ 0.999453     │\n",
       "│ 6   │ 0.0     │ 390.0   │ Peripheral │ 0.242616     │ 0.999453     │\n",
       "│ 7   │ 0.0     │ 1100.0  │ Peripheral │ 0.259893     │ 0.630528     │\n",
       "│ 8   │ 0.0     │ 3400.0  │ Peripheral │ 0.243275     │ 0.999453     │\n",
       "│ 9   │ 0.0     │ 10000.0 │ Peripheral │ 0.243464     │ 0.999453     │\n",
       "│ 10  │ 0.0     │ 1.0e8   │ Peripheral │ 0.24239      │ 0.999453     │\n",
       "⋮\n",
       "│ 290 │ 1.0e8   │ 10000.0 │ Object     │ 0.244104     │ 0.462543     │\n",
       "│ 291 │ 0.0     │ 1.0e8   │ Object     │ 0.140048     │ 0.482144     │\n",
       "│ 292 │ 5.0     │ 1.0e8   │ Object     │ 0.134957     │ 0.472392     │\n",
       "│ 293 │ 15.0    │ 1.0e8   │ Object     │ 0.133292     │ 0.467        │\n",
       "│ 294 │ 44.0    │ 1.0e8   │ Object     │ 0.144119     │ 0.443854     │\n",
       "│ 295 │ 130.0   │ 1.0e8   │ Object     │ 0.112144     │ 0.370708     │\n",
       "│ 296 │ 390.0   │ 1.0e8   │ Object     │ 0.349098     │ 0.418678     │\n",
       "│ 297 │ 1100.0  │ 1.0e8   │ Object     │ 0.348631     │ 0.401077     │\n",
       "│ 298 │ 3400.0  │ 1.0e8   │ Object     │ 0.359874     │ 0.377072     │\n",
       "│ 299 │ 10000.0 │ 1.0e8   │ Object     │ 0.360947     │ 0.375013     │\n",
       "│ 300 │ 1.0e8   │ 1.0e8   │ Object     │ 0.252144     │ 0.462543     │"
      ]
     },
     "execution_count": 37,
     "metadata": {},
     "output_type": "execute_result"
    }
   ],
   "source": [
    "delete!(dfplot_within,:rand)"
   ]
  },
  {
   "cell_type": "code",
   "execution_count": 69,
   "metadata": {},
   "outputs": [
    {
     "data": {
      "text/plain": [
       "1.0763856177881328"
      ]
     },
     "execution_count": 69,
     "metadata": {},
     "output_type": "execute_result"
    }
   ],
   "source": [
    "threshold = quantile(vcat(dfplot_within.eratio,dfplot_across.eratio),0.25)"
   ]
  },
  {
   "cell_type": "code",
   "execution_count": 75,
   "metadata": {},
   "outputs": [
    {
     "data": {
      "text/html": [
       "<table class=\"data-frame\"><thead><tr><th></th><th>level</th><th>prop</th></tr><tr><th></th><th>String</th><th>Float64</th></tr></thead><tbody><p>3 rows × 2 columns</p><tr><th>1</th><td>Peripheral</td><td>0.181333</td></tr><tr><th>2</th><td>Cortical</td><td>0.341333</td></tr><tr><th>3</th><td>Object</td><td>0.48</td></tr></tbody></table>"
      ],
      "text/latex": [
       "\\begin{tabular}{r|cc}\n",
       "\t& level & prop\\\\\n",
       "\t\\hline\n",
       "\t& String & Float64\\\\\n",
       "\t\\hline\n",
       "\t1 & Peripheral & 0.181333 \\\\\n",
       "\t2 & Cortical & 0.341333 \\\\\n",
       "\t3 & Object & 0.48 \\\\\n",
       "\\end{tabular}\n"
      ],
      "text/plain": [
       "3×2 DataFrame\n",
       "│ Row │ level      │ prop     │\n",
       "│     │ \u001b[90mString\u001b[39m     │ \u001b[90mFloat64\u001b[39m  │\n",
       "├─────┼────────────┼──────────┤\n",
       "│ 1   │ Peripheral │ 0.181333 │\n",
       "│ 2   │ Cortical   │ 0.341333 │\n",
       "│ 3   │ Object     │ 0.48     │"
      ]
     },
     "execution_count": 75,
     "metadata": {},
     "output_type": "execute_result"
    }
   ],
   "source": [
    "dfplot_all = vcat(dfplot_within,dfplot_across)\n",
    "N = size(dfplot_all,1)\n",
    "df_bar_plot = @linq dfplot_all |>\n",
    "    by(:level,prop = sum(:eratio .<= threshold)/N*4)\n",
    "#df_bar_plot = by(vcat(dfplot_within,dfplot_across),:level,:eratio => ebounds)"
   ]
  },
  {
   "cell_type": "code",
   "execution_count": 76,
   "metadata": {},
   "outputs": [
    {
     "data": {
      "image/svg+xml": [
       "<?xml version=\"1.0\" encoding=\"UTF-8\"?>\n",
       "<svg xmlns=\"http://www.w3.org/2000/svg\"\n",
       "     xmlns:xlink=\"http://www.w3.org/1999/xlink\"\n",
       "     xmlns:gadfly=\"http://www.gadflyjl.org/ns\"\n",
       "     version=\"1.2\"\n",
       "     width=\"76.2mm\" height=\"50.8mm\" viewBox=\"0 0 76.2 50.8\"\n",
       "     stroke=\"none\"\n",
       "     fill=\"#000000\"\n",
       "     stroke-width=\"0.3\"\n",
       "     font-size=\"3.88\"\n",
       ">\n",
       "<defs>\n",
       "  <marker id=\"arrow\" markerWidth=\"15\" markerHeight=\"7\" refX=\"5\" refY=\"3.5\" orient=\"auto\" markerUnits=\"strokeWidth\">\n",
       "    <path d=\"M0,0 L15,3.5 L0,7 z\" stroke=\"context-stroke\" fill=\"context-stroke\"/>\n",
       "  </marker>\n",
       "</defs>\n",
       "<g class=\"plotroot yscalable\" id=\"img-6aa284bf-1\">\n",
       "  <g font-size=\"3.88\" font-family=\"'PT Sans','Helvetica Neue','Helvetica',sans-serif\" fill=\"#564A55\" stroke=\"#000000\" stroke-opacity=\"0.000\" id=\"img-6aa284bf-2\">\n",
       "    <g transform=\"translate(44.92,39.19)\">\n",
       "      <g class=\"primitive\">\n",
       "        <text text-anchor=\"middle\" dy=\"0.6em\">level</text>\n",
       "      </g>\n",
       "    </g>\n",
       "  </g>\n",
       "  <g class=\"guide xlabels\" font-size=\"2.82\" font-family=\"'PT Sans Caption','Helvetica Neue','Helvetica',sans-serif\" fill=\"#6C606B\" id=\"img-6aa284bf-3\">\n",
       "    <g transform=\"translate(27.39,32.52)\">\n",
       "      <g class=\"primitive\">\n",
       "        <text text-anchor=\"middle\" dy=\"0.6em\">Peripheral</text>\n",
       "      </g>\n",
       "    </g>\n",
       "    <g transform=\"translate(44.92,32.52)\">\n",
       "      <g class=\"primitive\">\n",
       "        <text text-anchor=\"middle\" dy=\"0.6em\">Cortical</text>\n",
       "      </g>\n",
       "    </g>\n",
       "    <g transform=\"translate(62.44,32.52)\">\n",
       "      <g class=\"primitive\">\n",
       "        <text text-anchor=\"middle\" dy=\"0.6em\">Object</text>\n",
       "      </g>\n",
       "    </g>\n",
       "  </g>\n",
       "  <g clip-path=\"url(#img-6aa284bf-4)\">\n",
       "    <g id=\"img-6aa284bf-5\">\n",
       "      <g pointer-events=\"visible\" fill-opacity=\"0\" fill=\"#000000\" fill-opacity=\"0.000\" stroke=\"#000000\" stroke-opacity=\"0.000\" class=\"guide background\" id=\"img-6aa284bf-6\">\n",
       "        <g transform=\"translate(44.92,18.26)\" id=\"img-6aa284bf-7\">\n",
       "          <path d=\"M-26.28,-13.26 L 26.28 -13.26 26.28 13.26 -26.28 13.26 z\" class=\"primitive\"/>\n",
       "        </g>\n",
       "      </g>\n",
       "      <g class=\"guide ygridlines xfixed\" stroke-dasharray=\"0.5,0.5\" stroke-width=\"0.2\" stroke=\"#D0D0E0\" id=\"img-6aa284bf-8\">\n",
       "        <g transform=\"translate(44.92,29.52)\" id=\"img-6aa284bf-9\">\n",
       "          <path fill=\"none\" d=\"M-26.28,0 L 26.28 0\" class=\"primitive\"/>\n",
       "        </g>\n",
       "        <g transform=\"translate(44.92,25.01)\" id=\"img-6aa284bf-10\">\n",
       "          <path fill=\"none\" d=\"M-26.28,0 L 26.28 0\" class=\"primitive\"/>\n",
       "        </g>\n",
       "        <g transform=\"translate(44.92,20.51)\" id=\"img-6aa284bf-11\">\n",
       "          <path fill=\"none\" d=\"M-26.28,0 L 26.28 0\" class=\"primitive\"/>\n",
       "        </g>\n",
       "        <g transform=\"translate(44.92,16.01)\" id=\"img-6aa284bf-12\">\n",
       "          <path fill=\"none\" d=\"M-26.28,0 L 26.28 0\" class=\"primitive\"/>\n",
       "        </g>\n",
       "        <g transform=\"translate(44.92,11.5)\" id=\"img-6aa284bf-13\">\n",
       "          <path fill=\"none\" d=\"M-26.28,0 L 26.28 0\" class=\"primitive\"/>\n",
       "        </g>\n",
       "        <g transform=\"translate(44.92,7)\" id=\"img-6aa284bf-14\">\n",
       "          <path fill=\"none\" d=\"M-26.28,0 L 26.28 0\" class=\"primitive\"/>\n",
       "        </g>\n",
       "      </g>\n",
       "      <g class=\"guide xgridlines yfixed\" stroke-dasharray=\"0.5,0.5\" stroke-width=\"0.2\" stroke=\"#D0D0E0\" id=\"img-6aa284bf-15\">\n",
       "        <g transform=\"translate(36.15,18.26)\" id=\"img-6aa284bf-16\">\n",
       "          <path fill=\"none\" d=\"M0,-13.26 L 0 13.26\" class=\"primitive\"/>\n",
       "        </g>\n",
       "        <g transform=\"translate(53.68,18.26)\" id=\"img-6aa284bf-17\">\n",
       "          <path fill=\"none\" d=\"M0,-13.26 L 0 13.26\" class=\"primitive\"/>\n",
       "        </g>\n",
       "      </g>\n",
       "      <g class=\"plotpanel\" id=\"img-6aa284bf-18\">\n",
       "        <metadata>\n",
       "          <boundingbox value=\"18.631666666666668mm 5.0mm 52.56833333333332mm 26.515mm\"/>\n",
       "          <unitbox value=\"0.5 0.5444148345547413 3.0 -0.5888296691094825\"/>\n",
       "        </metadata>\n",
       "        <g shape-rendering=\"crispEdges\" stroke-width=\"0.3\" id=\"img-6aa284bf-19\">\n",
       "          <g stroke=\"#000000\" stroke-opacity=\"0.000\" class=\"geometry\" fill=\"#00BFFF\" id=\"img-6aa284bf-20\">\n",
       "            <g transform=\"translate(27.39,25.43)\" id=\"img-6aa284bf-21\">\n",
       "              <path d=\"M-2.41,-4.08 L 2.41 -4.08 2.41 4.08 -2.41 4.08 z\" class=\"primitive\"/>\n",
       "            </g>\n",
       "            <g transform=\"translate(44.92,21.83)\" id=\"img-6aa284bf-22\">\n",
       "              <path d=\"M-2.41,-7.69 L 2.41 -7.69 2.41 7.69 -2.41 7.69 z\" class=\"primitive\"/>\n",
       "            </g>\n",
       "            <g transform=\"translate(62.44,18.71)\" id=\"img-6aa284bf-23\">\n",
       "              <path d=\"M-2.41,-10.81 L 2.41 -10.81 2.41 10.81 -2.41 10.81 z\" class=\"primitive\"/>\n",
       "            </g>\n",
       "          </g>\n",
       "        </g>\n",
       "      </g>\n",
       "    </g>\n",
       "  </g>\n",
       "  <g class=\"guide ylabels\" font-size=\"2.82\" font-family=\"'PT Sans Caption','Helvetica Neue','Helvetica',sans-serif\" fill=\"#6C606B\" id=\"img-6aa284bf-24\">\n",
       "    <g transform=\"translate(17.63,29.52)\" id=\"img-6aa284bf-25\">\n",
       "      <g class=\"primitive\">\n",
       "        <text text-anchor=\"end\" dy=\"0.35em\">0.0</text>\n",
       "      </g>\n",
       "    </g>\n",
       "    <g transform=\"translate(17.63,25.01)\" id=\"img-6aa284bf-26\">\n",
       "      <g class=\"primitive\">\n",
       "        <text text-anchor=\"end\" dy=\"0.35em\">0.1</text>\n",
       "      </g>\n",
       "    </g>\n",
       "    <g transform=\"translate(17.63,20.51)\" id=\"img-6aa284bf-27\">\n",
       "      <g class=\"primitive\">\n",
       "        <text text-anchor=\"end\" dy=\"0.35em\">0.2</text>\n",
       "      </g>\n",
       "    </g>\n",
       "    <g transform=\"translate(17.63,16.01)\" id=\"img-6aa284bf-28\">\n",
       "      <g class=\"primitive\">\n",
       "        <text text-anchor=\"end\" dy=\"0.35em\">0.3</text>\n",
       "      </g>\n",
       "    </g>\n",
       "    <g transform=\"translate(17.63,11.5)\" id=\"img-6aa284bf-29\">\n",
       "      <g class=\"primitive\">\n",
       "        <text text-anchor=\"end\" dy=\"0.35em\">0.4</text>\n",
       "      </g>\n",
       "    </g>\n",
       "    <g transform=\"translate(17.63,7)\" id=\"img-6aa284bf-30\">\n",
       "      <g class=\"primitive\">\n",
       "        <text text-anchor=\"end\" dy=\"0.35em\">0.5</text>\n",
       "      </g>\n",
       "    </g>\n",
       "  </g>\n",
       "  <g font-size=\"3.88\" font-family=\"'PT Sans','Helvetica Neue','Helvetica',sans-serif\" fill=\"#564A55\" stroke=\"#000000\" stroke-opacity=\"0.000\" id=\"img-6aa284bf-31\">\n",
       "    <g transform=\"translate(8.81,16.26)\" id=\"img-6aa284bf-32\">\n",
       "      <g class=\"primitive\">\n",
       "        <text text-anchor=\"middle\" dy=\"0.35em\" transform=\"rotate(-90,0, 2)\">prop</text>\n",
       "      </g>\n",
       "    </g>\n",
       "  </g>\n",
       "</g>\n",
       "<defs>\n",
       "  <clipPath id=\"img-6aa284bf-4\">\n",
       "    <path d=\"M18.63,5 L 71.2 5 71.2 31.52 18.63 31.52\" />\n",
       "  </clipPath>\n",
       "</defs>\n",
       "</svg>\n"
      ],
      "text/html": [
       "<?xml version=\"1.0\" encoding=\"UTF-8\"?>\n",
       "<svg xmlns=\"http://www.w3.org/2000/svg\"\n",
       "     xmlns:xlink=\"http://www.w3.org/1999/xlink\"\n",
       "     xmlns:gadfly=\"http://www.gadflyjl.org/ns\"\n",
       "     version=\"1.2\"\n",
       "     width=\"76.2mm\" height=\"50.8mm\" viewBox=\"0 0 76.2 50.8\"\n",
       "     stroke=\"none\"\n",
       "     fill=\"#000000\"\n",
       "     stroke-width=\"0.3\"\n",
       "     font-size=\"3.88\"\n",
       ">\n",
       "<defs>\n",
       "  <marker id=\"arrow\" markerWidth=\"15\" markerHeight=\"7\" refX=\"5\" refY=\"3.5\" orient=\"auto\" markerUnits=\"strokeWidth\">\n",
       "    <path d=\"M0,0 L15,3.5 L0,7 z\" stroke=\"context-stroke\" fill=\"context-stroke\"/>\n",
       "  </marker>\n",
       "</defs>\n",
       "<g class=\"plotroot yscalable\" id=\"img-6aa284bf-1\">\n",
       "  <g font-size=\"3.88\" font-family=\"'PT Sans','Helvetica Neue','Helvetica',sans-serif\" fill=\"#564A55\" stroke=\"#000000\" stroke-opacity=\"0.000\" id=\"img-6aa284bf-2\">\n",
       "    <g transform=\"translate(44.92,39.19)\">\n",
       "      <g class=\"primitive\">\n",
       "        <text text-anchor=\"middle\" dy=\"0.6em\">level</text>\n",
       "      </g>\n",
       "    </g>\n",
       "  </g>\n",
       "  <g class=\"guide xlabels\" font-size=\"2.82\" font-family=\"'PT Sans Caption','Helvetica Neue','Helvetica',sans-serif\" fill=\"#6C606B\" id=\"img-6aa284bf-3\">\n",
       "    <g transform=\"translate(27.39,32.52)\">\n",
       "      <g class=\"primitive\">\n",
       "        <text text-anchor=\"middle\" dy=\"0.6em\">Peripheral</text>\n",
       "      </g>\n",
       "    </g>\n",
       "    <g transform=\"translate(44.92,32.52)\">\n",
       "      <g class=\"primitive\">\n",
       "        <text text-anchor=\"middle\" dy=\"0.6em\">Cortical</text>\n",
       "      </g>\n",
       "    </g>\n",
       "    <g transform=\"translate(62.44,32.52)\">\n",
       "      <g class=\"primitive\">\n",
       "        <text text-anchor=\"middle\" dy=\"0.6em\">Object</text>\n",
       "      </g>\n",
       "    </g>\n",
       "  </g>\n",
       "  <g clip-path=\"url(#img-6aa284bf-4)\">\n",
       "    <g id=\"img-6aa284bf-5\">\n",
       "      <g pointer-events=\"visible\" fill-opacity=\"0\" fill=\"#000000\" fill-opacity=\"0.000\" stroke=\"#000000\" stroke-opacity=\"0.000\" class=\"guide background\" id=\"img-6aa284bf-6\">\n",
       "        <g transform=\"translate(44.92,18.26)\" id=\"img-6aa284bf-7\">\n",
       "          <path d=\"M-26.28,-13.26 L 26.28 -13.26 26.28 13.26 -26.28 13.26 z\" class=\"primitive\"/>\n",
       "        </g>\n",
       "      </g>\n",
       "      <g class=\"guide ygridlines xfixed\" stroke-dasharray=\"0.5,0.5\" stroke-width=\"0.2\" stroke=\"#D0D0E0\" id=\"img-6aa284bf-8\">\n",
       "        <g transform=\"translate(44.92,29.52)\" id=\"img-6aa284bf-9\">\n",
       "          <path fill=\"none\" d=\"M-26.28,0 L 26.28 0\" class=\"primitive\"/>\n",
       "        </g>\n",
       "        <g transform=\"translate(44.92,25.01)\" id=\"img-6aa284bf-10\">\n",
       "          <path fill=\"none\" d=\"M-26.28,0 L 26.28 0\" class=\"primitive\"/>\n",
       "        </g>\n",
       "        <g transform=\"translate(44.92,20.51)\" id=\"img-6aa284bf-11\">\n",
       "          <path fill=\"none\" d=\"M-26.28,0 L 26.28 0\" class=\"primitive\"/>\n",
       "        </g>\n",
       "        <g transform=\"translate(44.92,16.01)\" id=\"img-6aa284bf-12\">\n",
       "          <path fill=\"none\" d=\"M-26.28,0 L 26.28 0\" class=\"primitive\"/>\n",
       "        </g>\n",
       "        <g transform=\"translate(44.92,11.5)\" id=\"img-6aa284bf-13\">\n",
       "          <path fill=\"none\" d=\"M-26.28,0 L 26.28 0\" class=\"primitive\"/>\n",
       "        </g>\n",
       "        <g transform=\"translate(44.92,7)\" id=\"img-6aa284bf-14\">\n",
       "          <path fill=\"none\" d=\"M-26.28,0 L 26.28 0\" class=\"primitive\"/>\n",
       "        </g>\n",
       "      </g>\n",
       "      <g class=\"guide xgridlines yfixed\" stroke-dasharray=\"0.5,0.5\" stroke-width=\"0.2\" stroke=\"#D0D0E0\" id=\"img-6aa284bf-15\">\n",
       "        <g transform=\"translate(36.15,18.26)\" id=\"img-6aa284bf-16\">\n",
       "          <path fill=\"none\" d=\"M0,-13.26 L 0 13.26\" class=\"primitive\"/>\n",
       "        </g>\n",
       "        <g transform=\"translate(53.68,18.26)\" id=\"img-6aa284bf-17\">\n",
       "          <path fill=\"none\" d=\"M0,-13.26 L 0 13.26\" class=\"primitive\"/>\n",
       "        </g>\n",
       "      </g>\n",
       "      <g class=\"plotpanel\" id=\"img-6aa284bf-18\">\n",
       "        <metadata>\n",
       "          <boundingbox value=\"18.631666666666668mm 5.0mm 52.56833333333332mm 26.515mm\"/>\n",
       "          <unitbox value=\"0.5 0.5444148345547413 3.0 -0.5888296691094825\"/>\n",
       "        </metadata>\n",
       "        <g shape-rendering=\"crispEdges\" stroke-width=\"0.3\" id=\"img-6aa284bf-19\">\n",
       "          <g stroke=\"#000000\" stroke-opacity=\"0.000\" class=\"geometry\" fill=\"#00BFFF\" id=\"img-6aa284bf-20\">\n",
       "            <g transform=\"translate(27.39,25.43)\" id=\"img-6aa284bf-21\">\n",
       "              <path d=\"M-2.41,-4.08 L 2.41 -4.08 2.41 4.08 -2.41 4.08 z\" class=\"primitive\"/>\n",
       "            </g>\n",
       "            <g transform=\"translate(44.92,21.83)\" id=\"img-6aa284bf-22\">\n",
       "              <path d=\"M-2.41,-7.69 L 2.41 -7.69 2.41 7.69 -2.41 7.69 z\" class=\"primitive\"/>\n",
       "            </g>\n",
       "            <g transform=\"translate(62.44,18.71)\" id=\"img-6aa284bf-23\">\n",
       "              <path d=\"M-2.41,-10.81 L 2.41 -10.81 2.41 10.81 -2.41 10.81 z\" class=\"primitive\"/>\n",
       "            </g>\n",
       "          </g>\n",
       "        </g>\n",
       "      </g>\n",
       "    </g>\n",
       "  </g>\n",
       "  <g class=\"guide ylabels\" font-size=\"2.82\" font-family=\"'PT Sans Caption','Helvetica Neue','Helvetica',sans-serif\" fill=\"#6C606B\" id=\"img-6aa284bf-24\">\n",
       "    <g transform=\"translate(17.63,29.52)\" id=\"img-6aa284bf-25\">\n",
       "      <g class=\"primitive\">\n",
       "        <text text-anchor=\"end\" dy=\"0.35em\">0.0</text>\n",
       "      </g>\n",
       "    </g>\n",
       "    <g transform=\"translate(17.63,25.01)\" id=\"img-6aa284bf-26\">\n",
       "      <g class=\"primitive\">\n",
       "        <text text-anchor=\"end\" dy=\"0.35em\">0.1</text>\n",
       "      </g>\n",
       "    </g>\n",
       "    <g transform=\"translate(17.63,20.51)\" id=\"img-6aa284bf-27\">\n",
       "      <g class=\"primitive\">\n",
       "        <text text-anchor=\"end\" dy=\"0.35em\">0.2</text>\n",
       "      </g>\n",
       "    </g>\n",
       "    <g transform=\"translate(17.63,16.01)\" id=\"img-6aa284bf-28\">\n",
       "      <g class=\"primitive\">\n",
       "        <text text-anchor=\"end\" dy=\"0.35em\">0.3</text>\n",
       "      </g>\n",
       "    </g>\n",
       "    <g transform=\"translate(17.63,11.5)\" id=\"img-6aa284bf-29\">\n",
       "      <g class=\"primitive\">\n",
       "        <text text-anchor=\"end\" dy=\"0.35em\">0.4</text>\n",
       "      </g>\n",
       "    </g>\n",
       "    <g transform=\"translate(17.63,7)\" id=\"img-6aa284bf-30\">\n",
       "      <g class=\"primitive\">\n",
       "        <text text-anchor=\"end\" dy=\"0.35em\">0.5</text>\n",
       "      </g>\n",
       "    </g>\n",
       "  </g>\n",
       "  <g font-size=\"3.88\" font-family=\"'PT Sans','Helvetica Neue','Helvetica',sans-serif\" fill=\"#564A55\" stroke=\"#000000\" stroke-opacity=\"0.000\" id=\"img-6aa284bf-31\">\n",
       "    <g transform=\"translate(8.81,16.26)\" id=\"img-6aa284bf-32\">\n",
       "      <g class=\"primitive\">\n",
       "        <text text-anchor=\"middle\" dy=\"0.35em\" transform=\"rotate(-90,0, 2)\">prop</text>\n",
       "      </g>\n",
       "    </g>\n",
       "  </g>\n",
       "</g>\n",
       "<defs>\n",
       "  <clipPath id=\"img-6aa284bf-4\">\n",
       "    <path d=\"M18.63,5 L 71.2 5 71.2 31.52 18.63 31.52\" />\n",
       "  </clipPath>\n",
       "</defs>\n",
       "</svg>\n"
      ],
      "text/plain": [
       "SVG(76.19999999999999mm, 50.8mm, IOBuffer(data=UInt8[...], readable=true, writable=true, seekable=true, append=false, size=6176, maxsize=Inf, ptr=6177, mark=-1), nothing, \"img-6aa284bf\", 0, Compose.SVGPropertyFrame[], Dict{Type,Union{Nothing, Property}}(Property{JSIncludePrimitive}=>nothing,Property{LineWidthPrimitive}=>nothing,Property{FillPrimitive}=>nothing,Property{SVGClassPrimitive}=>nothing,Property{SVGAttributePrimitive}=>nothing,Property{StrokePrimitive}=>nothing,Property{FillOpacityPrimitive}=>nothing,Property{StrokeDashPrimitive}=>nothing,Property{FontSizePrimitive}=>nothing,Property{JSCallPrimitive}=>nothing…), OrderedCollections.OrderedDict{Compose.ClipPrimitive,String}(ClipPrimitive{Tuple{Length{:mm,Float64},Length{:mm,Float64}}}(Tuple{Measures.Length{:mm,Float64},Measures.Length{:mm,Float64}}[(18.6317mm, 5.0mm), (71.2mm, 5.0mm), (71.2mm, 31.515mm), (18.6317mm, 31.515mm)])=>\"img-6aa284bf-4\"), Tuple{Compose.FormPrimitive,String}[], Set(AbstractString[]), true, false, nothing, true, \"img-6aa284bf-32\", false, 32, Set(AbstractString[\"/Users/davidlittle/.julia/packages/Gadfly/ew1SM/src/gadfly.js\"]), Set(Tuple{AbstractString,AbstractString}[(\"Snap.svg\", \"Snap\"), (\"Gadfly\", \"Gadfly\")]), AbstractString[\"fig.select(\\\"#img-6aa284bf-5\\\")\\n   .init_gadfly();\"], false, :none, (Measures.BoundingBox{Tuple{Measures.Length{:mm,Float64},Measures.Length{:mm,Float64}},Tuple{Measures.Length{:mm,Float64},Measures.Length{:mm,Float64}}}((18.631666666666668mm, 5.0mm), (52.56833333333332mm, 26.515mm)), Compose.UnitBox{Float64,Float64,Float64,Float64}(0.5, 0.5444148345547413, 3.0, -0.5888296691094825, 0.0mm, 0.0mm, 0.0mm, 0.0mm), Compose.IdentityTransform()))"
      ]
     },
     "metadata": {},
     "output_type": "display_data"
    },
    {
     "name": "stderr",
     "output_type": "stream",
     "text": [
      "┌ Warning: For svg transparent colors, use either e.g. fill(RGBA(r,g,b,a)) or fillopacity(a), but not both.\n",
      "└ @ Compose /Users/davidlittle/.julia/packages/Compose/wlPCt/src/svg.jl:1271\n"
     ]
    }
   ],
   "source": [
    "p = plot(df_bar_plot,x=:level,y=:prop,Geom.bar,Theme(bar_spacing=0.5inch))\n",
    "draw(SVG(3inch,2inch),p)\n",
    "draw(PDF(joinpath(grantdir,\"fig3_raw.pdf\"),3inch,2inch),p)"
   ]
  }
 ],
 "metadata": {
  "kernelspec": {
   "display_name": "Julia 1.0.2",
   "language": "julia",
   "name": "julia-1.0"
  },
  "language_info": {
   "file_extension": ".jl",
   "mimetype": "application/julia",
   "name": "julia",
   "version": "1.0.3"
  }
 },
 "nbformat": 4,
 "nbformat_minor": 2
}
